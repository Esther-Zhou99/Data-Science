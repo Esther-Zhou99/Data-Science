{
  "nbformat": 4,
  "nbformat_minor": 0,
  "metadata": {
    "colab": {
      "name": "Assignment2-1.ipynb",
      "provenance": [],
      "collapsed_sections": [],
      "authorship_tag": "ABX9TyOrgxnbKryWiAZLrJkb/QZL",
      "include_colab_link": true
    },
    "kernelspec": {
      "name": "python3",
      "display_name": "Python 3"
    }
  },
  "cells": [
    {
      "cell_type": "markdown",
      "metadata": {
        "id": "view-in-github",
        "colab_type": "text"
      },
      "source": [
        "<a href=\"https://colab.research.google.com/github/Esther-Zhou99/Data-Science/blob/main/Assignment2_1.ipynb\" target=\"_parent\"><img src=\"https://colab.research.google.com/assets/colab-badge.svg\" alt=\"Open In Colab\"/></a>"
      ]
    },
    {
      "cell_type": "code",
      "metadata": {
        "id": "ezXu_bAaiYSP"
      },
      "source": [
        "from bs4 import BeautifulSoup\r\n",
        "import urllib.request\r\n",
        "import re\r\n",
        "import requests as res\r\n",
        "url='http://gutenberg.ca/index.html'\r\n",
        "req = urllib.request.Request(url)  \r\n",
        "webpage = urllib.request.urlopen(req)  \r\n",
        "html = webpage.read()\r\n",
        "soup = BeautifulSoup(html, 'html.parser')\r\n",
        "\r\n",
        "List = []\r\n",
        "target = \"hemingwaye\"\r\n",
        "for item in  soup.find_all(href=re.compile(target)):\r\n",
        "    List.append(item)\r\n",
        "\r\n",
        "links=[]\r\n",
        "name=0\r\n",
        "url2=\"http://gutenberg.ca/ebooks\"\r\n",
        "for url in List:\r\n",
        "    url1=re.findall('ebooks(.*)\\\"\\>Text\\<\\/a\\>', str(url))\r\n",
        "    if url1!=[]:\r\n",
        "        name+=1\r\n",
        "        for url3 in url1:\r\n",
        "            url=url2+str(url3)\r\n",
        "            response = res.get(url) \r\n",
        "            with open(\"Novel\"+str(name)+\".txt\",'w+',encoding ='utf=8') as file:\r\n",
        "                file.write(response.text)"
      ],
      "execution_count": 2,
      "outputs": []
    }
  ]
}