{
  "cells": [
    {
      "cell_type": "markdown",
      "metadata": {
        "id": "view-in-github",
        "colab_type": "text"
      },
      "source": [
        "<a href=\"https://colab.research.google.com/github/Esther-Zhou99/Data-Science/blob/main/BAIT509_Project_Skeleton_Notebook.ipynb\" target=\"_parent\"><img src=\"https://colab.research.google.com/assets/colab-badge.svg\" alt=\"Open In Colab\"/></a>"
      ]
    },
    {
      "cell_type": "markdown",
      "metadata": {
        "id": "9Ucvm7IH6da3"
      },
      "source": [
        "# **Final Project**, BAIT509 Winter 2023\n",
        "**Business Applications of Machine Learning [100 Marks]**\n",
        "\n",
        "**Deadline: Thursday, February 9th @ 11:59pm**\n",
        "\n",
        "**Academic Integrity**\n",
        "\n",
        "This is a group project. Do not share your code with other groups, or post any parts of your work online. You can only submit code that is produced by your group. If you use any online resource for developing parts of your code, you must explicitly acknowledge the source in a comment in your code. Students suspected of plagiarism on the project will be referred to the university for formal discipline according to the regulations.\n",
        "\n",
        "**Please note that late submissions receive a mark of 0 as per course outline and RHL regulations.**"
      ]
    },
    {
      "cell_type": "markdown",
      "metadata": {
        "id": "hGTYOwVXnmGv"
      },
      "source": [
        "Please fill out the following:\n",
        "\n",
        "• Full Names of all Group members: **Linghan Zhou, Cindy Zhang, Fanting Qi**\n",
        "\n",
        "\n",
        "• Student Numbers of all Group member: **61758959, 80767965, 93217750**\n",
        "\n",
        "\n",
        "• Group number (from Canvas): **Group 28**\n"
      ]
    },
    {
      "cell_type": "markdown",
      "source": [
        "**Two submission files are required per group:**\n",
        "\n",
        "For submitting this project, two files must be submitted on Canvas by the project deadline:\n",
        "\n",
        "1) The complete Jupyter file (in .ipynb format) (that completely compiles on Google colab without any errors independent of the computer used.)\n",
        "\n",
        "2) A self-contained and complete pdf printout of the same Jupyter file with all the output printed as well as all the code, text cells, comments, and figures."
      ],
      "metadata": {
        "id": "6CcQv6ckrdl2"
      }
    },
    {
      "cell_type": "markdown",
      "source": [
        "**Policy regarding the use of AI assistant tools**\n",
        "\n",
        "If you use ChatGPT (or a similar tool) to get ideas and/or partial answers for this project or to generate any text, you must declare that you have used it, with a couple sentences describing the extent to which it was used, and you must save any generated text from this tool in case it is requested.\n",
        "\n",
        "You will not be penalized for using such AI assistant tools, but the TA or the instructor may ask you to provide the generated text in order to help with grading decisions. In this case, your (or your group's) original contributions will be evaluated. Failure to fully declare the use of this tool will be considered \"unauthorized\" (See 3.b of the [Vancouver Academic Calendar](https://www.calendar.ubc.ca/vancouver/index.cfm?tree=3,54,111,1745))"
      ],
      "metadata": {
        "id": "quUBh4eiBU3F"
      }
    },
    {
      "cell_type": "markdown",
      "metadata": {
        "id": "xVh8MGvte8bX"
      },
      "source": [
        "## **Part 0: Loading the libraries and the data [0 Marks]**\n"
      ]
    },
    {
      "cell_type": "markdown",
      "metadata": {
        "id": "IoqhVwE1CArh"
      },
      "source": [
        "In this project, we want to develop a statistical model for the mortality rate of lung cancer in the United States.\n",
        "\n",
        "One of the parts overlooked in many machine learning projects is preprocessing. And a good way to learn it is by solving a lot of examples and test cases. A big part of this project is walking you through preprocessing, making informed decisions using your observations, and exploratory data analysis. Then we use supervised learning methods to construct models to predict the mortality rate of lung cancer using the features provided here."
      ]
    },
    {
      "cell_type": "code",
      "execution_count": 35,
      "metadata": {
        "id": "l_0pOP9oCAri"
      },
      "outputs": [],
      "source": [
        "# data wrangling tools\n",
        "import pandas as pd\n",
        "import numpy as np\n",
        "\n",
        "# visualization\n",
        "import matplotlib.pyplot as plt\n",
        "import seaborn as sns\n",
        "\n",
        "# statistical learning\n",
        "import statsmodels.api as sm\n",
        "import statsmodels.formula.api as smf\n",
        "from statsmodels.stats.outliers_influence import variance_inflation_factor"
      ]
    },
    {
      "cell_type": "markdown",
      "metadata": {
        "id": "lptn5jZwCArj"
      },
      "source": [
        "\n",
        "## Loading data\n",
        "Load the three csv files as pandas dataframes directly from their URLs."
      ]
    },
    {
      "cell_type": "code",
      "execution_count": 36,
      "metadata": {
        "id": "xvrtrm-0CArj"
      },
      "outputs": [],
      "source": [
        "fulldf = pd.read_csv('https://saref.github.io/teaching/BAIT509/mydata.csv').drop(columns='Unnamed: 0')\n",
        "data_dict = pd.read_csv('https://saref.github.io/teaching/BAIT509/descriptions.csv')\n",
        "populationdf = pd.read_csv('https://saref.github.io/teaching/BAIT509/populations.csv').drop(columns='Unnamed: 0')"
      ]
    },
    {
      "cell_type": "markdown",
      "metadata": {
        "id": "jf17VitZCArk"
      },
      "source": [
        "Data set `mydata.csv` includes most of the data. Explanations on the meaning of each of the columns are included in `descriptions.csv`. Please take your time to understand the three dataframes before proceeding."
      ]
    },
    {
      "cell_type": "markdown",
      "source": [
        "## **Part 1: Getting started [40 Marks]**"
      ],
      "metadata": {
        "id": "LbfUFDO6ULK9"
      }
    },
    {
      "cell_type": "markdown",
      "metadata": {
        "id": "ugHfLdr3CArk"
      },
      "source": [
        "## Data cleaning\n",
        "In this project, we go through specific data cleaning steps. Please read through the instructions carefully.\n",
        "\n",
        "\n",
        "### 1.1 Convert `FIPS` column to correct format [5 Marks]\n",
        "Federal Information Processing Standard or [FIPS](https://en.wikipedia.org/wiki/FIPS_county_code) is a categorical variable. It is a code with five digits. The left two digits showing the state and the three right digits showing the county code. We recognize that desipite being a number, FIPS is actually a categorical variable.\n",
        "First, check the format of the `FIPS` column and convert them to the five digit format with type `np.object_` as seen in the county level section, [here](https://transition.fcc.gov/oet/info/maps/census/fips/fips.txt#:~:text=county%2Dlevel%20%20%20%20%20%20place). \n",
        "\n",
        "*Hint*: You can use [apply](https://pandas.pydata.org/docs/reference/api/pandas.DataFrame.apply.html) to first convert the type and then use [`str.pad`](https://pandas.pydata.org/docs/reference/api/pandas.Series.str.pad.html) to format the values as five digit numbers."
      ]
    },
    {
      "cell_type": "code",
      "source": [
        "fulldf.head()"
      ],
      "metadata": {
        "id": "70WHeWyBrTI0",
        "colab": {
          "base_uri": "https://localhost:8080/",
          "height": 490
        },
        "outputId": "0696b6d8-4628-440f-e2bc-7f6d2f91075a"
      },
      "execution_count": 37,
      "outputs": [
        {
          "output_type": "execute_result",
          "data": {
            "text/plain": [
              "  State                            AreaName  All_Poverty  M_Poverty  \\\n",
              "0    AK      Aleutians East Borough, Alaska          553        334   \n",
              "1    AK  Aleutians West Census Area, Alaska          499        273   \n",
              "2    AK      Anchorage Municipality, Alaska        23914      10698   \n",
              "3    AK          Bethel Census Area, Alaska         4364       2199   \n",
              "4    AK         Bristol Bay Borough, Alaska           69         33   \n",
              "\n",
              "   F_Poverty  FIPS  Med_Income  Med_Income_White  Med_Income_Black  \\\n",
              "0        219  2013     61518.0           72639.0           31250.0   \n",
              "1        226  2016     84306.0           97321.0           93750.0   \n",
              "2      13216  2020     78326.0           87235.0           50535.0   \n",
              "3       2165  2050     51012.0           92647.0           73661.0   \n",
              "4         36  2060     79750.0           88000.0               NaN   \n",
              "\n",
              "   Med_Income_Nat_Am  ...  M_Without  F_With  F_Without  All_With  \\\n",
              "0            54750.0  ...       1317     566        540      1442   \n",
              "1            48750.0  ...        769    1707        564      4177   \n",
              "2            53935.0  ...      23245  122426      21393    243173   \n",
              "3            41594.0  ...       2708    6627       1774     13023   \n",
              "4            63333.0  ...        124     349         67       768   \n",
              "\n",
              "   All_Without  Incidence_Rate  Avg_Ann_Incidence  Recent_Trend  \\\n",
              "0         1857               *         3 or fewer             *   \n",
              "1         1333               *         3 or fewer             *   \n",
              "2        44638            61.5                131        stable   \n",
              "3         4482            62.7                  6        stable   \n",
              "4          191               *         3 or fewer             *   \n",
              "\n",
              "  Mortality_Rate Avg_Ann_Deaths  \n",
              "0              *              *  \n",
              "1              *              *  \n",
              "2           47.3             96  \n",
              "3           58.3              5  \n",
              "4              *              *  \n",
              "\n",
              "[5 rows x 23 columns]"
            ],
            "text/html": [
              "\n",
              "  <div id=\"df-0cd85f8b-b190-4648-8879-9a30f884a6ad\">\n",
              "    <div class=\"colab-df-container\">\n",
              "      <div>\n",
              "<style scoped>\n",
              "    .dataframe tbody tr th:only-of-type {\n",
              "        vertical-align: middle;\n",
              "    }\n",
              "\n",
              "    .dataframe tbody tr th {\n",
              "        vertical-align: top;\n",
              "    }\n",
              "\n",
              "    .dataframe thead th {\n",
              "        text-align: right;\n",
              "    }\n",
              "</style>\n",
              "<table border=\"1\" class=\"dataframe\">\n",
              "  <thead>\n",
              "    <tr style=\"text-align: right;\">\n",
              "      <th></th>\n",
              "      <th>State</th>\n",
              "      <th>AreaName</th>\n",
              "      <th>All_Poverty</th>\n",
              "      <th>M_Poverty</th>\n",
              "      <th>F_Poverty</th>\n",
              "      <th>FIPS</th>\n",
              "      <th>Med_Income</th>\n",
              "      <th>Med_Income_White</th>\n",
              "      <th>Med_Income_Black</th>\n",
              "      <th>Med_Income_Nat_Am</th>\n",
              "      <th>...</th>\n",
              "      <th>M_Without</th>\n",
              "      <th>F_With</th>\n",
              "      <th>F_Without</th>\n",
              "      <th>All_With</th>\n",
              "      <th>All_Without</th>\n",
              "      <th>Incidence_Rate</th>\n",
              "      <th>Avg_Ann_Incidence</th>\n",
              "      <th>Recent_Trend</th>\n",
              "      <th>Mortality_Rate</th>\n",
              "      <th>Avg_Ann_Deaths</th>\n",
              "    </tr>\n",
              "  </thead>\n",
              "  <tbody>\n",
              "    <tr>\n",
              "      <th>0</th>\n",
              "      <td>AK</td>\n",
              "      <td>Aleutians East Borough, Alaska</td>\n",
              "      <td>553</td>\n",
              "      <td>334</td>\n",
              "      <td>219</td>\n",
              "      <td>2013</td>\n",
              "      <td>61518.0</td>\n",
              "      <td>72639.0</td>\n",
              "      <td>31250.0</td>\n",
              "      <td>54750.0</td>\n",
              "      <td>...</td>\n",
              "      <td>1317</td>\n",
              "      <td>566</td>\n",
              "      <td>540</td>\n",
              "      <td>1442</td>\n",
              "      <td>1857</td>\n",
              "      <td>*</td>\n",
              "      <td>3 or fewer</td>\n",
              "      <td>*</td>\n",
              "      <td>*</td>\n",
              "      <td>*</td>\n",
              "    </tr>\n",
              "    <tr>\n",
              "      <th>1</th>\n",
              "      <td>AK</td>\n",
              "      <td>Aleutians West Census Area, Alaska</td>\n",
              "      <td>499</td>\n",
              "      <td>273</td>\n",
              "      <td>226</td>\n",
              "      <td>2016</td>\n",
              "      <td>84306.0</td>\n",
              "      <td>97321.0</td>\n",
              "      <td>93750.0</td>\n",
              "      <td>48750.0</td>\n",
              "      <td>...</td>\n",
              "      <td>769</td>\n",
              "      <td>1707</td>\n",
              "      <td>564</td>\n",
              "      <td>4177</td>\n",
              "      <td>1333</td>\n",
              "      <td>*</td>\n",
              "      <td>3 or fewer</td>\n",
              "      <td>*</td>\n",
              "      <td>*</td>\n",
              "      <td>*</td>\n",
              "    </tr>\n",
              "    <tr>\n",
              "      <th>2</th>\n",
              "      <td>AK</td>\n",
              "      <td>Anchorage Municipality, Alaska</td>\n",
              "      <td>23914</td>\n",
              "      <td>10698</td>\n",
              "      <td>13216</td>\n",
              "      <td>2020</td>\n",
              "      <td>78326.0</td>\n",
              "      <td>87235.0</td>\n",
              "      <td>50535.0</td>\n",
              "      <td>53935.0</td>\n",
              "      <td>...</td>\n",
              "      <td>23245</td>\n",
              "      <td>122426</td>\n",
              "      <td>21393</td>\n",
              "      <td>243173</td>\n",
              "      <td>44638</td>\n",
              "      <td>61.5</td>\n",
              "      <td>131</td>\n",
              "      <td>stable</td>\n",
              "      <td>47.3</td>\n",
              "      <td>96</td>\n",
              "    </tr>\n",
              "    <tr>\n",
              "      <th>3</th>\n",
              "      <td>AK</td>\n",
              "      <td>Bethel Census Area, Alaska</td>\n",
              "      <td>4364</td>\n",
              "      <td>2199</td>\n",
              "      <td>2165</td>\n",
              "      <td>2050</td>\n",
              "      <td>51012.0</td>\n",
              "      <td>92647.0</td>\n",
              "      <td>73661.0</td>\n",
              "      <td>41594.0</td>\n",
              "      <td>...</td>\n",
              "      <td>2708</td>\n",
              "      <td>6627</td>\n",
              "      <td>1774</td>\n",
              "      <td>13023</td>\n",
              "      <td>4482</td>\n",
              "      <td>62.7</td>\n",
              "      <td>6</td>\n",
              "      <td>stable</td>\n",
              "      <td>58.3</td>\n",
              "      <td>5</td>\n",
              "    </tr>\n",
              "    <tr>\n",
              "      <th>4</th>\n",
              "      <td>AK</td>\n",
              "      <td>Bristol Bay Borough, Alaska</td>\n",
              "      <td>69</td>\n",
              "      <td>33</td>\n",
              "      <td>36</td>\n",
              "      <td>2060</td>\n",
              "      <td>79750.0</td>\n",
              "      <td>88000.0</td>\n",
              "      <td>NaN</td>\n",
              "      <td>63333.0</td>\n",
              "      <td>...</td>\n",
              "      <td>124</td>\n",
              "      <td>349</td>\n",
              "      <td>67</td>\n",
              "      <td>768</td>\n",
              "      <td>191</td>\n",
              "      <td>*</td>\n",
              "      <td>3 or fewer</td>\n",
              "      <td>*</td>\n",
              "      <td>*</td>\n",
              "      <td>*</td>\n",
              "    </tr>\n",
              "  </tbody>\n",
              "</table>\n",
              "<p>5 rows × 23 columns</p>\n",
              "</div>\n",
              "      <button class=\"colab-df-convert\" onclick=\"convertToInteractive('df-0cd85f8b-b190-4648-8879-9a30f884a6ad')\"\n",
              "              title=\"Convert this dataframe to an interactive table.\"\n",
              "              style=\"display:none;\">\n",
              "        \n",
              "  <svg xmlns=\"http://www.w3.org/2000/svg\" height=\"24px\"viewBox=\"0 0 24 24\"\n",
              "       width=\"24px\">\n",
              "    <path d=\"M0 0h24v24H0V0z\" fill=\"none\"/>\n",
              "    <path d=\"M18.56 5.44l.94 2.06.94-2.06 2.06-.94-2.06-.94-.94-2.06-.94 2.06-2.06.94zm-11 1L8.5 8.5l.94-2.06 2.06-.94-2.06-.94L8.5 2.5l-.94 2.06-2.06.94zm10 10l.94 2.06.94-2.06 2.06-.94-2.06-.94-.94-2.06-.94 2.06-2.06.94z\"/><path d=\"M17.41 7.96l-1.37-1.37c-.4-.4-.92-.59-1.43-.59-.52 0-1.04.2-1.43.59L10.3 9.45l-7.72 7.72c-.78.78-.78 2.05 0 2.83L4 21.41c.39.39.9.59 1.41.59.51 0 1.02-.2 1.41-.59l7.78-7.78 2.81-2.81c.8-.78.8-2.07 0-2.86zM5.41 20L4 18.59l7.72-7.72 1.47 1.35L5.41 20z\"/>\n",
              "  </svg>\n",
              "      </button>\n",
              "      \n",
              "  <style>\n",
              "    .colab-df-container {\n",
              "      display:flex;\n",
              "      flex-wrap:wrap;\n",
              "      gap: 12px;\n",
              "    }\n",
              "\n",
              "    .colab-df-convert {\n",
              "      background-color: #E8F0FE;\n",
              "      border: none;\n",
              "      border-radius: 50%;\n",
              "      cursor: pointer;\n",
              "      display: none;\n",
              "      fill: #1967D2;\n",
              "      height: 32px;\n",
              "      padding: 0 0 0 0;\n",
              "      width: 32px;\n",
              "    }\n",
              "\n",
              "    .colab-df-convert:hover {\n",
              "      background-color: #E2EBFA;\n",
              "      box-shadow: 0px 1px 2px rgba(60, 64, 67, 0.3), 0px 1px 3px 1px rgba(60, 64, 67, 0.15);\n",
              "      fill: #174EA6;\n",
              "    }\n",
              "\n",
              "    [theme=dark] .colab-df-convert {\n",
              "      background-color: #3B4455;\n",
              "      fill: #D2E3FC;\n",
              "    }\n",
              "\n",
              "    [theme=dark] .colab-df-convert:hover {\n",
              "      background-color: #434B5C;\n",
              "      box-shadow: 0px 1px 3px 1px rgba(0, 0, 0, 0.15);\n",
              "      filter: drop-shadow(0px 1px 2px rgba(0, 0, 0, 0.3));\n",
              "      fill: #FFFFFF;\n",
              "    }\n",
              "  </style>\n",
              "\n",
              "      <script>\n",
              "        const buttonEl =\n",
              "          document.querySelector('#df-0cd85f8b-b190-4648-8879-9a30f884a6ad button.colab-df-convert');\n",
              "        buttonEl.style.display =\n",
              "          google.colab.kernel.accessAllowed ? 'block' : 'none';\n",
              "\n",
              "        async function convertToInteractive(key) {\n",
              "          const element = document.querySelector('#df-0cd85f8b-b190-4648-8879-9a30f884a6ad');\n",
              "          const dataTable =\n",
              "            await google.colab.kernel.invokeFunction('convertToInteractive',\n",
              "                                                     [key], {});\n",
              "          if (!dataTable) return;\n",
              "\n",
              "          const docLinkHtml = 'Like what you see? Visit the ' +\n",
              "            '<a target=\"_blank\" href=https://colab.research.google.com/notebooks/data_table.ipynb>data table notebook</a>'\n",
              "            + ' to learn more about interactive tables.';\n",
              "          element.innerHTML = '';\n",
              "          dataTable['output_type'] = 'display_data';\n",
              "          await google.colab.output.renderOutput(dataTable, element);\n",
              "          const docLink = document.createElement('div');\n",
              "          docLink.innerHTML = docLinkHtml;\n",
              "          element.appendChild(docLink);\n",
              "        }\n",
              "      </script>\n",
              "    </div>\n",
              "  </div>\n",
              "  "
            ]
          },
          "metadata": {},
          "execution_count": 37
        }
      ]
    },
    {
      "cell_type": "code",
      "source": [
        "# Check the format of the FIPS column\n",
        "print(fulldf[\"FIPS\"].dtype)"
      ],
      "metadata": {
        "id": "5Cp5TAFlT1Fo",
        "colab": {
          "base_uri": "https://localhost:8080/"
        },
        "outputId": "5b03102d-d05e-4557-ddbe-5ce139e5067b"
      },
      "execution_count": 38,
      "outputs": [
        {
          "output_type": "stream",
          "name": "stdout",
          "text": [
            "int64\n"
          ]
        }
      ]
    },
    {
      "cell_type": "code",
      "source": [
        "# Convert the integer type to string\n",
        "fulldf[\"FIPS\"]= fulldf[\"FIPS\"].astype(str) \n",
        "# Format the values as five digit numbers by filling with \"0\"\n",
        "fulldf[\"FIPS\"]= fulldf[\"FIPS\"].str.pad(width=5, side=\"left\", fillchar=\"0\")\n",
        "# Convert the type to object.\n",
        "fulldf[\"FIPS\"]= fulldf[\"FIPS\"].astype(np.object) "
      ],
      "metadata": {
        "id": "JlHv1r3nT1ap",
        "colab": {
          "base_uri": "https://localhost:8080/"
        },
        "outputId": "07ff3e80-e1e1-4c8e-fcd2-2d131f818bbc"
      },
      "execution_count": 39,
      "outputs": [
        {
          "output_type": "stream",
          "name": "stderr",
          "text": [
            "<ipython-input-39-1f9dc79447e3>:6: DeprecationWarning: `np.object` is a deprecated alias for the builtin `object`. To silence this warning, use `object` by itself. Doing this will not modify any behavior and is safe. \n",
            "Deprecated in NumPy 1.20; for more details and guidance: https://numpy.org/devdocs/release/1.20.0-notes.html#deprecations\n",
            "  fulldf[\"FIPS\"]= fulldf[\"FIPS\"].astype(np.object)\n"
          ]
        }
      ]
    },
    {
      "cell_type": "code",
      "source": [
        "fulldf.head()"
      ],
      "metadata": {
        "id": "uxFmcXwFXCNv",
        "colab": {
          "base_uri": "https://localhost:8080/",
          "height": 490
        },
        "outputId": "902da8cc-4ade-4403-d2f3-d438edeadcc3"
      },
      "execution_count": 40,
      "outputs": [
        {
          "output_type": "execute_result",
          "data": {
            "text/plain": [
              "  State                            AreaName  All_Poverty  M_Poverty  \\\n",
              "0    AK      Aleutians East Borough, Alaska          553        334   \n",
              "1    AK  Aleutians West Census Area, Alaska          499        273   \n",
              "2    AK      Anchorage Municipality, Alaska        23914      10698   \n",
              "3    AK          Bethel Census Area, Alaska         4364       2199   \n",
              "4    AK         Bristol Bay Borough, Alaska           69         33   \n",
              "\n",
              "   F_Poverty   FIPS  Med_Income  Med_Income_White  Med_Income_Black  \\\n",
              "0        219  02013     61518.0           72639.0           31250.0   \n",
              "1        226  02016     84306.0           97321.0           93750.0   \n",
              "2      13216  02020     78326.0           87235.0           50535.0   \n",
              "3       2165  02050     51012.0           92647.0           73661.0   \n",
              "4         36  02060     79750.0           88000.0               NaN   \n",
              "\n",
              "   Med_Income_Nat_Am  ...  M_Without  F_With  F_Without  All_With  \\\n",
              "0            54750.0  ...       1317     566        540      1442   \n",
              "1            48750.0  ...        769    1707        564      4177   \n",
              "2            53935.0  ...      23245  122426      21393    243173   \n",
              "3            41594.0  ...       2708    6627       1774     13023   \n",
              "4            63333.0  ...        124     349         67       768   \n",
              "\n",
              "   All_Without  Incidence_Rate  Avg_Ann_Incidence  Recent_Trend  \\\n",
              "0         1857               *         3 or fewer             *   \n",
              "1         1333               *         3 or fewer             *   \n",
              "2        44638            61.5                131        stable   \n",
              "3         4482            62.7                  6        stable   \n",
              "4          191               *         3 or fewer             *   \n",
              "\n",
              "  Mortality_Rate Avg_Ann_Deaths  \n",
              "0              *              *  \n",
              "1              *              *  \n",
              "2           47.3             96  \n",
              "3           58.3              5  \n",
              "4              *              *  \n",
              "\n",
              "[5 rows x 23 columns]"
            ],
            "text/html": [
              "\n",
              "  <div id=\"df-5b82a873-8aac-47f0-bc44-adc85f68044f\">\n",
              "    <div class=\"colab-df-container\">\n",
              "      <div>\n",
              "<style scoped>\n",
              "    .dataframe tbody tr th:only-of-type {\n",
              "        vertical-align: middle;\n",
              "    }\n",
              "\n",
              "    .dataframe tbody tr th {\n",
              "        vertical-align: top;\n",
              "    }\n",
              "\n",
              "    .dataframe thead th {\n",
              "        text-align: right;\n",
              "    }\n",
              "</style>\n",
              "<table border=\"1\" class=\"dataframe\">\n",
              "  <thead>\n",
              "    <tr style=\"text-align: right;\">\n",
              "      <th></th>\n",
              "      <th>State</th>\n",
              "      <th>AreaName</th>\n",
              "      <th>All_Poverty</th>\n",
              "      <th>M_Poverty</th>\n",
              "      <th>F_Poverty</th>\n",
              "      <th>FIPS</th>\n",
              "      <th>Med_Income</th>\n",
              "      <th>Med_Income_White</th>\n",
              "      <th>Med_Income_Black</th>\n",
              "      <th>Med_Income_Nat_Am</th>\n",
              "      <th>...</th>\n",
              "      <th>M_Without</th>\n",
              "      <th>F_With</th>\n",
              "      <th>F_Without</th>\n",
              "      <th>All_With</th>\n",
              "      <th>All_Without</th>\n",
              "      <th>Incidence_Rate</th>\n",
              "      <th>Avg_Ann_Incidence</th>\n",
              "      <th>Recent_Trend</th>\n",
              "      <th>Mortality_Rate</th>\n",
              "      <th>Avg_Ann_Deaths</th>\n",
              "    </tr>\n",
              "  </thead>\n",
              "  <tbody>\n",
              "    <tr>\n",
              "      <th>0</th>\n",
              "      <td>AK</td>\n",
              "      <td>Aleutians East Borough, Alaska</td>\n",
              "      <td>553</td>\n",
              "      <td>334</td>\n",
              "      <td>219</td>\n",
              "      <td>02013</td>\n",
              "      <td>61518.0</td>\n",
              "      <td>72639.0</td>\n",
              "      <td>31250.0</td>\n",
              "      <td>54750.0</td>\n",
              "      <td>...</td>\n",
              "      <td>1317</td>\n",
              "      <td>566</td>\n",
              "      <td>540</td>\n",
              "      <td>1442</td>\n",
              "      <td>1857</td>\n",
              "      <td>*</td>\n",
              "      <td>3 or fewer</td>\n",
              "      <td>*</td>\n",
              "      <td>*</td>\n",
              "      <td>*</td>\n",
              "    </tr>\n",
              "    <tr>\n",
              "      <th>1</th>\n",
              "      <td>AK</td>\n",
              "      <td>Aleutians West Census Area, Alaska</td>\n",
              "      <td>499</td>\n",
              "      <td>273</td>\n",
              "      <td>226</td>\n",
              "      <td>02016</td>\n",
              "      <td>84306.0</td>\n",
              "      <td>97321.0</td>\n",
              "      <td>93750.0</td>\n",
              "      <td>48750.0</td>\n",
              "      <td>...</td>\n",
              "      <td>769</td>\n",
              "      <td>1707</td>\n",
              "      <td>564</td>\n",
              "      <td>4177</td>\n",
              "      <td>1333</td>\n",
              "      <td>*</td>\n",
              "      <td>3 or fewer</td>\n",
              "      <td>*</td>\n",
              "      <td>*</td>\n",
              "      <td>*</td>\n",
              "    </tr>\n",
              "    <tr>\n",
              "      <th>2</th>\n",
              "      <td>AK</td>\n",
              "      <td>Anchorage Municipality, Alaska</td>\n",
              "      <td>23914</td>\n",
              "      <td>10698</td>\n",
              "      <td>13216</td>\n",
              "      <td>02020</td>\n",
              "      <td>78326.0</td>\n",
              "      <td>87235.0</td>\n",
              "      <td>50535.0</td>\n",
              "      <td>53935.0</td>\n",
              "      <td>...</td>\n",
              "      <td>23245</td>\n",
              "      <td>122426</td>\n",
              "      <td>21393</td>\n",
              "      <td>243173</td>\n",
              "      <td>44638</td>\n",
              "      <td>61.5</td>\n",
              "      <td>131</td>\n",
              "      <td>stable</td>\n",
              "      <td>47.3</td>\n",
              "      <td>96</td>\n",
              "    </tr>\n",
              "    <tr>\n",
              "      <th>3</th>\n",
              "      <td>AK</td>\n",
              "      <td>Bethel Census Area, Alaska</td>\n",
              "      <td>4364</td>\n",
              "      <td>2199</td>\n",
              "      <td>2165</td>\n",
              "      <td>02050</td>\n",
              "      <td>51012.0</td>\n",
              "      <td>92647.0</td>\n",
              "      <td>73661.0</td>\n",
              "      <td>41594.0</td>\n",
              "      <td>...</td>\n",
              "      <td>2708</td>\n",
              "      <td>6627</td>\n",
              "      <td>1774</td>\n",
              "      <td>13023</td>\n",
              "      <td>4482</td>\n",
              "      <td>62.7</td>\n",
              "      <td>6</td>\n",
              "      <td>stable</td>\n",
              "      <td>58.3</td>\n",
              "      <td>5</td>\n",
              "    </tr>\n",
              "    <tr>\n",
              "      <th>4</th>\n",
              "      <td>AK</td>\n",
              "      <td>Bristol Bay Borough, Alaska</td>\n",
              "      <td>69</td>\n",
              "      <td>33</td>\n",
              "      <td>36</td>\n",
              "      <td>02060</td>\n",
              "      <td>79750.0</td>\n",
              "      <td>88000.0</td>\n",
              "      <td>NaN</td>\n",
              "      <td>63333.0</td>\n",
              "      <td>...</td>\n",
              "      <td>124</td>\n",
              "      <td>349</td>\n",
              "      <td>67</td>\n",
              "      <td>768</td>\n",
              "      <td>191</td>\n",
              "      <td>*</td>\n",
              "      <td>3 or fewer</td>\n",
              "      <td>*</td>\n",
              "      <td>*</td>\n",
              "      <td>*</td>\n",
              "    </tr>\n",
              "  </tbody>\n",
              "</table>\n",
              "<p>5 rows × 23 columns</p>\n",
              "</div>\n",
              "      <button class=\"colab-df-convert\" onclick=\"convertToInteractive('df-5b82a873-8aac-47f0-bc44-adc85f68044f')\"\n",
              "              title=\"Convert this dataframe to an interactive table.\"\n",
              "              style=\"display:none;\">\n",
              "        \n",
              "  <svg xmlns=\"http://www.w3.org/2000/svg\" height=\"24px\"viewBox=\"0 0 24 24\"\n",
              "       width=\"24px\">\n",
              "    <path d=\"M0 0h24v24H0V0z\" fill=\"none\"/>\n",
              "    <path d=\"M18.56 5.44l.94 2.06.94-2.06 2.06-.94-2.06-.94-.94-2.06-.94 2.06-2.06.94zm-11 1L8.5 8.5l.94-2.06 2.06-.94-2.06-.94L8.5 2.5l-.94 2.06-2.06.94zm10 10l.94 2.06.94-2.06 2.06-.94-2.06-.94-.94-2.06-.94 2.06-2.06.94z\"/><path d=\"M17.41 7.96l-1.37-1.37c-.4-.4-.92-.59-1.43-.59-.52 0-1.04.2-1.43.59L10.3 9.45l-7.72 7.72c-.78.78-.78 2.05 0 2.83L4 21.41c.39.39.9.59 1.41.59.51 0 1.02-.2 1.41-.59l7.78-7.78 2.81-2.81c.8-.78.8-2.07 0-2.86zM5.41 20L4 18.59l7.72-7.72 1.47 1.35L5.41 20z\"/>\n",
              "  </svg>\n",
              "      </button>\n",
              "      \n",
              "  <style>\n",
              "    .colab-df-container {\n",
              "      display:flex;\n",
              "      flex-wrap:wrap;\n",
              "      gap: 12px;\n",
              "    }\n",
              "\n",
              "    .colab-df-convert {\n",
              "      background-color: #E8F0FE;\n",
              "      border: none;\n",
              "      border-radius: 50%;\n",
              "      cursor: pointer;\n",
              "      display: none;\n",
              "      fill: #1967D2;\n",
              "      height: 32px;\n",
              "      padding: 0 0 0 0;\n",
              "      width: 32px;\n",
              "    }\n",
              "\n",
              "    .colab-df-convert:hover {\n",
              "      background-color: #E2EBFA;\n",
              "      box-shadow: 0px 1px 2px rgba(60, 64, 67, 0.3), 0px 1px 3px 1px rgba(60, 64, 67, 0.15);\n",
              "      fill: #174EA6;\n",
              "    }\n",
              "\n",
              "    [theme=dark] .colab-df-convert {\n",
              "      background-color: #3B4455;\n",
              "      fill: #D2E3FC;\n",
              "    }\n",
              "\n",
              "    [theme=dark] .colab-df-convert:hover {\n",
              "      background-color: #434B5C;\n",
              "      box-shadow: 0px 1px 3px 1px rgba(0, 0, 0, 0.15);\n",
              "      filter: drop-shadow(0px 1px 2px rgba(0, 0, 0, 0.3));\n",
              "      fill: #FFFFFF;\n",
              "    }\n",
              "  </style>\n",
              "\n",
              "      <script>\n",
              "        const buttonEl =\n",
              "          document.querySelector('#df-5b82a873-8aac-47f0-bc44-adc85f68044f button.colab-df-convert');\n",
              "        buttonEl.style.display =\n",
              "          google.colab.kernel.accessAllowed ? 'block' : 'none';\n",
              "\n",
              "        async function convertToInteractive(key) {\n",
              "          const element = document.querySelector('#df-5b82a873-8aac-47f0-bc44-adc85f68044f');\n",
              "          const dataTable =\n",
              "            await google.colab.kernel.invokeFunction('convertToInteractive',\n",
              "                                                     [key], {});\n",
              "          if (!dataTable) return;\n",
              "\n",
              "          const docLinkHtml = 'Like what you see? Visit the ' +\n",
              "            '<a target=\"_blank\" href=https://colab.research.google.com/notebooks/data_table.ipynb>data table notebook</a>'\n",
              "            + ' to learn more about interactive tables.';\n",
              "          element.innerHTML = '';\n",
              "          dataTable['output_type'] = 'display_data';\n",
              "          await google.colab.output.renderOutput(dataTable, element);\n",
              "          const docLink = document.createElement('div');\n",
              "          docLink.innerHTML = docLinkHtml;\n",
              "          element.appendChild(docLink);\n",
              "        }\n",
              "      </script>\n",
              "    </div>\n",
              "  </div>\n",
              "  "
            ]
          },
          "metadata": {},
          "execution_count": 40
        }
      ]
    },
    {
      "cell_type": "code",
      "source": [
        "# Check the format of the FIPS column again to validate\n",
        "print(fulldf[\"FIPS\"].dtype)"
      ],
      "metadata": {
        "id": "LVGwv2boQPsA",
        "colab": {
          "base_uri": "https://localhost:8080/"
        },
        "outputId": "1e684482-2b91-4007-94de-a07426b55d30"
      },
      "execution_count": 41,
      "outputs": [
        {
          "output_type": "stream",
          "name": "stdout",
          "text": [
            "object\n"
          ]
        }
      ]
    },
    {
      "cell_type": "markdown",
      "metadata": {
        "id": "TF-s31UPCArm"
      },
      "source": [
        "### 1.2 Check for null values [5 Marks]\n",
        "\n",
        "Just check for null values and remove columns whenever the percentage of null values is greater than 20. Please briefly justify your choices w.r.t. the columns you have removed."
      ]
    },
    {
      "cell_type": "code",
      "source": [
        "# Calculate the total cells of a column\n",
        "total_cells =  fulldf.shape[0]\n",
        "# Calculate the total null values \n",
        "total_missing = fulldf.isnull().sum()\n",
        "# Calculate the percentage of null values \n",
        "percent_missing = (total_missing/total_cells) * 100\n",
        "# Create a new dataframe df1 to keep the columns that have a percentage of null values less than 20% \n",
        "df1 = fulldf.loc[:, percent_missing <= 20]\n",
        "# Check the shape of fulldf and df1\n",
        "print(fulldf.shape)\n",
        "print(df1.shape)"
      ],
      "metadata": {
        "id": "o3Wo1_kKRhaq",
        "colab": {
          "base_uri": "https://localhost:8080/"
        },
        "outputId": "82852e80-ab7f-4954-fbf6-238d56640c26"
      },
      "execution_count": 42,
      "outputs": [
        {
          "output_type": "stream",
          "name": "stdout",
          "text": [
            "(3134, 23)\n",
            "(3134, 19)\n"
          ]
        }
      ]
    },
    {
      "cell_type": "code",
      "source": [
        "# List the column names that we have decided to remove\n",
        "df_drop = fulldf.loc[:, percent_missing > 20]\n",
        "print(list(df_drop.columns))"
      ],
      "metadata": {
        "id": "Y5asMxjNUg_A",
        "colab": {
          "base_uri": "https://localhost:8080/"
        },
        "outputId": "4a9ddbe4-672b-4f2a-fc1d-78305263b612"
      },
      "execution_count": 43,
      "outputs": [
        {
          "output_type": "stream",
          "name": "stdout",
          "text": [
            "['Med_Income_Black', 'Med_Income_Nat_Am', 'Med_Income_Asian', 'Med_Income_Hispanic']\n"
          ]
        }
      ]
    },
    {
      "cell_type": "markdown",
      "source": [
        "The reasoning behind removing columns with more than 20% missing values is that a large amount of missing data in these columns will significantly impact the accuracy and validity of the predictions. By removing these columns, the data will be cleaner and more reliable.\n",
        "The removed columns are \"**Med_Income_Black**\", \"**Med_Income_Nat_Am**\", \"**Med_Income_Asian**\", and \"**Med_Income_Hispanic**\"."
      ],
      "metadata": {
        "id": "9vmvG9SzUAer"
      }
    },
    {
      "cell_type": "markdown",
      "metadata": {
        "id": "Cee43WRiCArm"
      },
      "source": [
        "### 1.3 Check the format of columns [5 Marks]\n",
        "Report the format of each column. List the columns that are in an unexpected format and state why you think that is the case.\n",
        "\n",
        "*Hint*: You can do this by either inspecting the dataframe or by writing a code snippet that tells you what cells cannot be reformatted to the correct format. The Titatinc Jupyter file that we covered in class may also give you some useful ideas."
      ]
    },
    {
      "cell_type": "code",
      "execution_count": 44,
      "metadata": {
        "id": "zy4cHwKhCArn",
        "colab": {
          "base_uri": "https://localhost:8080/"
        },
        "outputId": "b79b6fc0-86fb-4168-8869-922c06507269"
      },
      "outputs": [
        {
          "output_type": "execute_result",
          "data": {
            "text/plain": [
              "State                 object\n",
              "AreaName              object\n",
              "All_Poverty            int64\n",
              "M_Poverty              int64\n",
              "F_Poverty              int64\n",
              "FIPS                  object\n",
              "Med_Income           float64\n",
              "Med_Income_White     float64\n",
              "M_With                 int64\n",
              "M_Without              int64\n",
              "F_With                 int64\n",
              "F_Without              int64\n",
              "All_With               int64\n",
              "All_Without            int64\n",
              "Incidence_Rate        object\n",
              "Avg_Ann_Incidence     object\n",
              "Recent_Trend          object\n",
              "Mortality_Rate        object\n",
              "Avg_Ann_Deaths        object\n",
              "dtype: object"
            ]
          },
          "metadata": {},
          "execution_count": 44
        }
      ],
      "source": [
        "# Check the format of columns\n",
        "df1.dtypes"
      ]
    },
    {
      "cell_type": "markdown",
      "source": [
        "The columns that are in an unexpected format are \"**Incidence_Rate**\", \"**Avg_Ann_Incidence**\", \"**Mortality_Rate**\", and \"**Avg_Ann_Deaths**\". </br>\n",
        "These columns contain numerical values, but are stored as objects. The reason they are stored as objects is because the data may contain non-numeric characters, such as commas, dollar signs, or percentage signs, which cannot be stored as numerical data types."
      ],
      "metadata": {
        "id": "nrvj9m2nV4Qd"
      }
    },
    {
      "cell_type": "markdown",
      "metadata": {
        "id": "JnvZzvjACArn"
      },
      "source": [
        "### 1.4 Merge the population data to the main dataframe [5 Marks]\n",
        "You already know about FIPS. You can use the state and county columns in this dataset to construct a FIPS column in the population dataframe in the same format as the main dataframe. Then merge the population data to the main dataframe. It is up to you to decide the type of merge and whether it is done properly."
      ]
    },
    {
      "cell_type": "code",
      "source": [
        "# Check the populationdf\n",
        "populationdf.head()"
      ],
      "metadata": {
        "id": "ENkpH_zpZVuX",
        "colab": {
          "base_uri": "https://localhost:8080/",
          "height": 206
        },
        "outputId": "af9a9498-ad47-4994-b753-6ca10cab5aa8"
      },
      "execution_count": 45,
      "outputs": [
        {
          "output_type": "execute_result",
          "data": {
            "text/plain": [
              "   POPESTIMATE2015  STATE  COUNTY\n",
              "0          4858979      1       0\n",
              "1            55347      1       1\n",
              "2           203709      1       3\n",
              "3            26489      1       5\n",
              "4            22583      1       7"
            ],
            "text/html": [
              "\n",
              "  <div id=\"df-78b294f6-ee16-4d5d-8aff-a4bf8b173c72\">\n",
              "    <div class=\"colab-df-container\">\n",
              "      <div>\n",
              "<style scoped>\n",
              "    .dataframe tbody tr th:only-of-type {\n",
              "        vertical-align: middle;\n",
              "    }\n",
              "\n",
              "    .dataframe tbody tr th {\n",
              "        vertical-align: top;\n",
              "    }\n",
              "\n",
              "    .dataframe thead th {\n",
              "        text-align: right;\n",
              "    }\n",
              "</style>\n",
              "<table border=\"1\" class=\"dataframe\">\n",
              "  <thead>\n",
              "    <tr style=\"text-align: right;\">\n",
              "      <th></th>\n",
              "      <th>POPESTIMATE2015</th>\n",
              "      <th>STATE</th>\n",
              "      <th>COUNTY</th>\n",
              "    </tr>\n",
              "  </thead>\n",
              "  <tbody>\n",
              "    <tr>\n",
              "      <th>0</th>\n",
              "      <td>4858979</td>\n",
              "      <td>1</td>\n",
              "      <td>0</td>\n",
              "    </tr>\n",
              "    <tr>\n",
              "      <th>1</th>\n",
              "      <td>55347</td>\n",
              "      <td>1</td>\n",
              "      <td>1</td>\n",
              "    </tr>\n",
              "    <tr>\n",
              "      <th>2</th>\n",
              "      <td>203709</td>\n",
              "      <td>1</td>\n",
              "      <td>3</td>\n",
              "    </tr>\n",
              "    <tr>\n",
              "      <th>3</th>\n",
              "      <td>26489</td>\n",
              "      <td>1</td>\n",
              "      <td>5</td>\n",
              "    </tr>\n",
              "    <tr>\n",
              "      <th>4</th>\n",
              "      <td>22583</td>\n",
              "      <td>1</td>\n",
              "      <td>7</td>\n",
              "    </tr>\n",
              "  </tbody>\n",
              "</table>\n",
              "</div>\n",
              "      <button class=\"colab-df-convert\" onclick=\"convertToInteractive('df-78b294f6-ee16-4d5d-8aff-a4bf8b173c72')\"\n",
              "              title=\"Convert this dataframe to an interactive table.\"\n",
              "              style=\"display:none;\">\n",
              "        \n",
              "  <svg xmlns=\"http://www.w3.org/2000/svg\" height=\"24px\"viewBox=\"0 0 24 24\"\n",
              "       width=\"24px\">\n",
              "    <path d=\"M0 0h24v24H0V0z\" fill=\"none\"/>\n",
              "    <path d=\"M18.56 5.44l.94 2.06.94-2.06 2.06-.94-2.06-.94-.94-2.06-.94 2.06-2.06.94zm-11 1L8.5 8.5l.94-2.06 2.06-.94-2.06-.94L8.5 2.5l-.94 2.06-2.06.94zm10 10l.94 2.06.94-2.06 2.06-.94-2.06-.94-.94-2.06-.94 2.06-2.06.94z\"/><path d=\"M17.41 7.96l-1.37-1.37c-.4-.4-.92-.59-1.43-.59-.52 0-1.04.2-1.43.59L10.3 9.45l-7.72 7.72c-.78.78-.78 2.05 0 2.83L4 21.41c.39.39.9.59 1.41.59.51 0 1.02-.2 1.41-.59l7.78-7.78 2.81-2.81c.8-.78.8-2.07 0-2.86zM5.41 20L4 18.59l7.72-7.72 1.47 1.35L5.41 20z\"/>\n",
              "  </svg>\n",
              "      </button>\n",
              "      \n",
              "  <style>\n",
              "    .colab-df-container {\n",
              "      display:flex;\n",
              "      flex-wrap:wrap;\n",
              "      gap: 12px;\n",
              "    }\n",
              "\n",
              "    .colab-df-convert {\n",
              "      background-color: #E8F0FE;\n",
              "      border: none;\n",
              "      border-radius: 50%;\n",
              "      cursor: pointer;\n",
              "      display: none;\n",
              "      fill: #1967D2;\n",
              "      height: 32px;\n",
              "      padding: 0 0 0 0;\n",
              "      width: 32px;\n",
              "    }\n",
              "\n",
              "    .colab-df-convert:hover {\n",
              "      background-color: #E2EBFA;\n",
              "      box-shadow: 0px 1px 2px rgba(60, 64, 67, 0.3), 0px 1px 3px 1px rgba(60, 64, 67, 0.15);\n",
              "      fill: #174EA6;\n",
              "    }\n",
              "\n",
              "    [theme=dark] .colab-df-convert {\n",
              "      background-color: #3B4455;\n",
              "      fill: #D2E3FC;\n",
              "    }\n",
              "\n",
              "    [theme=dark] .colab-df-convert:hover {\n",
              "      background-color: #434B5C;\n",
              "      box-shadow: 0px 1px 3px 1px rgba(0, 0, 0, 0.15);\n",
              "      filter: drop-shadow(0px 1px 2px rgba(0, 0, 0, 0.3));\n",
              "      fill: #FFFFFF;\n",
              "    }\n",
              "  </style>\n",
              "\n",
              "      <script>\n",
              "        const buttonEl =\n",
              "          document.querySelector('#df-78b294f6-ee16-4d5d-8aff-a4bf8b173c72 button.colab-df-convert');\n",
              "        buttonEl.style.display =\n",
              "          google.colab.kernel.accessAllowed ? 'block' : 'none';\n",
              "\n",
              "        async function convertToInteractive(key) {\n",
              "          const element = document.querySelector('#df-78b294f6-ee16-4d5d-8aff-a4bf8b173c72');\n",
              "          const dataTable =\n",
              "            await google.colab.kernel.invokeFunction('convertToInteractive',\n",
              "                                                     [key], {});\n",
              "          if (!dataTable) return;\n",
              "\n",
              "          const docLinkHtml = 'Like what you see? Visit the ' +\n",
              "            '<a target=\"_blank\" href=https://colab.research.google.com/notebooks/data_table.ipynb>data table notebook</a>'\n",
              "            + ' to learn more about interactive tables.';\n",
              "          element.innerHTML = '';\n",
              "          dataTable['output_type'] = 'display_data';\n",
              "          await google.colab.output.renderOutput(dataTable, element);\n",
              "          const docLink = document.createElement('div');\n",
              "          docLink.innerHTML = docLinkHtml;\n",
              "          element.appendChild(docLink);\n",
              "        }\n",
              "      </script>\n",
              "    </div>\n",
              "  </div>\n",
              "  "
            ]
          },
          "metadata": {},
          "execution_count": 45
        }
      ]
    },
    {
      "cell_type": "code",
      "execution_count": 46,
      "metadata": {
        "id": "RtuY-RKTCArn",
        "colab": {
          "base_uri": "https://localhost:8080/"
        },
        "outputId": "78c4a815-39dc-4781-ba8c-f04d31b5b264"
      },
      "outputs": [
        {
          "output_type": "stream",
          "name": "stderr",
          "text": [
            "<ipython-input-46-6e5536ca9dfb>:10: DeprecationWarning: `np.object` is a deprecated alias for the builtin `object`. To silence this warning, use `object` by itself. Doing this will not modify any behavior and is safe. \n",
            "Deprecated in NumPy 1.20; for more details and guidance: https://numpy.org/devdocs/release/1.20.0-notes.html#deprecations\n",
            "  populationdf[\"FIPS\"]= populationdf[\"FIPS\"].astype(np.object)\n"
          ]
        }
      ],
      "source": [
        "# Change the type of columns \"STATE\" and \"COUNTY\" to string\n",
        "populationdf[\"STATE\"]= populationdf[\"STATE\"].astype(str) \n",
        "populationdf[\"COUNTY\"]= populationdf[\"COUNTY\"].astype(str) \n",
        "# Format the values of \"STATE\" as two digit numbers and the values of \"COUNTY\" as three digit numbers by filling with \"0\"\n",
        "populationdf[\"STATE\"]= populationdf[\"STATE\"].str.pad(width=2, side=\"left\", fillchar=\"0\")\n",
        "populationdf[\"COUNTY\"]= populationdf[\"COUNTY\"].str.pad(width=3, side=\"left\", fillchar=\"0\")\n",
        "# Merge the \"STATE\" AND \"COUNTY\" columns into one column and rename the new column as \"FIPS\"\n",
        "populationdf[\"FIPS\"] = populationdf[\"STATE\"] + populationdf[\"COUNTY\"]\n",
        "# Convert the type to object.\n",
        "populationdf[\"FIPS\"]= populationdf[\"FIPS\"].astype(np.object) "
      ]
    },
    {
      "cell_type": "code",
      "source": [
        "populationdf.head()"
      ],
      "metadata": {
        "id": "LCrCOZxsaDAH",
        "colab": {
          "base_uri": "https://localhost:8080/",
          "height": 206
        },
        "outputId": "d9479c33-8627-4154-9cc8-ce216eb9b901"
      },
      "execution_count": 47,
      "outputs": [
        {
          "output_type": "execute_result",
          "data": {
            "text/plain": [
              "   POPESTIMATE2015 STATE COUNTY   FIPS\n",
              "0          4858979    01    000  01000\n",
              "1            55347    01    001  01001\n",
              "2           203709    01    003  01003\n",
              "3            26489    01    005  01005\n",
              "4            22583    01    007  01007"
            ],
            "text/html": [
              "\n",
              "  <div id=\"df-cbcaf249-705c-4c1f-b207-2d38e5f2d43b\">\n",
              "    <div class=\"colab-df-container\">\n",
              "      <div>\n",
              "<style scoped>\n",
              "    .dataframe tbody tr th:only-of-type {\n",
              "        vertical-align: middle;\n",
              "    }\n",
              "\n",
              "    .dataframe tbody tr th {\n",
              "        vertical-align: top;\n",
              "    }\n",
              "\n",
              "    .dataframe thead th {\n",
              "        text-align: right;\n",
              "    }\n",
              "</style>\n",
              "<table border=\"1\" class=\"dataframe\">\n",
              "  <thead>\n",
              "    <tr style=\"text-align: right;\">\n",
              "      <th></th>\n",
              "      <th>POPESTIMATE2015</th>\n",
              "      <th>STATE</th>\n",
              "      <th>COUNTY</th>\n",
              "      <th>FIPS</th>\n",
              "    </tr>\n",
              "  </thead>\n",
              "  <tbody>\n",
              "    <tr>\n",
              "      <th>0</th>\n",
              "      <td>4858979</td>\n",
              "      <td>01</td>\n",
              "      <td>000</td>\n",
              "      <td>01000</td>\n",
              "    </tr>\n",
              "    <tr>\n",
              "      <th>1</th>\n",
              "      <td>55347</td>\n",
              "      <td>01</td>\n",
              "      <td>001</td>\n",
              "      <td>01001</td>\n",
              "    </tr>\n",
              "    <tr>\n",
              "      <th>2</th>\n",
              "      <td>203709</td>\n",
              "      <td>01</td>\n",
              "      <td>003</td>\n",
              "      <td>01003</td>\n",
              "    </tr>\n",
              "    <tr>\n",
              "      <th>3</th>\n",
              "      <td>26489</td>\n",
              "      <td>01</td>\n",
              "      <td>005</td>\n",
              "      <td>01005</td>\n",
              "    </tr>\n",
              "    <tr>\n",
              "      <th>4</th>\n",
              "      <td>22583</td>\n",
              "      <td>01</td>\n",
              "      <td>007</td>\n",
              "      <td>01007</td>\n",
              "    </tr>\n",
              "  </tbody>\n",
              "</table>\n",
              "</div>\n",
              "      <button class=\"colab-df-convert\" onclick=\"convertToInteractive('df-cbcaf249-705c-4c1f-b207-2d38e5f2d43b')\"\n",
              "              title=\"Convert this dataframe to an interactive table.\"\n",
              "              style=\"display:none;\">\n",
              "        \n",
              "  <svg xmlns=\"http://www.w3.org/2000/svg\" height=\"24px\"viewBox=\"0 0 24 24\"\n",
              "       width=\"24px\">\n",
              "    <path d=\"M0 0h24v24H0V0z\" fill=\"none\"/>\n",
              "    <path d=\"M18.56 5.44l.94 2.06.94-2.06 2.06-.94-2.06-.94-.94-2.06-.94 2.06-2.06.94zm-11 1L8.5 8.5l.94-2.06 2.06-.94-2.06-.94L8.5 2.5l-.94 2.06-2.06.94zm10 10l.94 2.06.94-2.06 2.06-.94-2.06-.94-.94-2.06-.94 2.06-2.06.94z\"/><path d=\"M17.41 7.96l-1.37-1.37c-.4-.4-.92-.59-1.43-.59-.52 0-1.04.2-1.43.59L10.3 9.45l-7.72 7.72c-.78.78-.78 2.05 0 2.83L4 21.41c.39.39.9.59 1.41.59.51 0 1.02-.2 1.41-.59l7.78-7.78 2.81-2.81c.8-.78.8-2.07 0-2.86zM5.41 20L4 18.59l7.72-7.72 1.47 1.35L5.41 20z\"/>\n",
              "  </svg>\n",
              "      </button>\n",
              "      \n",
              "  <style>\n",
              "    .colab-df-container {\n",
              "      display:flex;\n",
              "      flex-wrap:wrap;\n",
              "      gap: 12px;\n",
              "    }\n",
              "\n",
              "    .colab-df-convert {\n",
              "      background-color: #E8F0FE;\n",
              "      border: none;\n",
              "      border-radius: 50%;\n",
              "      cursor: pointer;\n",
              "      display: none;\n",
              "      fill: #1967D2;\n",
              "      height: 32px;\n",
              "      padding: 0 0 0 0;\n",
              "      width: 32px;\n",
              "    }\n",
              "\n",
              "    .colab-df-convert:hover {\n",
              "      background-color: #E2EBFA;\n",
              "      box-shadow: 0px 1px 2px rgba(60, 64, 67, 0.3), 0px 1px 3px 1px rgba(60, 64, 67, 0.15);\n",
              "      fill: #174EA6;\n",
              "    }\n",
              "\n",
              "    [theme=dark] .colab-df-convert {\n",
              "      background-color: #3B4455;\n",
              "      fill: #D2E3FC;\n",
              "    }\n",
              "\n",
              "    [theme=dark] .colab-df-convert:hover {\n",
              "      background-color: #434B5C;\n",
              "      box-shadow: 0px 1px 3px 1px rgba(0, 0, 0, 0.15);\n",
              "      filter: drop-shadow(0px 1px 2px rgba(0, 0, 0, 0.3));\n",
              "      fill: #FFFFFF;\n",
              "    }\n",
              "  </style>\n",
              "\n",
              "      <script>\n",
              "        const buttonEl =\n",
              "          document.querySelector('#df-cbcaf249-705c-4c1f-b207-2d38e5f2d43b button.colab-df-convert');\n",
              "        buttonEl.style.display =\n",
              "          google.colab.kernel.accessAllowed ? 'block' : 'none';\n",
              "\n",
              "        async function convertToInteractive(key) {\n",
              "          const element = document.querySelector('#df-cbcaf249-705c-4c1f-b207-2d38e5f2d43b');\n",
              "          const dataTable =\n",
              "            await google.colab.kernel.invokeFunction('convertToInteractive',\n",
              "                                                     [key], {});\n",
              "          if (!dataTable) return;\n",
              "\n",
              "          const docLinkHtml = 'Like what you see? Visit the ' +\n",
              "            '<a target=\"_blank\" href=https://colab.research.google.com/notebooks/data_table.ipynb>data table notebook</a>'\n",
              "            + ' to learn more about interactive tables.';\n",
              "          element.innerHTML = '';\n",
              "          dataTable['output_type'] = 'display_data';\n",
              "          await google.colab.output.renderOutput(dataTable, element);\n",
              "          const docLink = document.createElement('div');\n",
              "          docLink.innerHTML = docLinkHtml;\n",
              "          element.appendChild(docLink);\n",
              "        }\n",
              "      </script>\n",
              "    </div>\n",
              "  </div>\n",
              "  "
            ]
          },
          "metadata": {},
          "execution_count": 47
        }
      ]
    },
    {
      "cell_type": "code",
      "source": [
        "# Use the function of merge to combine the two dataframe\n",
        "df2 = df1.merge(populationdf)\n",
        "df2.head()"
      ],
      "metadata": {
        "id": "A-SZBuAqal9P",
        "colab": {
          "base_uri": "https://localhost:8080/",
          "height": 490
        },
        "outputId": "754b435f-bd71-494a-df38-c50bf1f216be"
      },
      "execution_count": 48,
      "outputs": [
        {
          "output_type": "execute_result",
          "data": {
            "text/plain": [
              "  State                            AreaName  All_Poverty  M_Poverty  \\\n",
              "0    AK      Aleutians East Borough, Alaska          553        334   \n",
              "1    AK  Aleutians West Census Area, Alaska          499        273   \n",
              "2    AK      Anchorage Municipality, Alaska        23914      10698   \n",
              "3    AK          Bethel Census Area, Alaska         4364       2199   \n",
              "4    AK         Bristol Bay Borough, Alaska           69         33   \n",
              "\n",
              "   F_Poverty   FIPS  Med_Income  Med_Income_White  M_With  M_Without  ...  \\\n",
              "0        219  02013     61518.0           72639.0     876       1317  ...   \n",
              "1        226  02016     84306.0           97321.0    2470        769  ...   \n",
              "2      13216  02020     78326.0           87235.0  120747      23245  ...   \n",
              "3       2165  02050     51012.0           92647.0    6396       2708  ...   \n",
              "4         36  02060     79750.0           88000.0     419        124  ...   \n",
              "\n",
              "   All_With  All_Without  Incidence_Rate  Avg_Ann_Incidence Recent_Trend  \\\n",
              "0      1442         1857               *         3 or fewer            *   \n",
              "1      4177         1333               *         3 or fewer            *   \n",
              "2    243173        44638            61.5                131       stable   \n",
              "3     13023         4482            62.7                  6       stable   \n",
              "4       768          191               *         3 or fewer            *   \n",
              "\n",
              "  Mortality_Rate Avg_Ann_Deaths POPESTIMATE2015 STATE  COUNTY  \n",
              "0              *              *            3341    02     013  \n",
              "1              *              *            5702    02     016  \n",
              "2           47.3             96          298695    02     020  \n",
              "3           58.3              5           17946    02     050  \n",
              "4              *              *             892    02     060  \n",
              "\n",
              "[5 rows x 22 columns]"
            ],
            "text/html": [
              "\n",
              "  <div id=\"df-123daafc-a125-469d-badc-5f7e0bf9edaa\">\n",
              "    <div class=\"colab-df-container\">\n",
              "      <div>\n",
              "<style scoped>\n",
              "    .dataframe tbody tr th:only-of-type {\n",
              "        vertical-align: middle;\n",
              "    }\n",
              "\n",
              "    .dataframe tbody tr th {\n",
              "        vertical-align: top;\n",
              "    }\n",
              "\n",
              "    .dataframe thead th {\n",
              "        text-align: right;\n",
              "    }\n",
              "</style>\n",
              "<table border=\"1\" class=\"dataframe\">\n",
              "  <thead>\n",
              "    <tr style=\"text-align: right;\">\n",
              "      <th></th>\n",
              "      <th>State</th>\n",
              "      <th>AreaName</th>\n",
              "      <th>All_Poverty</th>\n",
              "      <th>M_Poverty</th>\n",
              "      <th>F_Poverty</th>\n",
              "      <th>FIPS</th>\n",
              "      <th>Med_Income</th>\n",
              "      <th>Med_Income_White</th>\n",
              "      <th>M_With</th>\n",
              "      <th>M_Without</th>\n",
              "      <th>...</th>\n",
              "      <th>All_With</th>\n",
              "      <th>All_Without</th>\n",
              "      <th>Incidence_Rate</th>\n",
              "      <th>Avg_Ann_Incidence</th>\n",
              "      <th>Recent_Trend</th>\n",
              "      <th>Mortality_Rate</th>\n",
              "      <th>Avg_Ann_Deaths</th>\n",
              "      <th>POPESTIMATE2015</th>\n",
              "      <th>STATE</th>\n",
              "      <th>COUNTY</th>\n",
              "    </tr>\n",
              "  </thead>\n",
              "  <tbody>\n",
              "    <tr>\n",
              "      <th>0</th>\n",
              "      <td>AK</td>\n",
              "      <td>Aleutians East Borough, Alaska</td>\n",
              "      <td>553</td>\n",
              "      <td>334</td>\n",
              "      <td>219</td>\n",
              "      <td>02013</td>\n",
              "      <td>61518.0</td>\n",
              "      <td>72639.0</td>\n",
              "      <td>876</td>\n",
              "      <td>1317</td>\n",
              "      <td>...</td>\n",
              "      <td>1442</td>\n",
              "      <td>1857</td>\n",
              "      <td>*</td>\n",
              "      <td>3 or fewer</td>\n",
              "      <td>*</td>\n",
              "      <td>*</td>\n",
              "      <td>*</td>\n",
              "      <td>3341</td>\n",
              "      <td>02</td>\n",
              "      <td>013</td>\n",
              "    </tr>\n",
              "    <tr>\n",
              "      <th>1</th>\n",
              "      <td>AK</td>\n",
              "      <td>Aleutians West Census Area, Alaska</td>\n",
              "      <td>499</td>\n",
              "      <td>273</td>\n",
              "      <td>226</td>\n",
              "      <td>02016</td>\n",
              "      <td>84306.0</td>\n",
              "      <td>97321.0</td>\n",
              "      <td>2470</td>\n",
              "      <td>769</td>\n",
              "      <td>...</td>\n",
              "      <td>4177</td>\n",
              "      <td>1333</td>\n",
              "      <td>*</td>\n",
              "      <td>3 or fewer</td>\n",
              "      <td>*</td>\n",
              "      <td>*</td>\n",
              "      <td>*</td>\n",
              "      <td>5702</td>\n",
              "      <td>02</td>\n",
              "      <td>016</td>\n",
              "    </tr>\n",
              "    <tr>\n",
              "      <th>2</th>\n",
              "      <td>AK</td>\n",
              "      <td>Anchorage Municipality, Alaska</td>\n",
              "      <td>23914</td>\n",
              "      <td>10698</td>\n",
              "      <td>13216</td>\n",
              "      <td>02020</td>\n",
              "      <td>78326.0</td>\n",
              "      <td>87235.0</td>\n",
              "      <td>120747</td>\n",
              "      <td>23245</td>\n",
              "      <td>...</td>\n",
              "      <td>243173</td>\n",
              "      <td>44638</td>\n",
              "      <td>61.5</td>\n",
              "      <td>131</td>\n",
              "      <td>stable</td>\n",
              "      <td>47.3</td>\n",
              "      <td>96</td>\n",
              "      <td>298695</td>\n",
              "      <td>02</td>\n",
              "      <td>020</td>\n",
              "    </tr>\n",
              "    <tr>\n",
              "      <th>3</th>\n",
              "      <td>AK</td>\n",
              "      <td>Bethel Census Area, Alaska</td>\n",
              "      <td>4364</td>\n",
              "      <td>2199</td>\n",
              "      <td>2165</td>\n",
              "      <td>02050</td>\n",
              "      <td>51012.0</td>\n",
              "      <td>92647.0</td>\n",
              "      <td>6396</td>\n",
              "      <td>2708</td>\n",
              "      <td>...</td>\n",
              "      <td>13023</td>\n",
              "      <td>4482</td>\n",
              "      <td>62.7</td>\n",
              "      <td>6</td>\n",
              "      <td>stable</td>\n",
              "      <td>58.3</td>\n",
              "      <td>5</td>\n",
              "      <td>17946</td>\n",
              "      <td>02</td>\n",
              "      <td>050</td>\n",
              "    </tr>\n",
              "    <tr>\n",
              "      <th>4</th>\n",
              "      <td>AK</td>\n",
              "      <td>Bristol Bay Borough, Alaska</td>\n",
              "      <td>69</td>\n",
              "      <td>33</td>\n",
              "      <td>36</td>\n",
              "      <td>02060</td>\n",
              "      <td>79750.0</td>\n",
              "      <td>88000.0</td>\n",
              "      <td>419</td>\n",
              "      <td>124</td>\n",
              "      <td>...</td>\n",
              "      <td>768</td>\n",
              "      <td>191</td>\n",
              "      <td>*</td>\n",
              "      <td>3 or fewer</td>\n",
              "      <td>*</td>\n",
              "      <td>*</td>\n",
              "      <td>*</td>\n",
              "      <td>892</td>\n",
              "      <td>02</td>\n",
              "      <td>060</td>\n",
              "    </tr>\n",
              "  </tbody>\n",
              "</table>\n",
              "<p>5 rows × 22 columns</p>\n",
              "</div>\n",
              "      <button class=\"colab-df-convert\" onclick=\"convertToInteractive('df-123daafc-a125-469d-badc-5f7e0bf9edaa')\"\n",
              "              title=\"Convert this dataframe to an interactive table.\"\n",
              "              style=\"display:none;\">\n",
              "        \n",
              "  <svg xmlns=\"http://www.w3.org/2000/svg\" height=\"24px\"viewBox=\"0 0 24 24\"\n",
              "       width=\"24px\">\n",
              "    <path d=\"M0 0h24v24H0V0z\" fill=\"none\"/>\n",
              "    <path d=\"M18.56 5.44l.94 2.06.94-2.06 2.06-.94-2.06-.94-.94-2.06-.94 2.06-2.06.94zm-11 1L8.5 8.5l.94-2.06 2.06-.94-2.06-.94L8.5 2.5l-.94 2.06-2.06.94zm10 10l.94 2.06.94-2.06 2.06-.94-2.06-.94-.94-2.06-.94 2.06-2.06.94z\"/><path d=\"M17.41 7.96l-1.37-1.37c-.4-.4-.92-.59-1.43-.59-.52 0-1.04.2-1.43.59L10.3 9.45l-7.72 7.72c-.78.78-.78 2.05 0 2.83L4 21.41c.39.39.9.59 1.41.59.51 0 1.02-.2 1.41-.59l7.78-7.78 2.81-2.81c.8-.78.8-2.07 0-2.86zM5.41 20L4 18.59l7.72-7.72 1.47 1.35L5.41 20z\"/>\n",
              "  </svg>\n",
              "      </button>\n",
              "      \n",
              "  <style>\n",
              "    .colab-df-container {\n",
              "      display:flex;\n",
              "      flex-wrap:wrap;\n",
              "      gap: 12px;\n",
              "    }\n",
              "\n",
              "    .colab-df-convert {\n",
              "      background-color: #E8F0FE;\n",
              "      border: none;\n",
              "      border-radius: 50%;\n",
              "      cursor: pointer;\n",
              "      display: none;\n",
              "      fill: #1967D2;\n",
              "      height: 32px;\n",
              "      padding: 0 0 0 0;\n",
              "      width: 32px;\n",
              "    }\n",
              "\n",
              "    .colab-df-convert:hover {\n",
              "      background-color: #E2EBFA;\n",
              "      box-shadow: 0px 1px 2px rgba(60, 64, 67, 0.3), 0px 1px 3px 1px rgba(60, 64, 67, 0.15);\n",
              "      fill: #174EA6;\n",
              "    }\n",
              "\n",
              "    [theme=dark] .colab-df-convert {\n",
              "      background-color: #3B4455;\n",
              "      fill: #D2E3FC;\n",
              "    }\n",
              "\n",
              "    [theme=dark] .colab-df-convert:hover {\n",
              "      background-color: #434B5C;\n",
              "      box-shadow: 0px 1px 3px 1px rgba(0, 0, 0, 0.15);\n",
              "      filter: drop-shadow(0px 1px 2px rgba(0, 0, 0, 0.3));\n",
              "      fill: #FFFFFF;\n",
              "    }\n",
              "  </style>\n",
              "\n",
              "      <script>\n",
              "        const buttonEl =\n",
              "          document.querySelector('#df-123daafc-a125-469d-badc-5f7e0bf9edaa button.colab-df-convert');\n",
              "        buttonEl.style.display =\n",
              "          google.colab.kernel.accessAllowed ? 'block' : 'none';\n",
              "\n",
              "        async function convertToInteractive(key) {\n",
              "          const element = document.querySelector('#df-123daafc-a125-469d-badc-5f7e0bf9edaa');\n",
              "          const dataTable =\n",
              "            await google.colab.kernel.invokeFunction('convertToInteractive',\n",
              "                                                     [key], {});\n",
              "          if (!dataTable) return;\n",
              "\n",
              "          const docLinkHtml = 'Like what you see? Visit the ' +\n",
              "            '<a target=\"_blank\" href=https://colab.research.google.com/notebooks/data_table.ipynb>data table notebook</a>'\n",
              "            + ' to learn more about interactive tables.';\n",
              "          element.innerHTML = '';\n",
              "          dataTable['output_type'] = 'display_data';\n",
              "          await google.colab.output.renderOutput(dataTable, element);\n",
              "          const docLink = document.createElement('div');\n",
              "          docLink.innerHTML = docLinkHtml;\n",
              "          element.appendChild(docLink);\n",
              "        }\n",
              "      </script>\n",
              "    </div>\n",
              "  </div>\n",
              "  "
            ]
          },
          "metadata": {},
          "execution_count": 48
        }
      ]
    },
    {
      "cell_type": "markdown",
      "metadata": {
        "id": "YcoVoexBCArn"
      },
      "source": [
        "### 1.5 Cleaning the output (response) column `Mortality_Rate` [10 Marks]\n",
        "Using the file `descriptions.csv`, explain what the non-numerical values of `Mortality_Rate` mean. \n",
        "\n",
        "Then, it is decision making time, we have to decide whether to remove the non-numerical values from `Mortality_Rate` or to assign a specific numerical value to them. This decision is based on you inferring if the non-numerical values were caused by error in data gathering or not. \n",
        "\n",
        "Note that if the observations are valid and are deleted, we are adding a bias to the model.\n",
        "\n",
        "*Hint*: To get the full mark for this part, conduct multiple relevant exploratory data analyses. Then use them to support your decision on removing or modifying the non-numerical values. Your choice results in full mark if the supporting analysis and arguments are deemed adequate and convincing."
      ]
    },
    {
      "cell_type": "code",
      "source": [
        "# Check the data in the column \"Mortality_Rate\"\n",
        "df2[\"Mortality_Rate\"]"
      ],
      "metadata": {
        "id": "gM9_OFxJux9N",
        "colab": {
          "base_uri": "https://localhost:8080/"
        },
        "outputId": "b7eba90d-2166-4957-c3a8-9c884c998603"
      },
      "execution_count": 49,
      "outputs": [
        {
          "output_type": "execute_result",
          "data": {
            "text/plain": [
              "0          *\n",
              "1          *\n",
              "2       47.3\n",
              "3       58.3\n",
              "4          *\n",
              "        ... \n",
              "3129    28.4\n",
              "3130    29.1\n",
              "3131    22.1\n",
              "3132    38.2\n",
              "3133    43.5\n",
              "Name: Mortality_Rate, Length: 3134, dtype: object"
            ]
          },
          "metadata": {},
          "execution_count": 49
        }
      ]
    },
    {
      "cell_type": "code",
      "source": [
        "# delete all rows with '*' in the desired column \n",
        "df3 = df2[df2[\"Mortality_Rate\"] != \"*\"] \n",
        "df3[\"Mortality_Rate\"]"
      ],
      "metadata": {
        "id": "QavPovr3c8d-",
        "colab": {
          "base_uri": "https://localhost:8080/"
        },
        "outputId": "266a435b-01e2-4e43-e892-1d579008c5f6"
      },
      "execution_count": 50,
      "outputs": [
        {
          "output_type": "execute_result",
          "data": {
            "text/plain": [
              "2       47.3\n",
              "3       58.3\n",
              "7         54\n",
              "9       34.4\n",
              "10      50.1\n",
              "        ... \n",
              "3129    28.4\n",
              "3130    29.1\n",
              "3131    22.1\n",
              "3132    38.2\n",
              "3133    43.5\n",
              "Name: Mortality_Rate, Length: 2809, dtype: object"
            ]
          },
          "metadata": {},
          "execution_count": 50
        }
      ]
    },
    {
      "cell_type": "markdown",
      "source": [
        "We decide to remove all rows with '*' in the desired column for a more accurate estimation, as the proportion of these values is small, removing them will not significantly impact the sample size."
      ],
      "metadata": {
        "id": "kDC43zhVX_dK"
      }
    },
    {
      "cell_type": "markdown",
      "metadata": {
        "id": "0iUoLFsSCAro"
      },
      "source": [
        "### 1.6 Reformat the rest of the columns specified in 1.3 to numerical [5 Marks]\n",
        "In each column reformat all the cells that you can. \n",
        "\n",
        "*Hint*: You can keep the cells that you cannot reformat until you decide if you want to use the specific column in the model. This is because you want to lose as least data as possible. So you can drop the associated rows if you want to use the column and keep them if the specific column is not used."
      ]
    },
    {
      "cell_type": "code",
      "execution_count": 51,
      "metadata": {
        "id": "C1H3pZEsCAro",
        "colab": {
          "base_uri": "https://localhost:8080/"
        },
        "outputId": "4ca02424-b245-42a9-cc74-d90bed9ed6ca"
      },
      "outputs": [
        {
          "output_type": "stream",
          "name": "stderr",
          "text": [
            "<ipython-input-51-26aed64e241a>:3: SettingWithCopyWarning: \n",
            "A value is trying to be set on a copy of a slice from a DataFrame.\n",
            "Try using .loc[row_indexer,col_indexer] = value instead\n",
            "\n",
            "See the caveats in the documentation: https://pandas.pydata.org/pandas-docs/stable/user_guide/indexing.html#returning-a-view-versus-a-copy\n",
            "  df3['Incidence_Rate'] = df3['Incidence_Rate'].str.replace(' ', '')\n",
            "<ipython-input-51-26aed64e241a>:4: SettingWithCopyWarning: \n",
            "A value is trying to be set on a copy of a slice from a DataFrame.\n",
            "Try using .loc[row_indexer,col_indexer] = value instead\n",
            "\n",
            "See the caveats in the documentation: https://pandas.pydata.org/pandas-docs/stable/user_guide/indexing.html#returning-a-view-versus-a-copy\n",
            "  df3['Incidence_Rate'] = df3['Incidence_Rate'].str.replace('__','')\n",
            "<ipython-input-51-26aed64e241a>:5: FutureWarning: The default value of regex will change from True to False in a future version. In addition, single character regular expressions will *not* be treated as literal strings when regex=True.\n",
            "  df3['Incidence_Rate'] = df3['Incidence_Rate'].str.replace('*', '')\n",
            "<ipython-input-51-26aed64e241a>:5: SettingWithCopyWarning: \n",
            "A value is trying to be set on a copy of a slice from a DataFrame.\n",
            "Try using .loc[row_indexer,col_indexer] = value instead\n",
            "\n",
            "See the caveats in the documentation: https://pandas.pydata.org/pandas-docs/stable/user_guide/indexing.html#returning-a-view-versus-a-copy\n",
            "  df3['Incidence_Rate'] = df3['Incidence_Rate'].str.replace('*', '')\n",
            "<ipython-input-51-26aed64e241a>:6: SettingWithCopyWarning: \n",
            "A value is trying to be set on a copy of a slice from a DataFrame.\n",
            "Try using .loc[row_indexer,col_indexer] = value instead\n",
            "\n",
            "See the caveats in the documentation: https://pandas.pydata.org/pandas-docs/stable/user_guide/indexing.html#returning-a-view-versus-a-copy\n",
            "  df3['Incidence_Rate'] = df3['Incidence_Rate'].str.replace('_', '')\n",
            "<ipython-input-51-26aed64e241a>:7: SettingWithCopyWarning: \n",
            "A value is trying to be set on a copy of a slice from a DataFrame.\n",
            "Try using .loc[row_indexer,col_indexer] = value instead\n",
            "\n",
            "See the caveats in the documentation: https://pandas.pydata.org/pandas-docs/stable/user_guide/indexing.html#returning-a-view-versus-a-copy\n",
            "  df3['Incidence_Rate'] = df3['Incidence_Rate'].str.replace('#', '')\n",
            "<ipython-input-51-26aed64e241a>:9: SettingWithCopyWarning: \n",
            "A value is trying to be set on a copy of a slice from a DataFrame.\n",
            "Try using .loc[row_indexer,col_indexer] = value instead\n",
            "\n",
            "See the caveats in the documentation: https://pandas.pydata.org/pandas-docs/stable/user_guide/indexing.html#returning-a-view-versus-a-copy\n",
            "  df3['Incidence_Rate']  = pd.to_numeric(df3['Incidence_Rate'], errors='coerce')\n"
          ]
        },
        {
          "output_type": "execute_result",
          "data": {
            "text/plain": [
              "168"
            ]
          },
          "metadata": {},
          "execution_count": 51
        }
      ],
      "source": [
        "## Incidence_Rate\n",
        "# Remove all the unexpected value from the column\n",
        "df3['Incidence_Rate'] = df3['Incidence_Rate'].str.replace(' ', '') \n",
        "df3['Incidence_Rate'] = df3['Incidence_Rate'].str.replace('__','') \n",
        "df3['Incidence_Rate'] = df3['Incidence_Rate'].str.replace('*', '') \n",
        "df3['Incidence_Rate'] = df3['Incidence_Rate'].str.replace('_', '') \n",
        "df3['Incidence_Rate'] = df3['Incidence_Rate'].str.replace('#', '') \n",
        "# Change the type of Incidence_Rate from object to numerical format\n",
        "df3['Incidence_Rate']  = pd.to_numeric(df3['Incidence_Rate'], errors='coerce')\n",
        "# Check the total number of null value\n",
        "df3['Incidence_Rate'].isnull().sum()"
      ]
    },
    {
      "cell_type": "code",
      "source": [
        "## Avg_Ann_Incidence\n",
        "# Remove all the unexpected value from the column\n",
        "df3['Avg_Ann_Incidence'] = df3['Avg_Ann_Incidence'].str.replace(' ', '') \n",
        "df3['Avg_Ann_Incidence'] = df3['Avg_Ann_Incidence'].str.replace('__','') \n",
        "df3['Avg_Ann_Incidence'] = df3['Avg_Ann_Incidence'].str.replace('_', '') \n",
        "df3['Avg_Ann_Incidence'] = df3['Avg_Ann_Incidence'].str.replace('3 or fewer','')\n",
        "# Change the type of Incidence_Rate from object to numerical format\n",
        "df3['Avg_Ann_Incidence']  = pd.to_numeric(df3['Avg_Ann_Incidence'], errors='coerce')\n",
        "# Check the total number of null value\n",
        "df3['Avg_Ann_Incidence'].isnull().sum()"
      ],
      "metadata": {
        "colab": {
          "base_uri": "https://localhost:8080/"
        },
        "id": "rQXmBWhuGCUq",
        "outputId": "70fb623e-ac59-4608-f27e-2b743dd93481"
      },
      "execution_count": 52,
      "outputs": [
        {
          "output_type": "stream",
          "name": "stderr",
          "text": [
            "<ipython-input-52-12a070fe83b9>:3: SettingWithCopyWarning: \n",
            "A value is trying to be set on a copy of a slice from a DataFrame.\n",
            "Try using .loc[row_indexer,col_indexer] = value instead\n",
            "\n",
            "See the caveats in the documentation: https://pandas.pydata.org/pandas-docs/stable/user_guide/indexing.html#returning-a-view-versus-a-copy\n",
            "  df3['Avg_Ann_Incidence'] = df3['Avg_Ann_Incidence'].str.replace(' ', '')\n",
            "<ipython-input-52-12a070fe83b9>:4: SettingWithCopyWarning: \n",
            "A value is trying to be set on a copy of a slice from a DataFrame.\n",
            "Try using .loc[row_indexer,col_indexer] = value instead\n",
            "\n",
            "See the caveats in the documentation: https://pandas.pydata.org/pandas-docs/stable/user_guide/indexing.html#returning-a-view-versus-a-copy\n",
            "  df3['Avg_Ann_Incidence'] = df3['Avg_Ann_Incidence'].str.replace('__','')\n",
            "<ipython-input-52-12a070fe83b9>:5: SettingWithCopyWarning: \n",
            "A value is trying to be set on a copy of a slice from a DataFrame.\n",
            "Try using .loc[row_indexer,col_indexer] = value instead\n",
            "\n",
            "See the caveats in the documentation: https://pandas.pydata.org/pandas-docs/stable/user_guide/indexing.html#returning-a-view-versus-a-copy\n",
            "  df3['Avg_Ann_Incidence'] = df3['Avg_Ann_Incidence'].str.replace('_', '')\n",
            "<ipython-input-52-12a070fe83b9>:6: SettingWithCopyWarning: \n",
            "A value is trying to be set on a copy of a slice from a DataFrame.\n",
            "Try using .loc[row_indexer,col_indexer] = value instead\n",
            "\n",
            "See the caveats in the documentation: https://pandas.pydata.org/pandas-docs/stable/user_guide/indexing.html#returning-a-view-versus-a-copy\n",
            "  df3['Avg_Ann_Incidence'] = df3['Avg_Ann_Incidence'].str.replace('3 or fewer','')\n",
            "<ipython-input-52-12a070fe83b9>:8: SettingWithCopyWarning: \n",
            "A value is trying to be set on a copy of a slice from a DataFrame.\n",
            "Try using .loc[row_indexer,col_indexer] = value instead\n",
            "\n",
            "See the caveats in the documentation: https://pandas.pydata.org/pandas-docs/stable/user_guide/indexing.html#returning-a-view-versus-a-copy\n",
            "  df3['Avg_Ann_Incidence']  = pd.to_numeric(df3['Avg_Ann_Incidence'], errors='coerce')\n"
          ]
        },
        {
          "output_type": "execute_result",
          "data": {
            "text/plain": [
              "168"
            ]
          },
          "metadata": {},
          "execution_count": 52
        }
      ]
    },
    {
      "cell_type": "code",
      "source": [
        "## Mortality_Rate\n",
        "#  Change the type of Incidence_Rate from object to numerical format\n",
        "df3['Mortality_Rate'] = df3['Mortality_Rate'].astype(float)\n",
        "# Check the total number of null value\n",
        "df3['Mortality_Rate'].isnull().sum() "
      ],
      "metadata": {
        "colab": {
          "base_uri": "https://localhost:8080/"
        },
        "id": "dSpUKzc_gzGX",
        "outputId": "38308a38-699a-4d68-c4ee-78b04f9f5a17"
      },
      "execution_count": 53,
      "outputs": [
        {
          "output_type": "stream",
          "name": "stderr",
          "text": [
            "<ipython-input-53-3cfdd0e107de>:3: SettingWithCopyWarning: \n",
            "A value is trying to be set on a copy of a slice from a DataFrame.\n",
            "Try using .loc[row_indexer,col_indexer] = value instead\n",
            "\n",
            "See the caveats in the documentation: https://pandas.pydata.org/pandas-docs/stable/user_guide/indexing.html#returning-a-view-versus-a-copy\n",
            "  df3['Mortality_Rate'] = df3['Mortality_Rate'].astype(float)\n"
          ]
        },
        {
          "output_type": "execute_result",
          "data": {
            "text/plain": [
              "0"
            ]
          },
          "metadata": {},
          "execution_count": 53
        }
      ]
    },
    {
      "cell_type": "code",
      "source": [
        "## Avg_Ann_Deaths\n",
        "#  Change the type of Incidence_Rate from object to numerical format\n",
        "df3['Avg_Ann_Deaths'] = df3['Avg_Ann_Deaths'].str.replace('*', '') \n",
        "df3['Avg_Ann_Deaths'] = df3['Avg_Ann_Deaths'].str.replace(',', '') \n",
        "df3['Avg_Ann_Deaths'] = df3['Avg_Ann_Deaths'].astype(float) \n",
        "# Check the total number of null value\n",
        "df3['Avg_Ann_Deaths'].isnull().sum() "
      ],
      "metadata": {
        "colab": {
          "base_uri": "https://localhost:8080/"
        },
        "id": "IeimMQVZIG75",
        "outputId": "1998abb0-ba89-4ef4-e75e-3bec61feb49e"
      },
      "execution_count": 54,
      "outputs": [
        {
          "output_type": "stream",
          "name": "stderr",
          "text": [
            "<ipython-input-54-fd3f4bc9b1fb>:3: FutureWarning: The default value of regex will change from True to False in a future version. In addition, single character regular expressions will *not* be treated as literal strings when regex=True.\n",
            "  df3['Avg_Ann_Deaths'] = df3['Avg_Ann_Deaths'].str.replace('*', '')\n",
            "<ipython-input-54-fd3f4bc9b1fb>:3: SettingWithCopyWarning: \n",
            "A value is trying to be set on a copy of a slice from a DataFrame.\n",
            "Try using .loc[row_indexer,col_indexer] = value instead\n",
            "\n",
            "See the caveats in the documentation: https://pandas.pydata.org/pandas-docs/stable/user_guide/indexing.html#returning-a-view-versus-a-copy\n",
            "  df3['Avg_Ann_Deaths'] = df3['Avg_Ann_Deaths'].str.replace('*', '')\n",
            "<ipython-input-54-fd3f4bc9b1fb>:4: SettingWithCopyWarning: \n",
            "A value is trying to be set on a copy of a slice from a DataFrame.\n",
            "Try using .loc[row_indexer,col_indexer] = value instead\n",
            "\n",
            "See the caveats in the documentation: https://pandas.pydata.org/pandas-docs/stable/user_guide/indexing.html#returning-a-view-versus-a-copy\n",
            "  df3['Avg_Ann_Deaths'] = df3['Avg_Ann_Deaths'].str.replace(',', '')\n",
            "<ipython-input-54-fd3f4bc9b1fb>:5: SettingWithCopyWarning: \n",
            "A value is trying to be set on a copy of a slice from a DataFrame.\n",
            "Try using .loc[row_indexer,col_indexer] = value instead\n",
            "\n",
            "See the caveats in the documentation: https://pandas.pydata.org/pandas-docs/stable/user_guide/indexing.html#returning-a-view-versus-a-copy\n",
            "  df3['Avg_Ann_Deaths'] = df3['Avg_Ann_Deaths'].astype(float)\n"
          ]
        },
        {
          "output_type": "execute_result",
          "data": {
            "text/plain": [
              "0"
            ]
          },
          "metadata": {},
          "execution_count": 54
        }
      ]
    },
    {
      "cell_type": "code",
      "source": [
        "# Drop the rows that contain null values in the columns \"Incidence_Rate\" and  \"Avg_Ann_Incidence\"\n",
        "df4 = df3.dropna(subset=[\"Incidence_Rate\", \"Avg_Ann_Incidence\"])\n",
        "df4.shape"
      ],
      "metadata": {
        "colab": {
          "base_uri": "https://localhost:8080/"
        },
        "id": "4XHS6OtNIYu6",
        "outputId": "57bd001c-9b7d-4387-c50c-34aa6c4f364e"
      },
      "execution_count": 55,
      "outputs": [
        {
          "output_type": "execute_result",
          "data": {
            "text/plain": [
              "(2641, 22)"
            ]
          },
          "metadata": {},
          "execution_count": 55
        }
      ]
    },
    {
      "cell_type": "markdown",
      "metadata": {
        "id": "CwmCHiTDCAro"
      },
      "source": [
        "### 1.7 Make the numerical data useful [5 Marks]\n",
        "We know we have many columns of data, some of them are dependent on the populations. As a *Hint*, convert all the raw data to per 100,000 persons rates (divide by population and multiply by 100,000)."
      ]
    },
    {
      "cell_type": "code",
      "execution_count": 56,
      "metadata": {
        "id": "ChME_xhaCAro",
        "colab": {
          "base_uri": "https://localhost:8080/"
        },
        "outputId": "4f412d64-4999-400a-e474-84fccda305b8"
      },
      "outputs": [
        {
          "output_type": "stream",
          "name": "stderr",
          "text": [
            "<ipython-input-56-55a7867ccb98>:6: SettingWithCopyWarning: \n",
            "A value is trying to be set on a copy of a slice from a DataFrame.\n",
            "Try using .loc[row_indexer,col_indexer] = value instead\n",
            "\n",
            "See the caveats in the documentation: https://pandas.pydata.org/pandas-docs/stable/user_guide/indexing.html#returning-a-view-versus-a-copy\n",
            "  df4[col] = df4[col] / df4[\"POPESTIMATE2015\"] * 100000\n"
          ]
        }
      ],
      "source": [
        "# Select the columns that are dependent on the populations\n",
        "col_pop = [\"All_Poverty\", \"All_With\", \"All_Without\", \"Avg_Ann_Incidence\", \"Avg_Ann_Deaths\" ] \n",
        "\n",
        "# Convert the raw data to per 100,000 persons rates\n",
        "for col in col_pop:\n",
        "    df4[col] = df4[col] / df4[\"POPESTIMATE2015\"] * 100000"
      ]
    },
    {
      "cell_type": "code",
      "source": [
        "df4.head()"
      ],
      "metadata": {
        "colab": {
          "base_uri": "https://localhost:8080/",
          "height": 525
        },
        "id": "se6lVy5fpJcH",
        "outputId": "6693d9dc-5e35-43e5-ceb1-eb61a2985280"
      },
      "execution_count": 57,
      "outputs": [
        {
          "output_type": "execute_result",
          "data": {
            "text/plain": [
              "   State                              AreaName   All_Poverty  M_Poverty  \\\n",
              "2     AK        Anchorage Municipality, Alaska   8006.160130      10698   \n",
              "3     AK            Bethel Census Area, Alaska  24317.396634       2199   \n",
              "7     AK  Fairbanks North Star Borough, Alaska   7780.710823       3523   \n",
              "9     AK       Juneau City and Borough, Alaska   6441.567957       1145   \n",
              "10    AK       Kenai Peninsula Borough, Alaska   9573.020548       2596   \n",
              "\n",
              "    F_Poverty   FIPS  Med_Income  Med_Income_White  M_With  M_Without  ...  \\\n",
              "2       13216  02020     78326.0           87235.0  120747      23245  ...   \n",
              "3        2165  02050     51012.0           92647.0    6396       2708  ...   \n",
              "7        4229  02090     71068.0           74242.0   40605       6957  ...   \n",
              "9         965  02110     85746.0           90553.0   13739       2433  ...   \n",
              "10       2962  02122     63684.0           64663.0   22391       6435  ...   \n",
              "\n",
              "        All_With   All_Without  Incidence_Rate  Avg_Ann_Incidence  \\\n",
              "2   81411.808032  14944.341218            61.5          43.857447   \n",
              "3   72567.703109  24974.924774            62.7          33.433634   \n",
              "7   81114.311811  12324.477321            58.1          36.133332   \n",
              "9   83407.619978  14183.661009            35.1          27.475882   \n",
              "10  75886.598116  20441.275254            64.9          67.173048   \n",
              "\n",
              "    Recent_Trend  Mortality_Rate Avg_Ann_Deaths  POPESTIMATE2015  STATE  \\\n",
              "2         stable            47.3      32.139808           298695     02   \n",
              "3         stable            58.3      27.861362            17946     02   \n",
              "7         stable            54.0      31.114814            99631     02   \n",
              "9         stable            34.4      24.423006            32756     02   \n",
              "10        stable            50.1      48.226804            58059     02   \n",
              "\n",
              "    COUNTY  \n",
              "2      020  \n",
              "3      050  \n",
              "7      090  \n",
              "9      110  \n",
              "10     122  \n",
              "\n",
              "[5 rows x 22 columns]"
            ],
            "text/html": [
              "\n",
              "  <div id=\"df-47707f27-d3b4-4c16-8ad0-e29dfeb06aa5\">\n",
              "    <div class=\"colab-df-container\">\n",
              "      <div>\n",
              "<style scoped>\n",
              "    .dataframe tbody tr th:only-of-type {\n",
              "        vertical-align: middle;\n",
              "    }\n",
              "\n",
              "    .dataframe tbody tr th {\n",
              "        vertical-align: top;\n",
              "    }\n",
              "\n",
              "    .dataframe thead th {\n",
              "        text-align: right;\n",
              "    }\n",
              "</style>\n",
              "<table border=\"1\" class=\"dataframe\">\n",
              "  <thead>\n",
              "    <tr style=\"text-align: right;\">\n",
              "      <th></th>\n",
              "      <th>State</th>\n",
              "      <th>AreaName</th>\n",
              "      <th>All_Poverty</th>\n",
              "      <th>M_Poverty</th>\n",
              "      <th>F_Poverty</th>\n",
              "      <th>FIPS</th>\n",
              "      <th>Med_Income</th>\n",
              "      <th>Med_Income_White</th>\n",
              "      <th>M_With</th>\n",
              "      <th>M_Without</th>\n",
              "      <th>...</th>\n",
              "      <th>All_With</th>\n",
              "      <th>All_Without</th>\n",
              "      <th>Incidence_Rate</th>\n",
              "      <th>Avg_Ann_Incidence</th>\n",
              "      <th>Recent_Trend</th>\n",
              "      <th>Mortality_Rate</th>\n",
              "      <th>Avg_Ann_Deaths</th>\n",
              "      <th>POPESTIMATE2015</th>\n",
              "      <th>STATE</th>\n",
              "      <th>COUNTY</th>\n",
              "    </tr>\n",
              "  </thead>\n",
              "  <tbody>\n",
              "    <tr>\n",
              "      <th>2</th>\n",
              "      <td>AK</td>\n",
              "      <td>Anchorage Municipality, Alaska</td>\n",
              "      <td>8006.160130</td>\n",
              "      <td>10698</td>\n",
              "      <td>13216</td>\n",
              "      <td>02020</td>\n",
              "      <td>78326.0</td>\n",
              "      <td>87235.0</td>\n",
              "      <td>120747</td>\n",
              "      <td>23245</td>\n",
              "      <td>...</td>\n",
              "      <td>81411.808032</td>\n",
              "      <td>14944.341218</td>\n",
              "      <td>61.5</td>\n",
              "      <td>43.857447</td>\n",
              "      <td>stable</td>\n",
              "      <td>47.3</td>\n",
              "      <td>32.139808</td>\n",
              "      <td>298695</td>\n",
              "      <td>02</td>\n",
              "      <td>020</td>\n",
              "    </tr>\n",
              "    <tr>\n",
              "      <th>3</th>\n",
              "      <td>AK</td>\n",
              "      <td>Bethel Census Area, Alaska</td>\n",
              "      <td>24317.396634</td>\n",
              "      <td>2199</td>\n",
              "      <td>2165</td>\n",
              "      <td>02050</td>\n",
              "      <td>51012.0</td>\n",
              "      <td>92647.0</td>\n",
              "      <td>6396</td>\n",
              "      <td>2708</td>\n",
              "      <td>...</td>\n",
              "      <td>72567.703109</td>\n",
              "      <td>24974.924774</td>\n",
              "      <td>62.7</td>\n",
              "      <td>33.433634</td>\n",
              "      <td>stable</td>\n",
              "      <td>58.3</td>\n",
              "      <td>27.861362</td>\n",
              "      <td>17946</td>\n",
              "      <td>02</td>\n",
              "      <td>050</td>\n",
              "    </tr>\n",
              "    <tr>\n",
              "      <th>7</th>\n",
              "      <td>AK</td>\n",
              "      <td>Fairbanks North Star Borough, Alaska</td>\n",
              "      <td>7780.710823</td>\n",
              "      <td>3523</td>\n",
              "      <td>4229</td>\n",
              "      <td>02090</td>\n",
              "      <td>71068.0</td>\n",
              "      <td>74242.0</td>\n",
              "      <td>40605</td>\n",
              "      <td>6957</td>\n",
              "      <td>...</td>\n",
              "      <td>81114.311811</td>\n",
              "      <td>12324.477321</td>\n",
              "      <td>58.1</td>\n",
              "      <td>36.133332</td>\n",
              "      <td>stable</td>\n",
              "      <td>54.0</td>\n",
              "      <td>31.114814</td>\n",
              "      <td>99631</td>\n",
              "      <td>02</td>\n",
              "      <td>090</td>\n",
              "    </tr>\n",
              "    <tr>\n",
              "      <th>9</th>\n",
              "      <td>AK</td>\n",
              "      <td>Juneau City and Borough, Alaska</td>\n",
              "      <td>6441.567957</td>\n",
              "      <td>1145</td>\n",
              "      <td>965</td>\n",
              "      <td>02110</td>\n",
              "      <td>85746.0</td>\n",
              "      <td>90553.0</td>\n",
              "      <td>13739</td>\n",
              "      <td>2433</td>\n",
              "      <td>...</td>\n",
              "      <td>83407.619978</td>\n",
              "      <td>14183.661009</td>\n",
              "      <td>35.1</td>\n",
              "      <td>27.475882</td>\n",
              "      <td>stable</td>\n",
              "      <td>34.4</td>\n",
              "      <td>24.423006</td>\n",
              "      <td>32756</td>\n",
              "      <td>02</td>\n",
              "      <td>110</td>\n",
              "    </tr>\n",
              "    <tr>\n",
              "      <th>10</th>\n",
              "      <td>AK</td>\n",
              "      <td>Kenai Peninsula Borough, Alaska</td>\n",
              "      <td>9573.020548</td>\n",
              "      <td>2596</td>\n",
              "      <td>2962</td>\n",
              "      <td>02122</td>\n",
              "      <td>63684.0</td>\n",
              "      <td>64663.0</td>\n",
              "      <td>22391</td>\n",
              "      <td>6435</td>\n",
              "      <td>...</td>\n",
              "      <td>75886.598116</td>\n",
              "      <td>20441.275254</td>\n",
              "      <td>64.9</td>\n",
              "      <td>67.173048</td>\n",
              "      <td>stable</td>\n",
              "      <td>50.1</td>\n",
              "      <td>48.226804</td>\n",
              "      <td>58059</td>\n",
              "      <td>02</td>\n",
              "      <td>122</td>\n",
              "    </tr>\n",
              "  </tbody>\n",
              "</table>\n",
              "<p>5 rows × 22 columns</p>\n",
              "</div>\n",
              "      <button class=\"colab-df-convert\" onclick=\"convertToInteractive('df-47707f27-d3b4-4c16-8ad0-e29dfeb06aa5')\"\n",
              "              title=\"Convert this dataframe to an interactive table.\"\n",
              "              style=\"display:none;\">\n",
              "        \n",
              "  <svg xmlns=\"http://www.w3.org/2000/svg\" height=\"24px\"viewBox=\"0 0 24 24\"\n",
              "       width=\"24px\">\n",
              "    <path d=\"M0 0h24v24H0V0z\" fill=\"none\"/>\n",
              "    <path d=\"M18.56 5.44l.94 2.06.94-2.06 2.06-.94-2.06-.94-.94-2.06-.94 2.06-2.06.94zm-11 1L8.5 8.5l.94-2.06 2.06-.94-2.06-.94L8.5 2.5l-.94 2.06-2.06.94zm10 10l.94 2.06.94-2.06 2.06-.94-2.06-.94-.94-2.06-.94 2.06-2.06.94z\"/><path d=\"M17.41 7.96l-1.37-1.37c-.4-.4-.92-.59-1.43-.59-.52 0-1.04.2-1.43.59L10.3 9.45l-7.72 7.72c-.78.78-.78 2.05 0 2.83L4 21.41c.39.39.9.59 1.41.59.51 0 1.02-.2 1.41-.59l7.78-7.78 2.81-2.81c.8-.78.8-2.07 0-2.86zM5.41 20L4 18.59l7.72-7.72 1.47 1.35L5.41 20z\"/>\n",
              "  </svg>\n",
              "      </button>\n",
              "      \n",
              "  <style>\n",
              "    .colab-df-container {\n",
              "      display:flex;\n",
              "      flex-wrap:wrap;\n",
              "      gap: 12px;\n",
              "    }\n",
              "\n",
              "    .colab-df-convert {\n",
              "      background-color: #E8F0FE;\n",
              "      border: none;\n",
              "      border-radius: 50%;\n",
              "      cursor: pointer;\n",
              "      display: none;\n",
              "      fill: #1967D2;\n",
              "      height: 32px;\n",
              "      padding: 0 0 0 0;\n",
              "      width: 32px;\n",
              "    }\n",
              "\n",
              "    .colab-df-convert:hover {\n",
              "      background-color: #E2EBFA;\n",
              "      box-shadow: 0px 1px 2px rgba(60, 64, 67, 0.3), 0px 1px 3px 1px rgba(60, 64, 67, 0.15);\n",
              "      fill: #174EA6;\n",
              "    }\n",
              "\n",
              "    [theme=dark] .colab-df-convert {\n",
              "      background-color: #3B4455;\n",
              "      fill: #D2E3FC;\n",
              "    }\n",
              "\n",
              "    [theme=dark] .colab-df-convert:hover {\n",
              "      background-color: #434B5C;\n",
              "      box-shadow: 0px 1px 3px 1px rgba(0, 0, 0, 0.15);\n",
              "      filter: drop-shadow(0px 1px 2px rgba(0, 0, 0, 0.3));\n",
              "      fill: #FFFFFF;\n",
              "    }\n",
              "  </style>\n",
              "\n",
              "      <script>\n",
              "        const buttonEl =\n",
              "          document.querySelector('#df-47707f27-d3b4-4c16-8ad0-e29dfeb06aa5 button.colab-df-convert');\n",
              "        buttonEl.style.display =\n",
              "          google.colab.kernel.accessAllowed ? 'block' : 'none';\n",
              "\n",
              "        async function convertToInteractive(key) {\n",
              "          const element = document.querySelector('#df-47707f27-d3b4-4c16-8ad0-e29dfeb06aa5');\n",
              "          const dataTable =\n",
              "            await google.colab.kernel.invokeFunction('convertToInteractive',\n",
              "                                                     [key], {});\n",
              "          if (!dataTable) return;\n",
              "\n",
              "          const docLinkHtml = 'Like what you see? Visit the ' +\n",
              "            '<a target=\"_blank\" href=https://colab.research.google.com/notebooks/data_table.ipynb>data table notebook</a>'\n",
              "            + ' to learn more about interactive tables.';\n",
              "          element.innerHTML = '';\n",
              "          dataTable['output_type'] = 'display_data';\n",
              "          await google.colab.output.renderOutput(dataTable, element);\n",
              "          const docLink = document.createElement('div');\n",
              "          docLink.innerHTML = docLinkHtml;\n",
              "          element.appendChild(docLink);\n",
              "        }\n",
              "      </script>\n",
              "    </div>\n",
              "  </div>\n",
              "  "
            ]
          },
          "metadata": {},
          "execution_count": 57
        }
      ]
    },
    {
      "cell_type": "markdown",
      "metadata": {
        "id": "ViJHrg4AfICo"
      },
      "source": [
        "## **Part 2: Exploratory analysis [15 Marks]**\n",
        "\n",
        "### 2.1 Visualizing different features [5 Marks]\n",
        "Here, show different feature and how they change with respect to each other.\n",
        "*Hint*: A good function to use here is `sns.pairplot`. Remember to have the plots labeled properly so that they are self explanatory.\n"
      ]
    },
    {
      "cell_type": "code",
      "source": [
        "print(list(df4.columns))"
      ],
      "metadata": {
        "colab": {
          "base_uri": "https://localhost:8080/"
        },
        "id": "qXx1Ju3LQEQH",
        "outputId": "99338b6c-338a-4425-d609-bf6656c67b40"
      },
      "execution_count": 58,
      "outputs": [
        {
          "output_type": "stream",
          "name": "stdout",
          "text": [
            "['State', 'AreaName', 'All_Poverty', 'M_Poverty', 'F_Poverty', 'FIPS', 'Med_Income', 'Med_Income_White', 'M_With', 'M_Without', 'F_With', 'F_Without', 'All_With', 'All_Without', 'Incidence_Rate', 'Avg_Ann_Incidence', 'Recent_Trend', 'Mortality_Rate', 'Avg_Ann_Deaths', 'POPESTIMATE2015', 'STATE', 'COUNTY']\n"
          ]
        }
      ]
    },
    {
      "cell_type": "code",
      "execution_count": 59,
      "metadata": {
        "id": "u2dnSrTsCAro"
      },
      "outputs": [],
      "source": [
        "x_variable = df4[['All_Poverty', 'M_Poverty', 'F_Poverty', 'Med_Income', 'Med_Income_White', 'M_With', 'M_Without', 'F_With', 'F_Without', 'All_With', 'All_Without', 'Incidence_Rate', 'Avg_Ann_Incidence', 'Avg_Ann_Deaths', 'POPESTIMATE2015']]\n",
        "# sns.pairplot(x_variable)\n",
        "# plt.show()"
      ]
    },
    {
      "cell_type": "code",
      "source": [
        "corr_x = x_variable.corr()\n",
        "# print(corr_x )\n",
        "plt.figure(figsize=(10,8))\n",
        "sns.heatmap(corr_x, annot=True, cmap='RdBu')\n",
        "plt.show"
      ],
      "metadata": {
        "id": "hPqzjFQZnutf",
        "colab": {
          "base_uri": "https://localhost:8080/",
          "height": 591
        },
        "outputId": "085295f2-8e1c-4abf-d7ba-342f4fbe3c54"
      },
      "execution_count": 60,
      "outputs": [
        {
          "output_type": "execute_result",
          "data": {
            "text/plain": [
              "<function matplotlib.pyplot.show(*args, **kw)>"
            ]
          },
          "metadata": {},
          "execution_count": 60
        },
        {
          "output_type": "display_data",
          "data": {
            "text/plain": [
              "<Figure size 720x576 with 2 Axes>"
            ],
            "image/png": "[encoded data removed]"
          },
          "metadata": {
            "needs_background": "light"
          }
        }
      ]
    },
    {
      "cell_type": "markdown",
      "metadata": {
        "id": "b6CsYCceCArp"
      },
      "source": [
        "### 2.2 Selecting the most important features [10 Marks]\n",
        "In this step, we want to remove the redundant features. \n",
        "\n",
        "*Hint*: This can be done by analyzing the correlation between the features and removing the highly correlated features. Remember, throughout the project, write down specific reasons for any desicion you make."
      ]
    },
    {
      "cell_type": "code",
      "execution_count": 60,
      "metadata": {
        "id": "XFkDjJRMCArp"
      },
      "outputs": [],
      "source": []
    },
    {
      "cell_type": "markdown",
      "metadata": {
        "id": "CEJUxd-6inbh"
      },
      "source": [
        "## **Part 3: Regression Model Construction [30 Marks]**\n",
        "\n",
        "### 3.1 Splitting the dataset [5 Marks] \n",
        "\n",
        "Split the dataset to three parts: train, validation, and test. You choose the ratios for the three datasets and provide a one-sentence rationale on why you went with such ratios.\n",
        "\n",
        "*Hint*: You can use the validation set approach from ch5 lab (google colab)."
      ]
    },
    {
      "cell_type": "code",
      "source": [
        "# Choose the data we need for the regression modell construction\n",
        "data = df4[['Mortality_Rate', 'All_Poverty', 'M_Poverty', 'F_Poverty', 'Med_Income', 'Med_Income_White', 'M_With', 'M_Without', 'F_With', 'F_Without', 'All_With', 'All_Without', 'Incidence_Rate', 'Avg_Ann_Incidence', 'Avg_Ann_Deaths', 'POPESTIMATE2015']]\n",
        "\n",
        "# # sklearn\n",
        "# from sklearn.model_selection import train_test_split\n",
        "# # Split the data into the features (x) and the target (y)\n",
        "# x = data.iloc[:, 1:]\n",
        "# y = data.iloc[:, 0]\n",
        "# # Separate the data into the test (hold-out) set and accessible data (train set plus validation set)\n",
        "# x_accessible, x_test, y_accessible, y_test = train_test_split(x, y, test_size=0.2, random_state=0)\n",
        "# # Separate the accessible dataset into the train set and validation set\n",
        "# x_train, x_val, y_train, y_val = train_test_split(x_accessible, y_accessible, test_size=0.25, random_state=0)"
      ],
      "metadata": {
        "id": "7B6vyA_N1LdM"
      },
      "execution_count": 61,
      "outputs": []
    },
    {
      "cell_type": "code",
      "source": [
        "# Shuffle the dataset and reset the index\n",
        "data = data.sample(frac=1).reset_index(drop=True)\n",
        "# Split the data into 60%, 20%, 20%, for training, validation, and test datasets respectively\n",
        "# Separate the last 20% as hold-out data (test data)\n",
        "data_test=data[int(0.8*len(data)):len(data)]\n",
        "# Keep the first 80% as accessible dataset (training+validation data)\n",
        "data_accessible=data[0:int(0.8*len(data))]\n",
        "# Randomly select 1/4 of the accessible samples as training data (75% of the total samples)\n",
        "np.random.seed(1)\n",
        "train = np.random.choice(data_accessible.shape[0], int(0.75*data_accessible.shape[0]), replace=False)\n",
        "len(train)"
      ],
      "metadata": {
        "colab": {
          "base_uri": "https://localhost:8080/"
        },
        "id": "3dDQFk0R-bMN",
        "outputId": "02228b90-4778-4da7-df63-90d13bcdc0f4"
      },
      "execution_count": 62,
      "outputs": [
        {
          "output_type": "execute_result",
          "data": {
            "text/plain": [
              "1584"
            ]
          },
          "metadata": {},
          "execution_count": 62
        }
      ]
    },
    {
      "cell_type": "code",
      "source": [
        "# Create a binary indicator for samples that are selected for training\n",
        "select = np.in1d(range(data_accessible.shape[0]), data_train)\n",
        "len(select)"
      ],
      "metadata": {
        "colab": {
          "base_uri": "https://localhost:8080/"
        },
        "id": "vLSKMLm0-hSA",
        "outputId": "c1f0f453-a3e7-4d8f-9d8f-7f72dceffd82"
      },
      "execution_count": 63,
      "outputs": [
        {
          "output_type": "execute_result",
          "data": {
            "text/plain": [
              "2112"
            ]
          },
          "metadata": {},
          "execution_count": 63
        }
      ]
    },
    {
      "cell_type": "code",
      "source": [
        "data_train = data_accessible[select]\n",
        "data_validation = data_accessible[~select]"
      ],
      "metadata": {
        "id": "DFjRdIaiDFO6"
      },
      "execution_count": 64,
      "outputs": []
    },
    {
      "cell_type": "markdown",
      "metadata": {
        "id": "ifUkLGMMCArp"
      },
      "source": [
        "### 3.2 Model training [15 Marks]\n",
        "Create three different models, using different features (and optionally nonlinear transformations). The purpose of these models is to predict mortality rate of lung cancer with reasonably high R2 (at least exceeding 70%) using a carefully chosen and justified set of features. Use the visualizations from section 2.1 to inform the feature selection for each model."
      ]
    },
    {
      "cell_type": "code",
      "source": [
        "lm = smf.ols('Mortality_Rate~All_Poverty + Med_Income + All_With + Incidence_Rate', data =data_train ).fit()\n",
        "lm.summary()"
      ],
      "metadata": {
        "colab": {
          "base_uri": "https://localhost:8080/",
          "height": 543
        },
        "id": "4DCNPc8CAdwM",
        "outputId": "86e838e5-f28d-4ecd-9f29-aab6e257315e"
      },
      "execution_count": 65,
      "outputs": [
        {
          "output_type": "execute_result",
          "data": {
            "text/plain": [
              "<class 'statsmodels.iolib.summary.Summary'>\n",
              "\"\"\"\n",
              "                            OLS Regression Results                            \n",
              "==============================================================================\n",
              "Dep. Variable:         Mortality_Rate   R-squared:                       0.782\n",
              "Model:                            OLS   Adj. R-squared:                  0.781\n",
              "Method:                 Least Squares   F-statistic:                     1414.\n",
              "Date:                Thu, 09 Feb 2023   Prob (F-statistic):               0.00\n",
              "Time:                        12:01:13   Log-Likelihood:                -5225.0\n",
              "No. Observations:                1584   AIC:                         1.046e+04\n",
              "Df Residuals:                    1579   BIC:                         1.049e+04\n",
              "Df Model:                           4                                         \n",
              "Covariance Type:            nonrobust                                         \n",
              "==================================================================================\n",
              "                     coef    std err          t      P>|t|      [0.025      0.975]\n",
              "----------------------------------------------------------------------------------\n",
              "Intercept         13.4019      2.890      4.637      0.000       7.733      19.071\n",
              "All_Poverty      7.99e-05   4.39e-05      1.818      0.069    -6.3e-06       0.000\n",
              "Med_Income        -0.0001   2.13e-05     -5.431      0.000      -0.000    -7.4e-05\n",
              "All_With       -8.978e-06   2.78e-05     -0.323      0.747   -6.35e-05    4.55e-05\n",
              "Incidence_Rate     0.6426      0.010     64.079      0.000       0.623       0.662\n",
              "==============================================================================\n",
              "Omnibus:                      229.925   Durbin-Watson:                   2.000\n",
              "Prob(Omnibus):                  0.000   Jarque-Bera (JB):             2100.052\n",
              "Skew:                          -0.360   Prob(JB):                         0.00\n",
              "Kurtosis:                       8.595   Cond. No.                     1.72e+06\n",
              "==============================================================================\n",
              "\n",
              "Notes:\n",
              "[1] Standard Errors assume that the covariance matrix of the errors is correctly specified.\n",
              "[2] The condition number is large, 1.72e+06. This might indicate that there are\n",
              "strong multicollinearity or other numerical problems.\n",
              "\"\"\""
            ],
            "text/html": [
              "<table class=\"simpletable\">\n",
              "<caption>OLS Regression Results</caption>\n",
              "<tr>\n",
              "  <th>Dep. Variable:</th>     <td>Mortality_Rate</td>  <th>  R-squared:         </th> <td>   0.782</td> \n",
              "</tr>\n",
              "<tr>\n",
              "  <th>Model:</th>                   <td>OLS</td>       <th>  Adj. R-squared:    </th> <td>   0.781</td> \n",
              "</tr>\n",
              "<tr>\n",
              "  <th>Method:</th>             <td>Least Squares</td>  <th>  F-statistic:       </th> <td>   1414.</td> \n",
              "</tr>\n",
              "<tr>\n",
              "  <th>Date:</th>             <td>Thu, 09 Feb 2023</td> <th>  Prob (F-statistic):</th>  <td>  0.00</td>  \n",
              "</tr>\n",
              "<tr>\n",
              "  <th>Time:</th>                 <td>12:01:13</td>     <th>  Log-Likelihood:    </th> <td> -5225.0</td> \n",
              "</tr>\n",
              "<tr>\n",
              "  <th>No. Observations:</th>      <td>  1584</td>      <th>  AIC:               </th> <td>1.046e+04</td>\n",
              "</tr>\n",
              "<tr>\n",
              "  <th>Df Residuals:</th>          <td>  1579</td>      <th>  BIC:               </th> <td>1.049e+04</td>\n",
              "</tr>\n",
              "<tr>\n",
              "  <th>Df Model:</th>              <td>     4</td>      <th>                     </th>     <td> </td>    \n",
              "</tr>\n",
              "<tr>\n",
              "  <th>Covariance Type:</th>      <td>nonrobust</td>    <th>                     </th>     <td> </td>    \n",
              "</tr>\n",
              "</table>\n",
              "<table class=\"simpletable\">\n",
              "<tr>\n",
              "         <td></td>           <th>coef</th>     <th>std err</th>      <th>t</th>      <th>P>|t|</th>  <th>[0.025</th>    <th>0.975]</th>  \n",
              "</tr>\n",
              "<tr>\n",
              "  <th>Intercept</th>      <td>   13.4019</td> <td>    2.890</td> <td>    4.637</td> <td> 0.000</td> <td>    7.733</td> <td>   19.071</td>\n",
              "</tr>\n",
              "<tr>\n",
              "  <th>All_Poverty</th>    <td>  7.99e-05</td> <td> 4.39e-05</td> <td>    1.818</td> <td> 0.069</td> <td> -6.3e-06</td> <td>    0.000</td>\n",
              "</tr>\n",
              "<tr>\n",
              "  <th>Med_Income</th>     <td>   -0.0001</td> <td> 2.13e-05</td> <td>   -5.431</td> <td> 0.000</td> <td>   -0.000</td> <td> -7.4e-05</td>\n",
              "</tr>\n",
              "<tr>\n",
              "  <th>All_With</th>       <td>-8.978e-06</td> <td> 2.78e-05</td> <td>   -0.323</td> <td> 0.747</td> <td>-6.35e-05</td> <td> 4.55e-05</td>\n",
              "</tr>\n",
              "<tr>\n",
              "  <th>Incidence_Rate</th> <td>    0.6426</td> <td>    0.010</td> <td>   64.079</td> <td> 0.000</td> <td>    0.623</td> <td>    0.662</td>\n",
              "</tr>\n",
              "</table>\n",
              "<table class=\"simpletable\">\n",
              "<tr>\n",
              "  <th>Omnibus:</th>       <td>229.925</td> <th>  Durbin-Watson:     </th> <td>   2.000</td>\n",
              "</tr>\n",
              "<tr>\n",
              "  <th>Prob(Omnibus):</th> <td> 0.000</td>  <th>  Jarque-Bera (JB):  </th> <td>2100.052</td>\n",
              "</tr>\n",
              "<tr>\n",
              "  <th>Skew:</th>          <td>-0.360</td>  <th>  Prob(JB):          </th> <td>    0.00</td>\n",
              "</tr>\n",
              "<tr>\n",
              "  <th>Kurtosis:</th>      <td> 8.595</td>  <th>  Cond. No.          </th> <td>1.72e+06</td>\n",
              "</tr>\n",
              "</table><br/><br/>Notes:<br/>[1] Standard Errors assume that the covariance matrix of the errors is correctly specified.<br/>[2] The condition number is large, 1.72e+06. This might indicate that there are<br/>strong multicollinearity or other numerical problems."
            ]
          },
          "metadata": {},
          "execution_count": 65
        }
      ]
    },
    {
      "cell_type": "code",
      "execution_count": null,
      "metadata": {
        "id": "BX7alvnvCArp"
      },
      "outputs": [],
      "source": [
        "# preds = lm.predict(Auto)\n",
        "# square_error = (Auto['mpg'] - preds)**2\n",
        "# print('--------Validation MSE for linear regression model--------')\n",
        "# print('Mean:',np.mean(square_error[~select]))\n",
        "# print('Standard deviation:',np.std(square_error[~select]))"
      ]
    },
    {
      "cell_type": "markdown",
      "metadata": {
        "id": "VGogzYiBCArp"
      },
      "source": [
        "### 3.3 Model selection [10 Marks]\n",
        "Using different model selection criteria and validation dataset, choose the single best perfoming model among the three models."
      ]
    },
    {
      "cell_type": "code",
      "execution_count": null,
      "metadata": {
        "id": "ww4JeC7rCArq"
      },
      "outputs": [],
      "source": []
    },
    {
      "cell_type": "markdown",
      "metadata": {
        "id": "FrYQgO4gCArq"
      },
      "source": [
        "## **Part 4: Model diagnostics [10 marks]**\n",
        "Explore model collinearity with `variance_inflation_factor`. Larger values of VIF indicate multicollinearity. Remove the problematic features and refit the model. Report how model R-squared is affected.\n",
        "\n",
        "*Hint:* Consider VIF > 10 as an indicator of multicollinearity. If the VIF for all your features is below 10, it is a positive indication that the level of collinearity is acceptably low without any changes to the model needed in this step."
      ]
    },
    {
      "cell_type": "code",
      "execution_count": null,
      "metadata": {
        "id": "cm_mPTFyCArq"
      },
      "outputs": [],
      "source": []
    },
    {
      "cell_type": "markdown",
      "metadata": {
        "id": "Ac1nyvCPe8ce"
      },
      "source": [
        "## **Part 5: Reporting test performance [5 marks]**\n",
        "Report the MSE of the final regression model using the test set."
      ]
    },
    {
      "cell_type": "code",
      "execution_count": null,
      "metadata": {
        "id": "2wCiG0RvCArq"
      },
      "outputs": [],
      "source": []
    },
    {
      "cell_type": "markdown",
      "source": [
        "## **Part 6: Alternative predictive model (optional): [20 bonus points up to the maximum mark]**"
      ],
      "metadata": {
        "id": "EeCqjGwIMudX"
      }
    },
    {
      "cell_type": "markdown",
      "source": [
        "Use one other supervised learning model to outperform the regression model from part 5 (in terms of MSE) on the same hold-out test set. Document, justify, and explain all your decision w.r.t. the implementation of this alternative predictive model.\n",
        "\n",
        "This part is deliberately designed without clear instructions as bonus points for efforts of groups in completing a very common ML task without a walkthrough or instrcutions."
      ],
      "metadata": {
        "id": "sgAuI8tIMvtI"
      }
    },
    {
      "cell_type": "code",
      "source": [],
      "metadata": {
        "id": "q77u_lJMNo-Q"
      },
      "execution_count": null,
      "outputs": []
    }
  ],
  "metadata": {
    "kernelspec": {
      "display_name": "Python 3.9.7 ('base')",
      "language": "python",
      "name": "python3"
    },
    "language_info": {
      "codemirror_mode": {
        "name": "ipython",
        "version": 3
      },
      "file_extension": ".py",
      "mimetype": "text/x-python",
      "name": "python",
      "nbconvert_exporter": "python",
      "pygments_lexer": "ipython3",
      "version": "3.9.7"
    },
    "orig_nbformat": 4,
    "vscode": {
      "interpreter": {
        "hash": "178dbd4e4302890baaa4938eb41c0ba387485e14ecbd41587fea31c5602c205c"
      }
    },
    "colab": {
      "provenance": [],
      "include_colab_link": true
    }
  },
  "nbformat": 4,
  "nbformat_minor": 0
}