{
  "nbformat": 4,
  "nbformat_minor": 0,
  "metadata": {
    "colab": {
      "name": "HW4-step1.ipynb",
      "provenance": [],
      "include_colab_link": true
    },
    "kernelspec": {
      "name": "python3",
      "display_name": "Python 3"
    }
  },
  "cells": [
    {
      "cell_type": "markdown",
      "metadata": {
        "id": "view-in-github",
        "colab_type": "text"
      },
      "source": [
        "<a href=\"https://colab.research.google.com/github/Esther-Zhou99/Data-Science/blob/main/HW4_step1.ipynb\" target=\"_parent\"><img src=\"https://colab.research.google.com/assets/colab-badge.svg\" alt=\"Open In Colab\"/></a>"
      ]
    },
    {
      "cell_type": "code",
      "metadata": {
        "colab": {
          "base_uri": "https://localhost:8080/"
        },
        "id": "9qtgxzPuZwlJ",
        "outputId": "05263177-1045-440a-ecbb-1e10e4b86138"
      },
      "source": [
        "!pip install pycountry\r\n",
        "!pip install geograpy3\r\n",
        "!pip install mip\r\n",
        "!pip install pycity"
      ],
      "execution_count": 2,
      "outputs": [
        {
          "output_type": "stream",
          "text": [
            "Collecting pycountry\n",
            "\u001b[?25l  Downloading https://files.pythonhosted.org/packages/76/73/6f1a412f14f68c273feea29a6ea9b9f1e268177d32e0e69ad6790d306312/pycountry-20.7.3.tar.gz (10.1MB)\n",
            "\u001b[K     |████████████████████████████████| 10.1MB 6.3MB/s \n",
            "\u001b[?25hBuilding wheels for collected packages: pycountry\n",
            "  Building wheel for pycountry (setup.py) ... \u001b[?25l\u001b[?25hdone\n",
            "  Created wheel for pycountry: filename=pycountry-20.7.3-py2.py3-none-any.whl size=10746863 sha256=0498b8940bf164078cd1b6c669caff994dedd7d7abacc3899ca7319ab777c927\n",
            "  Stored in directory: /root/.cache/pip/wheels/33/4e/a6/be297e6b83567e537bed9df4a93f8590ec01c1acfbcd405348\n",
            "Successfully built pycountry\n",
            "Installing collected packages: pycountry\n",
            "Successfully installed pycountry-20.7.3\n",
            "Collecting geograpy3\n",
            "\u001b[?25l  Downloading https://files.pythonhosted.org/packages/9d/ed/36a570b0d0f55d57f0762a703740d84c5fbb0a841b43fc5277c356b5566e/geograpy3-0.1.24-py3-none-any.whl (1.5MB)\n",
            "\u001b[K     |████████████████████████████████| 1.5MB 7.6MB/s \n",
            "\u001b[?25hCollecting jellyfish\n",
            "\u001b[?25l  Downloading https://files.pythonhosted.org/packages/30/a6/4d039bc827a102f62ce7a7910713e38fdfd7c7a40aa39c72fb14938a1473/jellyfish-0.8.2-cp37-cp37m-manylinux2014_x86_64.whl (90kB)\n",
            "\u001b[K     |████████████████████████████████| 92kB 9.2MB/s \n",
            "\u001b[?25hCollecting newspaper3k\n",
            "\u001b[?25l  Downloading https://files.pythonhosted.org/packages/d7/b9/51afecb35bb61b188a4b44868001de348a0e8134b4dfa00ffc191567c4b9/newspaper3k-0.2.8-py3-none-any.whl (211kB)\n",
            "\u001b[K     |████████████████████████████████| 215kB 33.0MB/s \n",
            "\u001b[?25hRequirement already satisfied: nltk in /usr/local/lib/python3.7/dist-packages (from geograpy3) (3.2.5)\n",
            "Requirement already satisfied: numpy in /usr/local/lib/python3.7/dist-packages (from geograpy3) (1.19.5)\n",
            "Requirement already satisfied: pycountry in /usr/local/lib/python3.7/dist-packages (from geograpy3) (20.7.3)\n",
            "Collecting pylodstorage\n",
            "  Downloading https://files.pythonhosted.org/packages/65/c6/7f01d8118fea6220b346528901a1ba2786268507882ee8a18361a44e1ea0/pylodstorage-0.0.26-py3-none-any.whl\n",
            "Collecting tinysegmenter==0.3\n",
            "  Downloading https://files.pythonhosted.org/packages/17/82/86982e4b6d16e4febc79c2a1d68ee3b707e8a020c5d2bc4af8052d0f136a/tinysegmenter-0.3.tar.gz\n",
            "Collecting feedfinder2>=0.0.4\n",
            "  Downloading https://files.pythonhosted.org/packages/35/82/1251fefec3bb4b03fd966c7e7f7a41c9fc2bb00d823a34c13f847fd61406/feedfinder2-0.0.4.tar.gz\n",
            "Requirement already satisfied: Pillow>=3.3.0 in /usr/local/lib/python3.7/dist-packages (from newspaper3k->geograpy3) (7.0.0)\n",
            "Requirement already satisfied: python-dateutil>=2.5.3 in /usr/local/lib/python3.7/dist-packages (from newspaper3k->geograpy3) (2.8.1)\n",
            "Requirement already satisfied: beautifulsoup4>=4.4.1 in /usr/local/lib/python3.7/dist-packages (from newspaper3k->geograpy3) (4.6.3)\n",
            "Requirement already satisfied: PyYAML>=3.11 in /usr/local/lib/python3.7/dist-packages (from newspaper3k->geograpy3) (3.13)\n",
            "Collecting jieba3k>=0.35.1\n",
            "\u001b[?25l  Downloading https://files.pythonhosted.org/packages/a9/cb/2c8332bcdc14d33b0bedd18ae0a4981a069c3513e445120da3c3f23a8aaa/jieba3k-0.35.1.zip (7.4MB)\n",
            "\u001b[K     |████████████████████████████████| 7.4MB 2.3MB/s \n",
            "\u001b[?25hCollecting feedparser>=5.2.1\n",
            "\u001b[?25l  Downloading https://files.pythonhosted.org/packages/1c/21/faf1bac028662cc8adb2b5ef7a6f3999a765baa2835331df365289b0ca56/feedparser-6.0.2-py3-none-any.whl (80kB)\n",
            "\u001b[K     |████████████████████████████████| 81kB 8.0MB/s \n",
            "\u001b[?25hRequirement already satisfied: lxml>=3.6.0 in /usr/local/lib/python3.7/dist-packages (from newspaper3k->geograpy3) (4.2.6)\n",
            "Requirement already satisfied: requests>=2.10.0 in /usr/local/lib/python3.7/dist-packages (from newspaper3k->geograpy3) (2.23.0)\n",
            "Collecting cssselect>=0.9.2\n",
            "  Downloading https://files.pythonhosted.org/packages/3b/d4/3b5c17f00cce85b9a1e6f91096e1cc8e8ede2e1be8e96b87ce1ed09e92c5/cssselect-1.1.0-py2.py3-none-any.whl\n",
            "Collecting tldextract>=2.0.1\n",
            "\u001b[?25l  Downloading https://files.pythonhosted.org/packages/7e/62/b6acd3129c5615b9860e670df07fd55b76175b63e6b7f68282c7cad38e9e/tldextract-3.1.0-py2.py3-none-any.whl (87kB)\n",
            "\u001b[K     |████████████████████████████████| 92kB 9.2MB/s \n",
            "\u001b[?25hRequirement already satisfied: six in /usr/local/lib/python3.7/dist-packages (from nltk->geograpy3) (1.15.0)\n",
            "Collecting SPARQLWrapper\n",
            "  Downloading https://files.pythonhosted.org/packages/00/9b/443fbe06996c080ee9c1f01b04e2f683b2b07e149905f33a2397ee3b80a2/SPARQLWrapper-1.8.5-py3-none-any.whl\n",
            "Collecting sgmllib3k\n",
            "  Downloading https://files.pythonhosted.org/packages/9e/bd/3704a8c3e0942d711c1299ebf7b9091930adae6675d7c8f476a7ce48653c/sgmllib3k-1.0.0.tar.gz\n",
            "Requirement already satisfied: idna<3,>=2.5 in /usr/local/lib/python3.7/dist-packages (from requests>=2.10.0->newspaper3k->geograpy3) (2.10)\n",
            "Requirement already satisfied: certifi>=2017.4.17 in /usr/local/lib/python3.7/dist-packages (from requests>=2.10.0->newspaper3k->geograpy3) (2020.12.5)\n",
            "Requirement already satisfied: chardet<4,>=3.0.2 in /usr/local/lib/python3.7/dist-packages (from requests>=2.10.0->newspaper3k->geograpy3) (3.0.4)\n",
            "Requirement already satisfied: urllib3!=1.25.0,!=1.25.1,<1.26,>=1.21.1 in /usr/local/lib/python3.7/dist-packages (from requests>=2.10.0->newspaper3k->geograpy3) (1.24.3)\n",
            "Collecting requests-file>=1.4\n",
            "  Downloading https://files.pythonhosted.org/packages/77/86/cdb5e8eaed90796aa83a6d9f75cfbd37af553c47a291cd47bc410ef9bdb2/requests_file-1.5.1-py2.py3-none-any.whl\n",
            "Requirement already satisfied: filelock>=3.0.8 in /usr/local/lib/python3.7/dist-packages (from tldextract>=2.0.1->newspaper3k->geograpy3) (3.0.12)\n",
            "Collecting rdflib>=4.0\n",
            "\u001b[?25l  Downloading https://files.pythonhosted.org/packages/d0/6b/6454aa1db753c0f8bc265a5bd5c10b5721a4bb24160fb4faf758cf6be8a1/rdflib-5.0.0-py3-none-any.whl (231kB)\n",
            "\u001b[K     |████████████████████████████████| 235kB 39.7MB/s \n",
            "\u001b[?25hCollecting isodate\n",
            "\u001b[?25l  Downloading https://files.pythonhosted.org/packages/9b/9f/b36f7774ff5ea8e428fdcfc4bb332c39ee5b9362ddd3d40d9516a55221b2/isodate-0.6.0-py2.py3-none-any.whl (45kB)\n",
            "\u001b[K     |████████████████████████████████| 51kB 5.7MB/s \n",
            "\u001b[?25hRequirement already satisfied: pyparsing in /usr/local/lib/python3.7/dist-packages (from rdflib>=4.0->SPARQLWrapper->pylodstorage->geograpy3) (2.4.7)\n",
            "Building wheels for collected packages: tinysegmenter, feedfinder2, jieba3k, sgmllib3k\n",
            "  Building wheel for tinysegmenter (setup.py) ... \u001b[?25l\u001b[?25hdone\n",
            "  Created wheel for tinysegmenter: filename=tinysegmenter-0.3-cp37-none-any.whl size=13538 sha256=059920de05c13629281179bfd82c082e9b1b16a48910659e1eaecf63c223135c\n",
            "  Stored in directory: /root/.cache/pip/wheels/81/2b/43/a02ede72324dd40cdd7ca53aad718c7710628e91b8b0dc0f02\n",
            "  Building wheel for feedfinder2 (setup.py) ... \u001b[?25l\u001b[?25hdone\n",
            "  Created wheel for feedfinder2: filename=feedfinder2-0.0.4-cp37-none-any.whl size=3358 sha256=4b00216d37e1c9fbd3644877a96c6e6d3a8be22fcd9c3e3fb9f4704d492f5f72\n",
            "  Stored in directory: /root/.cache/pip/wheels/de/03/ca/778e3a7a627e3d98836cc890e7cb40c7575424cfd3340f40ed\n",
            "  Building wheel for jieba3k (setup.py) ... \u001b[?25l\u001b[?25hdone\n",
            "  Created wheel for jieba3k: filename=jieba3k-0.35.1-cp37-none-any.whl size=7398406 sha256=15915ca6c74978138033d5ea2adac47a7482611abc64d481b1dd224d31e7a3d0\n",
            "  Stored in directory: /root/.cache/pip/wheels/83/15/9c/a3f1f67e7f7181170ad37d32e503c35da20627c013f438ed34\n",
            "  Building wheel for sgmllib3k (setup.py) ... \u001b[?25l\u001b[?25hdone\n",
            "  Created wheel for sgmllib3k: filename=sgmllib3k-1.0.0-cp37-none-any.whl size=6067 sha256=06a0e177ddf816e1d32bea8668feba3e0cdc6f8789df51c37d81df5089f8e84a\n",
            "  Stored in directory: /root/.cache/pip/wheels/f1/80/5a/444ba08a550cdd241bd9baf8bae44be750efe370adb944506a\n",
            "Successfully built tinysegmenter feedfinder2 jieba3k sgmllib3k\n",
            "Installing collected packages: jellyfish, tinysegmenter, feedfinder2, jieba3k, sgmllib3k, feedparser, cssselect, requests-file, tldextract, newspaper3k, isodate, rdflib, SPARQLWrapper, pylodstorage, geograpy3\n",
            "Successfully installed SPARQLWrapper-1.8.5 cssselect-1.1.0 feedfinder2-0.0.4 feedparser-6.0.2 geograpy3-0.1.24 isodate-0.6.0 jellyfish-0.8.2 jieba3k-0.35.1 newspaper3k-0.2.8 pylodstorage-0.0.26 rdflib-5.0.0 requests-file-1.5.1 sgmllib3k-1.0.0 tinysegmenter-0.3 tldextract-3.1.0\n",
            "Collecting mip\n",
            "\u001b[?25l  Downloading https://files.pythonhosted.org/packages/e5/7c/615a417b8b74dde4c3573f09c79612e3e0ed8c9b9488daf67e86cde350d2/mip-1.13.0-py3-none-any.whl (48.0MB)\n",
            "\u001b[K     |████████████████████████████████| 48.0MB 97kB/s \n",
            "\u001b[?25hRequirement already satisfied: cffi in /usr/local/lib/python3.7/dist-packages (from mip) (1.14.5)\n",
            "Requirement already satisfied: pycparser in /usr/local/lib/python3.7/dist-packages (from cffi->mip) (2.20)\n",
            "Installing collected packages: mip\n",
            "Successfully installed mip-1.13.0\n",
            "Collecting pycity\n",
            "  Downloading https://files.pythonhosted.org/packages/7c/72/c4a8964f2339adbc9175bd68f2cec425f91f14cea452420f008d143922f8/pycity-0.1.3.tar.gz\n",
            "Building wheels for collected packages: pycity\n",
            "  Building wheel for pycity (setup.py) ... \u001b[?25l\u001b[?25hdone\n",
            "  Created wheel for pycity: filename=pycity-0.1.3-cp37-none-any.whl size=4187 sha256=41c81d0200c372c6248f70f618ca82f779604c5e88dc3f19f98ed3963203e920\n",
            "  Stored in directory: /root/.cache/pip/wheels/bc/44/37/f3feb0eb029355d5ed39ca7a7f227f40cecdb3639ca40d6579\n",
            "Successfully built pycity\n",
            "Installing collected packages: pycity\n",
            "Successfully installed pycity-0.1.3\n"
          ],
          "name": "stdout"
        }
      ]
    },
    {
      "cell_type": "code",
      "metadata": {
        "id": "R6cSc201Z0ja"
      },
      "source": [
        "from geopy.geocoders import Nominatim\r\n",
        "from geopy .distance import geodesic\r\n",
        "geolocator = Nominatim(user_agent=\"my-application\")"
      ],
      "execution_count": 3,
      "outputs": []
    },
    {
      "cell_type": "code",
      "metadata": {
        "colab": {
          "base_uri": "https://localhost:8080/"
        },
        "id": "8wHUAh8OZ6tp",
        "outputId": "cabfdbb8-f2a2-439d-d5c4-a34947dd1292"
      },
      "source": [
        "location1 = geolocator.geocode(\"NYU\")\r\n",
        "School1 = (location1.latitude, location1.longitude)\r\n",
        "school1=tuple(list(School1)+[\"NYU\"])\r\n",
        "\r\n",
        "location2 = geolocator.geocode(\"华东师范大学\")\r\n",
        "School2 = (location2.latitude, location2.longitude)\r\n",
        "school2=tuple(list(School2)+[\"ECNU\"])\r\n",
        "\r\n",
        "location3 = geolocator.geocode(\"Rensselaer Polytechnic Institute\")\r\n",
        "School3 = (location3.latitude, location3.longitude)\r\n",
        "school3=tuple(list(School3)+[\"RPI\"])\r\n",
        "\r\n",
        "location4 = geolocator.geocode(\"University of Cambridge\")\r\n",
        "School4 = (location4.latitude, location4.longitude)\r\n",
        "school4=tuple(list(School4)+[\"Cambridge\"])\r\n",
        "\r\n",
        "location5 = geolocator.geocode(\"Harvard\")\r\n",
        "School5 = (location5.latitude, location5.longitude)\r\n",
        "school5=tuple(list(School5)+[\"Harvard\"])\r\n",
        "\r\n",
        "location6 = geolocator.geocode(\"UC Berkeley\")\r\n",
        "School6 = (location6.latitude, location6.longitude)\r\n",
        "school6=tuple(list(School6)+[\"UCB\"])\r\n",
        "\r\n",
        "schools = [school1,school2,school3,school4,school5,school6]\r\n",
        "Schools = [School1,School2,School3,School4,School5,School6]\r\n",
        "\r\n",
        "schools"
      ],
      "execution_count": 11,
      "outputs": [
        {
          "output_type": "execute_result",
          "data": {
            "text/plain": [
              "[(40.72925325, -73.99625393609625, 'NYU'),\n",
              " (31.2284923, 121.40211388976886, 'ECNU'),\n",
              " (42.729921950000005, -73.67953982458829, 'RPI'),\n",
              " (52.1998523, 0.11973865741074383, 'Cambridge'),\n",
              " (42.36790855, -71.12678237443698, 'Harvard'),\n",
              " (37.8753497, -122.23963364918777, 'UCB')]"
            ]
          },
          "metadata": {
            "tags": []
          },
          "execution_count": 11
        }
      ]
    },
    {
      "cell_type": "code",
      "metadata": {
        "colab": {
          "base_uri": "https://localhost:8080/"
        },
        "id": "GA-3vdVkdRiR",
        "outputId": "c7e9bdf5-775e-4acf-9b39-cb8a66191ffb"
      },
      "source": [
        "Schools"
      ],
      "execution_count": 12,
      "outputs": [
        {
          "output_type": "execute_result",
          "data": {
            "text/plain": [
              "[(40.72925325, -73.99625393609625),\n",
              " (31.2284923, 121.40211388976886),\n",
              " (42.729921950000005, -73.67953982458829),\n",
              " (52.1998523, 0.11973865741074383),\n",
              " (42.36790855, -71.12678237443698),\n",
              " (37.8753497, -122.23963364918777)]"
            ]
          },
          "metadata": {
            "tags": []
          },
          "execution_count": 12
        }
      ]
    },
    {
      "cell_type": "code",
      "metadata": {
        "id": "3LfikUbSvDDX",
        "outputId": "0c955708-78b8-47c3-cc20-5689aada04b7",
        "colab": {
          "base_uri": "https://localhost:8080/",
          "height": 282
        }
      },
      "source": [
        "universities = np.array(Schools)\r\n",
        "import matplotlib.pyplot as plt\r\n",
        "plt.scatter(x = [c[0] for c in universities], y = [c[1] for c in universities])"
      ],
      "execution_count": 13,
      "outputs": [
        {
          "output_type": "execute_result",
          "data": {
            "text/plain": [
              "<matplotlib.collections.PathCollection at 0x7fb9eb409d50>"
            ]
          },
          "metadata": {
            "tags": []
          },
          "execution_count": 13
        },
        {
          "output_type": "display_data",
          "data": {
            "image/png": "[encoded data removed]",
            "text/plain": [
              "<Figure size 432x288 with 1 Axes>"
            ]
          },
          "metadata": {
            "tags": [],
            "needs_background": "light"
          }
        }
      ]
    },
    {
      "cell_type": "code",
      "metadata": {
        "colab": {
          "base_uri": "https://localhost:8080/"
        },
        "id": "ulWUTEbXc6PS",
        "outputId": "f9c612ff-c359-4ddb-8b2a-dc699afa0bc1"
      },
      "source": [
        "values=[]\r\n",
        "for i in range(len(schools)):\r\n",
        "  for j in range (i+1,len(schools)):\r\n",
        "      distance=geodesic(Schools[i],Schools[j]).miles\r\n",
        "      values.append((str(schools[i][2]),str(schools[j][2]),distance))\r\n",
        "      values.append((str(schools[j][2]),str(schools[i][2]),distance))\r\n",
        "values"
      ],
      "execution_count": 14,
      "outputs": [
        {
          "output_type": "execute_result",
          "data": {
            "text/plain": [
              "[('NYU', 'ECNU', 7383.018286810869),\n",
              " ('ECNU', 'NYU', 7383.018286810869),\n",
              " ('NYU', 'RPI', 139.04223314547826),\n",
              " ('RPI', 'NYU', 139.04223314547826),\n",
              " ('NYU', 'Cambridge', 3464.5239336374602),\n",
              " ('Cambridge', 'NYU', 3464.5239336374602),\n",
              " ('NYU', 'Harvard', 186.84769401088033),\n",
              " ('Harvard', 'NYU', 186.84769401088033),\n",
              " ('NYU', 'UCB', 2560.605184749848),\n",
              " ('UCB', 'NYU', 2560.605184749848),\n",
              " ('ECNU', 'RPI', 7252.559126720535),\n",
              " ('RPI', 'ECNU', 7252.559126720535),\n",
              " ('ECNU', 'Cambridge', 5685.086351468038),\n",
              " ('Cambridge', 'ECNU', 5685.086351468038),\n",
              " ('ECNU', 'Harvard', 7304.458477399387),\n",
              " ('Harvard', 'ECNU', 7304.458477399387),\n",
              " ('ECNU', 'UCB', 6157.4606338945805),\n",
              " ('UCB', 'ECNU', 6157.4606338945805),\n",
              " ('RPI', 'Cambridge', 3364.968097171021),\n",
              " ('Cambridge', 'RPI', 3364.968097171021),\n",
              " ('RPI', 'Harvard', 132.65225116811908),\n",
              " ('Harvard', 'RPI', 132.65225116811908),\n",
              " ('RPI', 'UCB', 2551.4913177807866),\n",
              " ('UCB', 'RPI', 2551.4913177807866),\n",
              " ('Cambridge', 'Harvard', 3277.7409970548592),\n",
              " ('Harvard', 'Cambridge', 3277.7409970548592),\n",
              " ('Cambridge', 'UCB', 5329.066245946783),\n",
              " ('UCB', 'Cambridge', 5329.066245946783),\n",
              " ('Harvard', 'UCB', 2684.1340859418383),\n",
              " ('UCB', 'Harvard', 2684.1340859418383)]"
            ]
          },
          "metadata": {
            "tags": []
          },
          "execution_count": 14
        }
      ]
    },
    {
      "cell_type": "code",
      "metadata": {
        "colab": {
          "base_uri": "https://localhost:8080/"
        },
        "id": "MDzQ7R4do4lb",
        "outputId": "f504588e-3a3f-4781-d463-3a289df28b5b"
      },
      "source": [
        "from random import choice\r\n",
        "import numpy as np\r\n",
        "import sys\r\n",
        "\r\n",
        "dt = np.dtype([(\"city_start\", \"S10\"), (\"city_end\", \"S10\"), (\"distance\", int)])\r\n",
        "data_set = np.array(values, dtype=dt)\r\n",
        "data_set"
      ],
      "execution_count": 15,
      "outputs": [
        {
          "output_type": "execute_result",
          "data": {
            "text/plain": [
              "array([(b'NYU', b'ECNU', 7383), (b'ECNU', b'NYU', 7383),\n",
              "       (b'NYU', b'RPI',  139), (b'RPI', b'NYU',  139),\n",
              "       (b'NYU', b'Cambridge', 3464), (b'Cambridge', b'NYU', 3464),\n",
              "       (b'NYU', b'Harvard',  186), (b'Harvard', b'NYU',  186),\n",
              "       (b'NYU', b'UCB', 2560), (b'UCB', b'NYU', 2560),\n",
              "       (b'ECNU', b'RPI', 7252), (b'RPI', b'ECNU', 7252),\n",
              "       (b'ECNU', b'Cambridge', 5685), (b'Cambridge', b'ECNU', 5685),\n",
              "       (b'ECNU', b'Harvard', 7304), (b'Harvard', b'ECNU', 7304),\n",
              "       (b'ECNU', b'UCB', 6157), (b'UCB', b'ECNU', 6157),\n",
              "       (b'RPI', b'Cambridge', 3364), (b'Cambridge', b'RPI', 3364),\n",
              "       (b'RPI', b'Harvard',  132), (b'Harvard', b'RPI',  132),\n",
              "       (b'RPI', b'UCB', 2551), (b'UCB', b'RPI', 2551),\n",
              "       (b'Cambridge', b'Harvard', 3277), (b'Harvard', b'Cambridge', 3277),\n",
              "       (b'Cambridge', b'UCB', 5329), (b'UCB', b'Cambridge', 5329),\n",
              "       (b'Harvard', b'UCB', 2684), (b'UCB', b'Harvard', 2684)],\n",
              "      dtype=[('city_start', 'S10'), ('city_end', 'S10'), ('distance', '<i8')])"
            ]
          },
          "metadata": {
            "tags": []
          },
          "execution_count": 15
        }
      ]
    },
    {
      "cell_type": "code",
      "metadata": {
        "colab": {
          "base_uri": "https://localhost:8080/"
        },
        "id": "hgiRfjCnpDir",
        "outputId": "2d80c167-24a7-455f-e3fc-f45f1e60083b"
      },
      "source": [
        "def all_cities():\r\n",
        "    \"\"\"Finds unique cities\r\n",
        "    array([[\"A\", \"A\"],\r\n",
        "    [\"A\", \"B\"]])\r\n",
        "    \"\"\"\r\n",
        "    cities = {}\r\n",
        "    city_set = set(data_set[\"city_end\"])\r\n",
        "    for city in city_set:\r\n",
        "        cities[city] = \"\"\r\n",
        "    return cities\r\n",
        "all_cities()"
      ],
      "execution_count": 16,
      "outputs": [
        {
          "output_type": "execute_result",
          "data": {
            "text/plain": [
              "{b'Cambridge': '',\n",
              " b'ECNU': '',\n",
              " b'Harvard': '',\n",
              " b'NYU': '',\n",
              " b'RPI': '',\n",
              " b'UCB': ''}"
            ]
          },
          "metadata": {
            "tags": []
          },
          "execution_count": 16
        }
      ]
    },
    {
      "cell_type": "code",
      "metadata": {
        "colab": {
          "base_uri": "https://localhost:8080/"
        },
        "id": "IEYNZCTbgCmk",
        "outputId": "fe24c5b3-72a6-47d8-ac89-1851b6605d42"
      },
      "source": [
        "def all_cities():\r\n",
        "    \"\"\"Finds unique cities\r\n",
        "    array([[\"A\", \"A\"],\r\n",
        "    [\"A\", \"B\"]])\r\n",
        "    \"\"\"\r\n",
        "    cities = {}\r\n",
        "    city_set = set(data_set[\"city_end\"])\r\n",
        "    for city in city_set:\r\n",
        "        cities[city] = \"\"\r\n",
        "    return cities\r\n",
        "\r\n",
        "\r\n",
        "def randomize_city_start(cities):\r\n",
        "    \"\"\"Returns a randomized city to start trip\"\"\"\r\n",
        "\r\n",
        "    return choice(cities)\r\n",
        "\r\n",
        "\r\n",
        "def get_shortest_route(routes):\r\n",
        "    \"\"\"Sort the list by distance and return shortest distance route\"\"\"\r\n",
        "\r\n",
        "    route = sorted(routes, key=lambda dist: dist[2]).pop(0)\r\n",
        "    return route\r\n",
        "\r\n",
        "\r\n",
        "def greedy_path():\r\n",
        "    \"\"\"Select the next path to travel based on the shortest, nearest path\"\"\"\r\n",
        "\r\n",
        "    itinerary = []\r\n",
        "    cities = all_cities()\r\n",
        "    starting_city = randomize_city_start(list(cities.keys()))\r\n",
        "    # print \"starting_city: %s\" % starting_city\r\n",
        "    cities_visited = {}\r\n",
        "    # we want to iterate through all cities once\r\n",
        "    count = 1\r\n",
        "    while True:\r\n",
        "        possible_routes = []\r\n",
        "        # print \"starting city: %s\" % starting_city\r\n",
        "        for path in data_set:\r\n",
        "            if starting_city in path[\"city_start\"]:\r\n",
        "                # we can't go to cities we have already visited\r\n",
        "                if path[\"city_end\"] in cities_visited:\r\n",
        "                    continue\r\n",
        "                else:\r\n",
        "                    # print \"path: \", path\r\n",
        "                    possible_routes.append(path)\r\n",
        "\r\n",
        "        if not possible_routes:\r\n",
        "            break\r\n",
        "        # append this to itinerary\r\n",
        "        route = get_shortest_route(possible_routes)\r\n",
        "        # print \"Route(%s): %s \" % (count, route)\r\n",
        "        count += 1\r\n",
        "        itinerary.append(route)\r\n",
        "        # add this city to the visited city list\r\n",
        "        cities_visited[route[0]] = count\r\n",
        "        # print \"cities_visited: %s \" % cities_visited\r\n",
        "        # reset the starting_city to the next city\r\n",
        "        starting_city = route[1]\r\n",
        "        # print \"itinerary: %s\" % itinerary\r\n",
        "\r\n",
        "    return itinerary\r\n",
        "\r\n",
        "\r\n",
        "def get_total_distance(complete_itinerary):\r\n",
        "\r\n",
        "    distance = sum(z for x, y, z in complete_itinerary)\r\n",
        "    return distance\r\n",
        "\r\n",
        "\r\n",
        "def lowest_simulation(num):\r\n",
        "\r\n",
        "    routes = {}\r\n",
        "    for _ in range(num):\r\n",
        "        itinerary = greedy_path()\r\n",
        "        distance = get_total_distance(itinerary)\r\n",
        "        routes[distance] = itinerary\r\n",
        "    shortest_distance = min(routes.keys())\r\n",
        "    route = routes[shortest_distance]\r\n",
        "    return shortest_distance, route\r\n",
        "\r\n",
        "\r\n",
        "def main():\r\n",
        "    \"\"\"runs everything\"\"\"\r\n",
        "\r\n",
        "    if len(sys.argv) == 2:\r\n",
        "        iterations = int(sys.argv[1])\r\n",
        "        print(\"Running simulation %s times\" % iterations)\r\n",
        "        distance, route = lowest_simulation(iterations)\r\n",
        "        print(\"Shortest Distance: %s\" % distance)\r\n",
        "        print(\"Optimal Route: %s\" % route)\r\n",
        "    else:\r\n",
        "        # print \"All Routes: %s\" % data_set\r\n",
        "        itinerary = greedy_path()\r\n",
        "        print(\"itinerary: %s\" % itinerary)\r\n",
        "        print(\"Distance: %s\" % get_total_distance(itinerary))\r\n",
        "\r\n",
        "\r\n",
        "if __name__ == \"__main__\":\r\n",
        "    main()"
      ],
      "execution_count": 17,
      "outputs": [
        {
          "output_type": "stream",
          "text": [
            "itinerary: [(b'Harvard', b'RPI', 132), (b'RPI', b'NYU', 139), (b'NYU', b'UCB', 2560), (b'UCB', b'Cambridge', 5329), (b'Cambridge', b'ECNU', 5685)]\n",
            "Distance: 13845\n"
          ],
          "name": "stdout"
        }
      ]
    },
    {
      "cell_type": "code",
      "metadata": {
        "id": "1x6b6AvGxgwl",
        "outputId": "bfe16b03-b4e7-4652-8e48-30189c3ff7b3",
        "colab": {
          "base_uri": "https://localhost:8080/",
          "height": 685
        }
      },
      "source": [
        "# 画图\r\n",
        "def plot(sequence):\r\n",
        "    global record_distance, coordinates\r\n",
        "\r\n",
        "    plt.figure(figsize=(15, 6))\r\n",
        "    plt.subplot(121)\r\n",
        "\r\n",
        "    plt.plot(record_distance)\r\n",
        "    plt.ylabel('distance')\r\n",
        "    plt.xlabel('iteration ')\r\n",
        "\r\n",
        "    plt.subplot(122)\r\n",
        "\r\n",
        "    x_list = []\r\n",
        "    y_list = []\r\n",
        "    for i in range(len(sequence)):\r\n",
        "        lat = coordinates[sequence[i]][0]\r\n",
        "        lon = coordinates[sequence[i]][1]\r\n",
        "        x_list.append(lat)\r\n",
        "        y_list.append(lon)\r\n",
        "        for one in name.itertuples(index=False):\r\n",
        "            lat1 = one[0]\r\n",
        "            if lat1 == lat:\r\n",
        "                lon1 = one[1]\r\n",
        "                if lon1 == lon:\r\n",
        "                    # 显示城市名\r\n",
        "                    city = one[2]\r\n",
        "                    plt.text(lat, lon, city)\r\n",
        "                    print(city)\r\n",
        "                    print(' |')\r\n",
        "                    break\r\n",
        "    lat = coordinates[sequence[0]][0]\r\n",
        "    lon = coordinates[sequence[0]][1]\r\n",
        "    x_list.append(lat)\r\n",
        "    y_list.append(lon)\r\n",
        "    for one in name.itertuples(index=False):\r\n",
        "        lat1 = one[0]\r\n",
        "        if lat1 == lat:\r\n",
        "            lon1 = one[1]\r\n",
        "            if lon1 == lon:\r\n",
        "                # 显示城市名\r\n",
        "                city = one[2]\r\n",
        "                print(city)\r\n",
        "                break\r\n",
        "\r\n",
        "    plt.plot(x_list, y_list, 'c-', label='Route')\r\n",
        "    plt.plot(x_list, y_list, 'ro', label='Location')\r\n",
        "\r\n",
        "    # 防止科学计数法\r\n",
        "    ax = plt.gca()\r\n",
        "    ax.xaxis.set_major_formatter(FormatStrFormatter('%.2f'))\r\n",
        "    ax.yaxis.set_major_formatter(FormatStrFormatter('%.2f'))\r\n",
        "\r\n",
        "    plt.xlabel(\"Longitude\")\r\n",
        "    plt.ylabel(\"Latitude\")\r\n",
        "    plt.title(\"Tsp Route\")\r\n",
        "    plt.rcParams['font.sans-serif'] = ['SimHei']  # 显示中文标签\r\n",
        "    plt.rcParams['axes.unicode_minus'] = False  # 这两行需要手动设置\r\n",
        "    plt.grid(True)\r\n",
        "    plt.legend()\r\n",
        "    plt.show()\r\n",
        "\r\n",
        "plot(values)"
      ],
      "execution_count": 20,
      "outputs": [
        {
          "output_type": "error",
          "ename": "NameError",
          "evalue": "ignored",
          "traceback": [
            "\u001b[0;31m---------------------------------------------------------------------------\u001b[0m",
            "\u001b[0;31mNameError\u001b[0m                                 Traceback (most recent call last)",
            "\u001b[0;32m<ipython-input-20-3271ac3e8ea1>\u001b[0m in \u001b[0;36m<module>\u001b[0;34m()\u001b[0m\n\u001b[1;32m     61\u001b[0m     \u001b[0mplt\u001b[0m\u001b[0;34m.\u001b[0m\u001b[0mshow\u001b[0m\u001b[0;34m(\u001b[0m\u001b[0;34m)\u001b[0m\u001b[0;34m\u001b[0m\u001b[0;34m\u001b[0m\u001b[0m\n\u001b[1;32m     62\u001b[0m \u001b[0;34m\u001b[0m\u001b[0m\n\u001b[0;32m---> 63\u001b[0;31m \u001b[0mplot\u001b[0m\u001b[0;34m(\u001b[0m\u001b[0mvalues\u001b[0m\u001b[0;34m)\u001b[0m\u001b[0;34m\u001b[0m\u001b[0;34m\u001b[0m\u001b[0m\n\u001b[0m",
            "\u001b[0;32m<ipython-input-20-3271ac3e8ea1>\u001b[0m in \u001b[0;36mplot\u001b[0;34m(sequence)\u001b[0m\n\u001b[1;32m      6\u001b[0m     \u001b[0mplt\u001b[0m\u001b[0;34m.\u001b[0m\u001b[0msubplot\u001b[0m\u001b[0;34m(\u001b[0m\u001b[0;36m121\u001b[0m\u001b[0;34m)\u001b[0m\u001b[0;34m\u001b[0m\u001b[0;34m\u001b[0m\u001b[0m\n\u001b[1;32m      7\u001b[0m \u001b[0;34m\u001b[0m\u001b[0m\n\u001b[0;32m----> 8\u001b[0;31m     \u001b[0mplt\u001b[0m\u001b[0;34m.\u001b[0m\u001b[0mplot\u001b[0m\u001b[0;34m(\u001b[0m\u001b[0mrecord_distance\u001b[0m\u001b[0;34m)\u001b[0m\u001b[0;34m\u001b[0m\u001b[0;34m\u001b[0m\u001b[0m\n\u001b[0m\u001b[1;32m      9\u001b[0m     \u001b[0mplt\u001b[0m\u001b[0;34m.\u001b[0m\u001b[0mylabel\u001b[0m\u001b[0;34m(\u001b[0m\u001b[0;34m'distance'\u001b[0m\u001b[0;34m)\u001b[0m\u001b[0;34m\u001b[0m\u001b[0;34m\u001b[0m\u001b[0m\n\u001b[1;32m     10\u001b[0m     \u001b[0mplt\u001b[0m\u001b[0;34m.\u001b[0m\u001b[0mxlabel\u001b[0m\u001b[0;34m(\u001b[0m\u001b[0;34m'iteration '\u001b[0m\u001b[0;34m)\u001b[0m\u001b[0;34m\u001b[0m\u001b[0;34m\u001b[0m\u001b[0m\n",
            "\u001b[0;31mNameError\u001b[0m: name 'record_distance' is not defined"
          ]
        },
        {
          "output_type": "display_data",
          "data": {
            "image/png": "[encoded data removed]",
            "text/plain": [
              "<Figure size 1080x432 with 1 Axes>"
            ]
          },
          "metadata": {
            "tags": [],
            "needs_background": "light"
          }
        }
      ]
    }
  ]
}