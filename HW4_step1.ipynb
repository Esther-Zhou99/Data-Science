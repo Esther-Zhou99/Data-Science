{
  "nbformat": 4,
  "nbformat_minor": 0,
  "metadata": {
    "colab": {
      "name": "HW4-step1.ipynb",
      "provenance": [],
      "include_colab_link": true
    },
    "kernelspec": {
      "name": "python3",
      "display_name": "Python 3"
    }
  },
  "cells": [
    {
      "cell_type": "markdown",
      "metadata": {
        "id": "view-in-github",
        "colab_type": "text"
      },
      "source": [
        "<a href=\"https://colab.research.google.com/github/Esther-Zhou99/Data-Science/blob/main/HW4_step1.ipynb\" target=\"_parent\"><img src=\"https://colab.research.google.com/assets/colab-badge.svg\" alt=\"Open In Colab\"/></a>"
      ]
    },
    {
      "cell_type": "code",
      "metadata": {
        "colab": {
          "base_uri": "https://localhost:8080/"
        },
        "id": "9qtgxzPuZwlJ",
        "outputId": "4afa5d2b-3247-4b63-bee5-5a352c1cd871"
      },
      "source": [
        "!pip install pycountry\r\n",
        "!pip install geograpy3\r\n",
        "!pip install mip\r\n",
        "!pip install pycity"
      ],
      "execution_count": 1,
      "outputs": [
        {
          "output_type": "stream",
          "text": [
            "Collecting pycountry\n",
            "\u001b[?25l  Downloading https://files.pythonhosted.org/packages/76/73/6f1a412f14f68c273feea29a6ea9b9f1e268177d32e0e69ad6790d306312/pycountry-20.7.3.tar.gz (10.1MB)\n",
            "\u001b[K     |████████████████████████████████| 10.1MB 6.8MB/s \n",
            "\u001b[?25hBuilding wheels for collected packages: pycountry\n",
            "  Building wheel for pycountry (setup.py) ... \u001b[?25l\u001b[?25hdone\n",
            "  Created wheel for pycountry: filename=pycountry-20.7.3-py2.py3-none-any.whl size=10746863 sha256=d9d4c122881cc2d9b9bfd39a5981d339be39b2baf07e50afdf4891073c65b40c\n",
            "  Stored in directory: /root/.cache/pip/wheels/33/4e/a6/be297e6b83567e537bed9df4a93f8590ec01c1acfbcd405348\n",
            "Successfully built pycountry\n",
            "Installing collected packages: pycountry\n",
            "Successfully installed pycountry-20.7.3\n",
            "Collecting geograpy3\n",
            "\u001b[?25l  Downloading https://files.pythonhosted.org/packages/9d/ed/36a570b0d0f55d57f0762a703740d84c5fbb0a841b43fc5277c356b5566e/geograpy3-0.1.24-py3-none-any.whl (1.5MB)\n",
            "\u001b[K     |████████████████████████████████| 1.5MB 6.9MB/s \n",
            "\u001b[?25hCollecting pylodstorage\n",
            "  Downloading https://files.pythonhosted.org/packages/65/c6/7f01d8118fea6220b346528901a1ba2786268507882ee8a18361a44e1ea0/pylodstorage-0.0.26-py3-none-any.whl\n",
            "Requirement already satisfied: numpy in /usr/local/lib/python3.7/dist-packages (from geograpy3) (1.19.5)\n",
            "Requirement already satisfied: pycountry in /usr/local/lib/python3.7/dist-packages (from geograpy3) (20.7.3)\n",
            "Collecting newspaper3k\n",
            "\u001b[?25l  Downloading https://files.pythonhosted.org/packages/d7/b9/51afecb35bb61b188a4b44868001de348a0e8134b4dfa00ffc191567c4b9/newspaper3k-0.2.8-py3-none-any.whl (211kB)\n",
            "\u001b[K     |████████████████████████████████| 215kB 18.8MB/s \n",
            "\u001b[?25hCollecting jellyfish\n",
            "\u001b[?25l  Downloading https://files.pythonhosted.org/packages/30/a6/4d039bc827a102f62ce7a7910713e38fdfd7c7a40aa39c72fb14938a1473/jellyfish-0.8.2-cp37-cp37m-manylinux2014_x86_64.whl (90kB)\n",
            "\u001b[K     |████████████████████████████████| 92kB 7.7MB/s \n",
            "\u001b[?25hRequirement already satisfied: nltk in /usr/local/lib/python3.7/dist-packages (from geograpy3) (3.2.5)\n",
            "Collecting SPARQLWrapper\n",
            "  Downloading https://files.pythonhosted.org/packages/00/9b/443fbe06996c080ee9c1f01b04e2f683b2b07e149905f33a2397ee3b80a2/SPARQLWrapper-1.8.5-py3-none-any.whl\n",
            "Requirement already satisfied: PyYAML in /usr/local/lib/python3.7/dist-packages (from pylodstorage->geograpy3) (3.13)\n",
            "Collecting cssselect>=0.9.2\n",
            "  Downloading https://files.pythonhosted.org/packages/3b/d4/3b5c17f00cce85b9a1e6f91096e1cc8e8ede2e1be8e96b87ce1ed09e92c5/cssselect-1.1.0-py2.py3-none-any.whl\n",
            "Requirement already satisfied: Pillow>=3.3.0 in /usr/local/lib/python3.7/dist-packages (from newspaper3k->geograpy3) (7.0.0)\n",
            "Requirement already satisfied: beautifulsoup4>=4.4.1 in /usr/local/lib/python3.7/dist-packages (from newspaper3k->geograpy3) (4.6.3)\n",
            "Collecting feedfinder2>=0.0.4\n",
            "  Downloading https://files.pythonhosted.org/packages/35/82/1251fefec3bb4b03fd966c7e7f7a41c9fc2bb00d823a34c13f847fd61406/feedfinder2-0.0.4.tar.gz\n",
            "Collecting tldextract>=2.0.1\n",
            "\u001b[?25l  Downloading https://files.pythonhosted.org/packages/7e/62/b6acd3129c5615b9860e670df07fd55b76175b63e6b7f68282c7cad38e9e/tldextract-3.1.0-py2.py3-none-any.whl (87kB)\n",
            "\u001b[K     |████████████████████████████████| 92kB 7.6MB/s \n",
            "\u001b[?25hCollecting feedparser>=5.2.1\n",
            "\u001b[?25l  Downloading https://files.pythonhosted.org/packages/1c/21/faf1bac028662cc8adb2b5ef7a6f3999a765baa2835331df365289b0ca56/feedparser-6.0.2-py3-none-any.whl (80kB)\n",
            "\u001b[K     |████████████████████████████████| 81kB 7.2MB/s \n",
            "\u001b[?25hCollecting tinysegmenter==0.3\n",
            "  Downloading https://files.pythonhosted.org/packages/17/82/86982e4b6d16e4febc79c2a1d68ee3b707e8a020c5d2bc4af8052d0f136a/tinysegmenter-0.3.tar.gz\n",
            "Collecting jieba3k>=0.35.1\n",
            "\u001b[?25l  Downloading https://files.pythonhosted.org/packages/a9/cb/2c8332bcdc14d33b0bedd18ae0a4981a069c3513e445120da3c3f23a8aaa/jieba3k-0.35.1.zip (7.4MB)\n",
            "\u001b[K     |████████████████████████████████| 7.4MB 19.4MB/s \n",
            "\u001b[?25hRequirement already satisfied: requests>=2.10.0 in /usr/local/lib/python3.7/dist-packages (from newspaper3k->geograpy3) (2.23.0)\n",
            "Requirement already satisfied: lxml>=3.6.0 in /usr/local/lib/python3.7/dist-packages (from newspaper3k->geograpy3) (4.2.6)\n",
            "Requirement already satisfied: python-dateutil>=2.5.3 in /usr/local/lib/python3.7/dist-packages (from newspaper3k->geograpy3) (2.8.1)\n",
            "Requirement already satisfied: six in /usr/local/lib/python3.7/dist-packages (from nltk->geograpy3) (1.15.0)\n",
            "Collecting rdflib>=4.0\n",
            "\u001b[?25l  Downloading https://files.pythonhosted.org/packages/d0/6b/6454aa1db753c0f8bc265a5bd5c10b5721a4bb24160fb4faf758cf6be8a1/rdflib-5.0.0-py3-none-any.whl (231kB)\n",
            "\u001b[K     |████████████████████████████████| 235kB 34.9MB/s \n",
            "\u001b[?25hCollecting requests-file>=1.4\n",
            "  Downloading https://files.pythonhosted.org/packages/77/86/cdb5e8eaed90796aa83a6d9f75cfbd37af553c47a291cd47bc410ef9bdb2/requests_file-1.5.1-py2.py3-none-any.whl\n",
            "Requirement already satisfied: filelock>=3.0.8 in /usr/local/lib/python3.7/dist-packages (from tldextract>=2.0.1->newspaper3k->geograpy3) (3.0.12)\n",
            "Requirement already satisfied: idna in /usr/local/lib/python3.7/dist-packages (from tldextract>=2.0.1->newspaper3k->geograpy3) (2.10)\n",
            "Collecting sgmllib3k\n",
            "  Downloading https://files.pythonhosted.org/packages/9e/bd/3704a8c3e0942d711c1299ebf7b9091930adae6675d7c8f476a7ce48653c/sgmllib3k-1.0.0.tar.gz\n",
            "Requirement already satisfied: urllib3!=1.25.0,!=1.25.1,<1.26,>=1.21.1 in /usr/local/lib/python3.7/dist-packages (from requests>=2.10.0->newspaper3k->geograpy3) (1.24.3)\n",
            "Requirement already satisfied: certifi>=2017.4.17 in /usr/local/lib/python3.7/dist-packages (from requests>=2.10.0->newspaper3k->geograpy3) (2020.12.5)\n",
            "Requirement already satisfied: chardet<4,>=3.0.2 in /usr/local/lib/python3.7/dist-packages (from requests>=2.10.0->newspaper3k->geograpy3) (3.0.4)\n",
            "Collecting isodate\n",
            "\u001b[?25l  Downloading https://files.pythonhosted.org/packages/9b/9f/b36f7774ff5ea8e428fdcfc4bb332c39ee5b9362ddd3d40d9516a55221b2/isodate-0.6.0-py2.py3-none-any.whl (45kB)\n",
            "\u001b[K     |████████████████████████████████| 51kB 5.3MB/s \n",
            "\u001b[?25hRequirement already satisfied: pyparsing in /usr/local/lib/python3.7/dist-packages (from rdflib>=4.0->SPARQLWrapper->pylodstorage->geograpy3) (2.4.7)\n",
            "Building wheels for collected packages: feedfinder2, tinysegmenter, jieba3k, sgmllib3k\n",
            "  Building wheel for feedfinder2 (setup.py) ... \u001b[?25l\u001b[?25hdone\n",
            "  Created wheel for feedfinder2: filename=feedfinder2-0.0.4-cp37-none-any.whl size=3358 sha256=d2d01f251f2401e17d0b97b3b4e500647b40ccccf57acb99da1f3a5ca68c18b3\n",
            "  Stored in directory: /root/.cache/pip/wheels/de/03/ca/778e3a7a627e3d98836cc890e7cb40c7575424cfd3340f40ed\n",
            "  Building wheel for tinysegmenter (setup.py) ... \u001b[?25l\u001b[?25hdone\n",
            "  Created wheel for tinysegmenter: filename=tinysegmenter-0.3-cp37-none-any.whl size=13538 sha256=c916a47b738916a96161582ab8fc80cfebeeed5f13f47f869ddf1b1bef51992b\n",
            "  Stored in directory: /root/.cache/pip/wheels/81/2b/43/a02ede72324dd40cdd7ca53aad718c7710628e91b8b0dc0f02\n",
            "  Building wheel for jieba3k (setup.py) ... \u001b[?25l\u001b[?25hdone\n",
            "  Created wheel for jieba3k: filename=jieba3k-0.35.1-cp37-none-any.whl size=7398406 sha256=d26f42cdb9d5ed1a1dbf64cdc2b98bb8fc674af40ce9fc509314d48bba769371\n",
            "  Stored in directory: /root/.cache/pip/wheels/83/15/9c/a3f1f67e7f7181170ad37d32e503c35da20627c013f438ed34\n",
            "  Building wheel for sgmllib3k (setup.py) ... \u001b[?25l\u001b[?25hdone\n",
            "  Created wheel for sgmllib3k: filename=sgmllib3k-1.0.0-cp37-none-any.whl size=6067 sha256=5eb0cf4e42dead043ac7589e0fa84499747e3acf6ee5587d3918dda426447194\n",
            "  Stored in directory: /root/.cache/pip/wheels/f1/80/5a/444ba08a550cdd241bd9baf8bae44be750efe370adb944506a\n",
            "Successfully built feedfinder2 tinysegmenter jieba3k sgmllib3k\n",
            "Installing collected packages: isodate, rdflib, SPARQLWrapper, pylodstorage, cssselect, feedfinder2, requests-file, tldextract, sgmllib3k, feedparser, tinysegmenter, jieba3k, newspaper3k, jellyfish, geograpy3\n",
            "Successfully installed SPARQLWrapper-1.8.5 cssselect-1.1.0 feedfinder2-0.0.4 feedparser-6.0.2 geograpy3-0.1.24 isodate-0.6.0 jellyfish-0.8.2 jieba3k-0.35.1 newspaper3k-0.2.8 pylodstorage-0.0.26 rdflib-5.0.0 requests-file-1.5.1 sgmllib3k-1.0.0 tinysegmenter-0.3 tldextract-3.1.0\n",
            "Collecting mip\n",
            "\u001b[?25l  Downloading https://files.pythonhosted.org/packages/e5/7c/615a417b8b74dde4c3573f09c79612e3e0ed8c9b9488daf67e86cde350d2/mip-1.13.0-py3-none-any.whl (48.0MB)\n",
            "\u001b[K     |████████████████████████████████| 48.0MB 86kB/s \n",
            "\u001b[?25hRequirement already satisfied: cffi in /usr/local/lib/python3.7/dist-packages (from mip) (1.14.5)\n",
            "Requirement already satisfied: pycparser in /usr/local/lib/python3.7/dist-packages (from cffi->mip) (2.20)\n",
            "Installing collected packages: mip\n",
            "Successfully installed mip-1.13.0\n",
            "Collecting pycity\n",
            "  Downloading https://files.pythonhosted.org/packages/7c/72/c4a8964f2339adbc9175bd68f2cec425f91f14cea452420f008d143922f8/pycity-0.1.3.tar.gz\n",
            "Building wheels for collected packages: pycity\n",
            "  Building wheel for pycity (setup.py) ... \u001b[?25l\u001b[?25hdone\n",
            "  Created wheel for pycity: filename=pycity-0.1.3-cp37-none-any.whl size=4187 sha256=62bb68df3b6362f8a1290f189e9d01db2de5d15a25fcb975a2a65e1390540dbe\n",
            "  Stored in directory: /root/.cache/pip/wheels/bc/44/37/f3feb0eb029355d5ed39ca7a7f227f40cecdb3639ca40d6579\n",
            "Successfully built pycity\n",
            "Installing collected packages: pycity\n",
            "Successfully installed pycity-0.1.3\n"
          ],
          "name": "stdout"
        }
      ]
    },
    {
      "cell_type": "code",
      "metadata": {
        "id": "R6cSc201Z0ja"
      },
      "source": [
        "from geopy.geocoders import Nominatim\r\n",
        "from geopy .distance import geodesic\r\n",
        "geolocator = Nominatim(user_agent=\"my-application\")"
      ],
      "execution_count": 2,
      "outputs": []
    },
    {
      "cell_type": "code",
      "metadata": {
        "colab": {
          "base_uri": "https://localhost:8080/"
        },
        "id": "8wHUAh8OZ6tp",
        "outputId": "dda09e2c-16f2-41e7-9058-047fbb2ee580"
      },
      "source": [
        "location1 = geolocator.geocode(\"NYU Shanghai\")\r\n",
        "School1 = (location1.latitude, location1.longitude)\r\n",
        "school1=tuple(list(School1)+[\"NYUSH\"])\r\n",
        "\r\n",
        "location2 = geolocator.geocode(\"华东师范大学\")\r\n",
        "School2 = (location2.latitude, location2.longitude)\r\n",
        "school2=tuple(list(School2)+[\"ECNU\"])\r\n",
        "\r\n",
        "location3 = geolocator.geocode(\"Rensselaer Polytechnic Institute\")\r\n",
        "School3 = (location3.latitude, location3.longitude)\r\n",
        "school3=tuple(list(School3)+[\"RPI\"])\r\n",
        "\r\n",
        "location4 = geolocator.geocode(\"MIT\")\r\n",
        "School4 = (location4.latitude, location4.longitude)\r\n",
        "school4=tuple(list(School4)+[\"MIT\"])\r\n",
        "\r\n",
        "location5 = geolocator.geocode(\"Harvard\")\r\n",
        "School5 = (location5.latitude, location5.longitude)\r\n",
        "school5=tuple(list(School5)+[\"Harvard\"])\r\n",
        "\r\n",
        "location6 = geolocator.geocode(\"UC Berkeley\")\r\n",
        "School6 = (location6.latitude, location6.longitude)\r\n",
        "school6=tuple(list(School6)+[\"UCB\"])\r\n",
        "\r\n",
        "schools = [school1,school2,school3,school4,school5,school6]\r\n",
        "Schools = [School1,School2,School3,School4,School5,School6]\r\n",
        "\r\n",
        "schools"
      ],
      "execution_count": 3,
      "outputs": [
        {
          "output_type": "execute_result",
          "data": {
            "text/plain": [
              "[(31.22789385, 121.52971642415145, 'NYUSH'),\n",
              " (31.2284923, 121.40211388976886, 'ECNU'),\n",
              " (42.729921950000005, -73.67953982458829, 'RPI'),\n",
              " (42.3582393, -71.09664602558988, 'MIT'),\n",
              " (42.36790855, -71.12678237443698, 'Harvard'),\n",
              " (37.8753497, -122.23963364918777, 'UCB')]"
            ]
          },
          "metadata": {
            "tags": []
          },
          "execution_count": 3
        }
      ]
    },
    {
      "cell_type": "code",
      "metadata": {
        "colab": {
          "base_uri": "https://localhost:8080/"
        },
        "id": "GA-3vdVkdRiR",
        "outputId": "831c4d10-81eb-48b0-ca15-6a5843967916"
      },
      "source": [
        "Schools"
      ],
      "execution_count": 4,
      "outputs": [
        {
          "output_type": "execute_result",
          "data": {
            "text/plain": [
              "[(31.22789385, 121.52971642415145),\n",
              " (31.2284923, 121.40211388976886),\n",
              " (42.729921950000005, -73.67953982458829),\n",
              " (42.3582393, -71.09664602558988),\n",
              " (42.36790855, -71.12678237443698),\n",
              " (37.8753497, -122.23963364918777)]"
            ]
          },
          "metadata": {
            "tags": []
          },
          "execution_count": 4
        }
      ]
    },
    {
      "cell_type": "code",
      "metadata": {
        "colab": {
          "base_uri": "https://localhost:8080/"
        },
        "id": "ulWUTEbXc6PS",
        "outputId": "654e28ea-33ee-489e-d31c-405599d72b47"
      },
      "source": [
        "values=[]\r\n",
        "for i in range(len(schools)):\r\n",
        "  for j in range (i+1,len(schools)):\r\n",
        "      distance=geodesic(Schools[i],Schools[j]).miles\r\n",
        "      values.append((str(schools[i][2]),str(schools[j][2]),distance))\r\n",
        "      values.append((str(schools[j][2]),str(schools[i][2]),distance))\r\n",
        "values"
      ],
      "execution_count": 8,
      "outputs": [
        {
          "output_type": "execute_result",
          "data": {
            "text/plain": [
              "[('NYUSH', 'ECNU', 7.554413577441569),\n",
              " ('ECNU', 'NYUSH', 7.554413577441569),\n",
              " ('NYUSH', 'RPI', 7251.10251463331),\n",
              " ('RPI', 'NYUSH', 7251.10251463331),\n",
              " ('NYUSH', 'MIT', 7304.191974414698),\n",
              " ('MIT', 'NYUSH', 7304.191974414698),\n",
              " ('NYUSH', 'Harvard', 7303.23830472193),\n",
              " ('Harvard', 'NYUSH', 7303.23830472193),\n",
              " ('NYUSH', 'UCB', 6152.144778362623),\n",
              " ('UCB', 'NYUSH', 6152.144778362623),\n",
              " ('ECNU', 'RPI', 7252.559126720535),\n",
              " ('RPI', 'ECNU', 7252.559126720535),\n",
              " ('ECNU', 'MIT', 7305.4094513211485),\n",
              " ('MIT', 'ECNU', 7305.4094513211485),\n",
              " ('ECNU', 'Harvard', 7304.458477399387),\n",
              " ('Harvard', 'ECNU', 7304.458477399387),\n",
              " ('ECNU', 'UCB', 6157.4606338945805),\n",
              " ('UCB', 'ECNU', 6157.4606338945805),\n",
              " ('RPI', 'MIT', 134.29874099015188),\n",
              " ('MIT', 'RPI', 134.29874099015188),\n",
              " ('RPI', 'Harvard', 132.65225116811908),\n",
              " ('Harvard', 'RPI', 132.65225116811908),\n",
              " ('RPI', 'UCB', 2551.4913177807866),\n",
              " ('UCB', 'RPI', 2551.4913177807866),\n",
              " ('MIT', 'Harvard', 1.680782686852339),\n",
              " ('Harvard', 'MIT', 1.680782686852339),\n",
              " ('MIT', 'UCB', 2685.7760756410617),\n",
              " ('UCB', 'MIT', 2685.7760756410617),\n",
              " ('Harvard', 'UCB', 2684.1340859418383),\n",
              " ('UCB', 'Harvard', 2684.1340859418383)]"
            ]
          },
          "metadata": {
            "tags": []
          },
          "execution_count": 8
        }
      ]
    },
    {
      "cell_type": "code",
      "metadata": {
        "colab": {
          "base_uri": "https://localhost:8080/"
        },
        "id": "MDzQ7R4do4lb",
        "outputId": "9c786f35-4d34-4c00-a717-8409e15d4ddf"
      },
      "source": [
        "from random import choice\r\n",
        "import numpy as np\r\n",
        "import sys\r\n",
        "\r\n",
        "dt = np.dtype([(\"city_start\", \"S10\"), (\"city_end\", \"S10\"), (\"distance\", int)])\r\n",
        "data_set = np.array(values, dtype=dt)\r\n",
        "data_set"
      ],
      "execution_count": 9,
      "outputs": [
        {
          "output_type": "execute_result",
          "data": {
            "text/plain": [
              "array([(b'NYUSH', b'ECNU',    7), (b'ECNU', b'NYUSH',    7),\n",
              "       (b'NYUSH', b'RPI', 7251), (b'RPI', b'NYUSH', 7251),\n",
              "       (b'NYUSH', b'MIT', 7304), (b'MIT', b'NYUSH', 7304),\n",
              "       (b'NYUSH', b'Harvard', 7303), (b'Harvard', b'NYUSH', 7303),\n",
              "       (b'NYUSH', b'UCB', 6152), (b'UCB', b'NYUSH', 6152),\n",
              "       (b'ECNU', b'RPI', 7252), (b'RPI', b'ECNU', 7252),\n",
              "       (b'ECNU', b'MIT', 7305), (b'MIT', b'ECNU', 7305),\n",
              "       (b'ECNU', b'Harvard', 7304), (b'Harvard', b'ECNU', 7304),\n",
              "       (b'ECNU', b'UCB', 6157), (b'UCB', b'ECNU', 6157),\n",
              "       (b'RPI', b'MIT',  134), (b'MIT', b'RPI',  134),\n",
              "       (b'RPI', b'Harvard',  132), (b'Harvard', b'RPI',  132),\n",
              "       (b'RPI', b'UCB', 2551), (b'UCB', b'RPI', 2551),\n",
              "       (b'MIT', b'Harvard',    1), (b'Harvard', b'MIT',    1),\n",
              "       (b'MIT', b'UCB', 2685), (b'UCB', b'MIT', 2685),\n",
              "       (b'Harvard', b'UCB', 2684), (b'UCB', b'Harvard', 2684)],\n",
              "      dtype=[('city_start', 'S10'), ('city_end', 'S10'), ('distance', '<i8')])"
            ]
          },
          "metadata": {
            "tags": []
          },
          "execution_count": 9
        }
      ]
    },
    {
      "cell_type": "code",
      "metadata": {
        "colab": {
          "base_uri": "https://localhost:8080/"
        },
        "id": "hgiRfjCnpDir",
        "outputId": "4c8492b8-05b3-4860-d0eb-ec54aa87b1d8"
      },
      "source": [
        "def all_cities():\r\n",
        "    \"\"\"Finds unique cities\r\n",
        "    array([[\"A\", \"A\"],\r\n",
        "    [\"A\", \"B\"]])\r\n",
        "    \"\"\"\r\n",
        "    cities = {}\r\n",
        "    city_set = set(data_set[\"city_end\"])\r\n",
        "    for city in city_set:\r\n",
        "        cities[city] = \"\"\r\n",
        "    return cities\r\n",
        "all_cities()"
      ],
      "execution_count": 10,
      "outputs": [
        {
          "output_type": "execute_result",
          "data": {
            "text/plain": [
              "{b'ECNU': '', b'Harvard': '', b'MIT': '', b'NYUSH': '', b'RPI': '', b'UCB': ''}"
            ]
          },
          "metadata": {
            "tags": []
          },
          "execution_count": 10
        }
      ]
    },
    {
      "cell_type": "code",
      "metadata": {
        "colab": {
          "base_uri": "https://localhost:8080/"
        },
        "id": "IEYNZCTbgCmk",
        "outputId": "6d1312e6-8b83-4c27-8433-0c3d78c40978"
      },
      "source": [
        "def all_cities():\r\n",
        "    \"\"\"Finds unique cities\r\n",
        "    array([[\"A\", \"A\"],\r\n",
        "    [\"A\", \"B\"]])\r\n",
        "    \"\"\"\r\n",
        "    cities = {}\r\n",
        "    city_set = set(data_set[\"city_end\"])\r\n",
        "    for city in city_set:\r\n",
        "        cities[city] = \"\"\r\n",
        "    return cities\r\n",
        "\r\n",
        "\r\n",
        "def randomize_city_start(cities):\r\n",
        "    \"\"\"Returns a randomized city to start trip\"\"\"\r\n",
        "\r\n",
        "    return choice(cities)\r\n",
        "\r\n",
        "\r\n",
        "def get_shortest_route(routes):\r\n",
        "    \"\"\"Sort the list by distance and return shortest distance route\"\"\"\r\n",
        "\r\n",
        "    route = sorted(routes, key=lambda dist: dist[2]).pop(0)\r\n",
        "    return route\r\n",
        "\r\n",
        "\r\n",
        "def greedy_path():\r\n",
        "    \"\"\"Select the next path to travel based on the shortest, nearest path\"\"\"\r\n",
        "\r\n",
        "    itinerary = []\r\n",
        "    cities = all_cities()\r\n",
        "    starting_city = randomize_city_start(list(cities.keys()))\r\n",
        "    # print \"starting_city: %s\" % starting_city\r\n",
        "    cities_visited = {}\r\n",
        "    # we want to iterate through all cities once\r\n",
        "    count = 1\r\n",
        "    while True:\r\n",
        "        possible_routes = []\r\n",
        "        # print \"starting city: %s\" % starting_city\r\n",
        "        for path in data_set:\r\n",
        "            if starting_city in path[\"city_start\"]:\r\n",
        "                # we can't go to cities we have already visited\r\n",
        "                if path[\"city_end\"] in cities_visited:\r\n",
        "                    continue\r\n",
        "                else:\r\n",
        "                    # print \"path: \", path\r\n",
        "                    possible_routes.append(path)\r\n",
        "\r\n",
        "        if not possible_routes:\r\n",
        "            break\r\n",
        "        # append this to itinerary\r\n",
        "        route = get_shortest_route(possible_routes)\r\n",
        "        # print \"Route(%s): %s \" % (count, route)\r\n",
        "        count += 1\r\n",
        "        itinerary.append(route)\r\n",
        "        # add this city to the visited city list\r\n",
        "        cities_visited[route[0]] = count\r\n",
        "        # print \"cities_visited: %s \" % cities_visited\r\n",
        "        # reset the starting_city to the next city\r\n",
        "        starting_city = route[1]\r\n",
        "        # print \"itinerary: %s\" % itinerary\r\n",
        "\r\n",
        "    return itinerary\r\n",
        "\r\n",
        "\r\n",
        "def get_total_distance(complete_itinerary):\r\n",
        "\r\n",
        "    distance = sum(z for x, y, z in complete_itinerary)\r\n",
        "    return distance\r\n",
        "\r\n",
        "\r\n",
        "def lowest_simulation(num):\r\n",
        "\r\n",
        "    routes = {}\r\n",
        "    for _ in range(num):\r\n",
        "        itinerary = greedy_path()\r\n",
        "        distance = get_total_distance(itinerary)\r\n",
        "        routes[distance] = itinerary\r\n",
        "    shortest_distance = min(routes.keys())\r\n",
        "    route = routes[shortest_distance]\r\n",
        "    return shortest_distance, route\r\n",
        "\r\n",
        "\r\n",
        "def main():\r\n",
        "    \"\"\"runs everything\"\"\"\r\n",
        "\r\n",
        "    if len(sys.argv) == 2:\r\n",
        "        iterations = int(sys.argv[1])\r\n",
        "        print(\"Running simulation %s times\" % iterations)\r\n",
        "        distance, route = lowest_simulation(iterations)\r\n",
        "        print(\"Shortest Distance: %s\" % distance)\r\n",
        "        print(\"Optimal Route: %s\" % route)\r\n",
        "    else:\r\n",
        "        # print \"All Routes: %s\" % data_set\r\n",
        "        itinerary = greedy_path()\r\n",
        "        print(\"itinerary: %s\" % itinerary)\r\n",
        "        print(\"Distance: %s\" % get_total_distance(itinerary))\r\n",
        "\r\n",
        "\r\n",
        "if __name__ == \"__main__\":\r\n",
        "    main()"
      ],
      "execution_count": 12,
      "outputs": [
        {
          "output_type": "stream",
          "text": [
            "itinerary: [(b'MIT', b'Harvard', 1), (b'Harvard', b'RPI', 132), (b'RPI', b'UCB', 2551), (b'UCB', b'NYUSH', 6152), (b'NYUSH', b'ECNU', 7)]\n",
            "Distance: 8843\n"
          ],
          "name": "stdout"
        }
      ]
    }
  ]
}