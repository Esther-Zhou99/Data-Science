{
  "nbformat": 4,
  "nbformat_minor": 0,
  "metadata": {
    "colab": {
      "name": "HW5.ipynb",
      "provenance": [],
      "toc_visible": true,
      "include_colab_link": true
    },
    "kernelspec": {
      "name": "python3",
      "display_name": "Python 3"
    }
  },
  "cells": [
    {
      "cell_type": "markdown",
      "metadata": {
        "id": "view-in-github",
        "colab_type": "text"
      },
      "source": [
        "<a href=\"https://colab.research.google.com/github/Esther-Zhou99/Data-Science/blob/main/HW5.ipynb\" target=\"_parent\"><img src=\"https://colab.research.google.com/assets/colab-badge.svg\" alt=\"Open In Colab\"/></a>"
      ]
    },
    {
      "cell_type": "markdown",
      "metadata": {
        "id": "QvDurP8kw9bw"
      },
      "source": [
        "# **PLACES**"
      ]
    },
    {
      "cell_type": "code",
      "metadata": {
        "colab": {
          "base_uri": "https://localhost:8080/"
        },
        "id": "9qtgxzPuZwlJ",
        "outputId": "6592eb6e-a52d-4836-ad0e-2220b2f6a760"
      },
      "source": [
        "!pip install pycountry\r\n",
        "!pip install geograpy3\r\n",
        "!pip install mip\r\n",
        "!pip install pycity"
      ],
      "execution_count": 130,
      "outputs": [
        {
          "output_type": "stream",
          "text": [
            "Requirement already satisfied: pycountry in /usr/local/lib/python3.7/dist-packages (20.7.3)\n",
            "Requirement already satisfied: geograpy3 in /usr/local/lib/python3.7/dist-packages (0.1.24)\n",
            "Requirement already satisfied: nltk in /usr/local/lib/python3.7/dist-packages (from geograpy3) (3.2.5)\n",
            "Requirement already satisfied: jellyfish in /usr/local/lib/python3.7/dist-packages (from geograpy3) (0.8.2)\n",
            "Requirement already satisfied: pylodstorage in /usr/local/lib/python3.7/dist-packages (from geograpy3) (0.0.26)\n",
            "Requirement already satisfied: pycountry in /usr/local/lib/python3.7/dist-packages (from geograpy3) (20.7.3)\n",
            "Requirement already satisfied: newspaper3k in /usr/local/lib/python3.7/dist-packages (from geograpy3) (0.2.8)\n",
            "Requirement already satisfied: numpy in /usr/local/lib/python3.7/dist-packages (from geograpy3) (1.19.5)\n",
            "Requirement already satisfied: six in /usr/local/lib/python3.7/dist-packages (from nltk->geograpy3) (1.15.0)\n",
            "Requirement already satisfied: PyYAML in /usr/local/lib/python3.7/dist-packages (from pylodstorage->geograpy3) (3.13)\n",
            "Requirement already satisfied: SPARQLWrapper in /usr/local/lib/python3.7/dist-packages (from pylodstorage->geograpy3) (1.8.5)\n",
            "Requirement already satisfied: cssselect>=0.9.2 in /usr/local/lib/python3.7/dist-packages (from newspaper3k->geograpy3) (1.1.0)\n",
            "Requirement already satisfied: feedfinder2>=0.0.4 in /usr/local/lib/python3.7/dist-packages (from newspaper3k->geograpy3) (0.0.4)\n",
            "Requirement already satisfied: lxml>=3.6.0 in /usr/local/lib/python3.7/dist-packages (from newspaper3k->geograpy3) (4.2.6)\n",
            "Requirement already satisfied: feedparser>=5.2.1 in /usr/local/lib/python3.7/dist-packages (from newspaper3k->geograpy3) (6.0.2)\n",
            "Requirement already satisfied: jieba3k>=0.35.1 in /usr/local/lib/python3.7/dist-packages (from newspaper3k->geograpy3) (0.35.1)\n",
            "Requirement already satisfied: tinysegmenter==0.3 in /usr/local/lib/python3.7/dist-packages (from newspaper3k->geograpy3) (0.3)\n",
            "Requirement already satisfied: python-dateutil>=2.5.3 in /usr/local/lib/python3.7/dist-packages (from newspaper3k->geograpy3) (2.8.1)\n",
            "Requirement already satisfied: requests>=2.10.0 in /usr/local/lib/python3.7/dist-packages (from newspaper3k->geograpy3) (2.23.0)\n",
            "Requirement already satisfied: tldextract>=2.0.1 in /usr/local/lib/python3.7/dist-packages (from newspaper3k->geograpy3) (3.1.0)\n",
            "Requirement already satisfied: Pillow>=3.3.0 in /usr/local/lib/python3.7/dist-packages (from newspaper3k->geograpy3) (7.0.0)\n",
            "Requirement already satisfied: beautifulsoup4>=4.4.1 in /usr/local/lib/python3.7/dist-packages (from newspaper3k->geograpy3) (4.6.3)\n",
            "Requirement already satisfied: rdflib>=4.0 in /usr/local/lib/python3.7/dist-packages (from SPARQLWrapper->pylodstorage->geograpy3) (5.0.0)\n",
            "Requirement already satisfied: sgmllib3k in /usr/local/lib/python3.7/dist-packages (from feedparser>=5.2.1->newspaper3k->geograpy3) (1.0.0)\n",
            "Requirement already satisfied: chardet<4,>=3.0.2 in /usr/local/lib/python3.7/dist-packages (from requests>=2.10.0->newspaper3k->geograpy3) (3.0.4)\n",
            "Requirement already satisfied: certifi>=2017.4.17 in /usr/local/lib/python3.7/dist-packages (from requests>=2.10.0->newspaper3k->geograpy3) (2020.12.5)\n",
            "Requirement already satisfied: urllib3!=1.25.0,!=1.25.1,<1.26,>=1.21.1 in /usr/local/lib/python3.7/dist-packages (from requests>=2.10.0->newspaper3k->geograpy3) (1.24.3)\n",
            "Requirement already satisfied: idna<3,>=2.5 in /usr/local/lib/python3.7/dist-packages (from requests>=2.10.0->newspaper3k->geograpy3) (2.10)\n",
            "Requirement already satisfied: requests-file>=1.4 in /usr/local/lib/python3.7/dist-packages (from tldextract>=2.0.1->newspaper3k->geograpy3) (1.5.1)\n",
            "Requirement already satisfied: filelock>=3.0.8 in /usr/local/lib/python3.7/dist-packages (from tldextract>=2.0.1->newspaper3k->geograpy3) (3.0.12)\n",
            "Requirement already satisfied: pyparsing in /usr/local/lib/python3.7/dist-packages (from rdflib>=4.0->SPARQLWrapper->pylodstorage->geograpy3) (2.4.7)\n",
            "Requirement already satisfied: isodate in /usr/local/lib/python3.7/dist-packages (from rdflib>=4.0->SPARQLWrapper->pylodstorage->geograpy3) (0.6.0)\n",
            "Requirement already satisfied: mip in /usr/local/lib/python3.7/dist-packages (1.13.0)\n",
            "Requirement already satisfied: cffi in /usr/local/lib/python3.7/dist-packages (from mip) (1.14.5)\n",
            "Requirement already satisfied: pycparser in /usr/local/lib/python3.7/dist-packages (from cffi->mip) (2.20)\n",
            "Requirement already satisfied: pycity in /usr/local/lib/python3.7/dist-packages (0.1.3)\n"
          ],
          "name": "stdout"
        }
      ]
    },
    {
      "cell_type": "markdown",
      "metadata": {
        "id": "ZLnBRA_VGej_"
      },
      "source": [
        "# **Build a dataset**"
      ]
    },
    {
      "cell_type": "markdown",
      "metadata": {
        "id": "9ANfMikOxnBc"
      },
      "source": [
        "出生地：Oak Park, Illinois\r\n",
        "\r\n",
        "去世地：Ketchum, Idaho\r\n",
        "\r\n",
        "Ernest Hemingway Home & Museum：Key West, Florida\r\n",
        "\r\n",
        "写老人与海的地方：Cayo Blanco, Cuba\r\n",
        "\r\n",
        "海明威故居：Finca Vigía, Havana\r\n",
        "\r\n",
        "Paris, France/ Pamplona, Spain/Madrid, Spain"
      ]
    },
    {
      "cell_type": "markdown",
      "metadata": {
        "id": "CtE2OedCG8V7"
      },
      "source": [
        "**Get the absolute location of the places**\r\n",
        "\r\n"
      ]
    },
    {
      "cell_type": "code",
      "metadata": {
        "id": "R6cSc201Z0ja"
      },
      "source": [
        "from geopy.geocoders import Nominatim\r\n",
        "from geopy .distance import geodesic\r\n",
        "geolocator = Nominatim(user_agent=\"my-application\")"
      ],
      "execution_count": 131,
      "outputs": []
    },
    {
      "cell_type": "code",
      "metadata": {
        "colab": {
          "base_uri": "https://localhost:8080/"
        },
        "id": "8wHUAh8OZ6tp",
        "outputId": "c05c6bc1-9ac2-4ed5-f460-734e2f6068e9"
      },
      "source": [
        "location1 = geolocator.geocode(\"Oak Park, Illinois\")\r\n",
        "School1 = (location1.latitude, location1.longitude)\r\n",
        "school1=tuple(list(School1)+[\"Oak Park, Illinois\"])\r\n",
        "\r\n",
        "location2 = geolocator.geocode(\"Ketchum, Idaho\")\r\n",
        "School2 = (location2.latitude, location2.longitude)\r\n",
        "school2=tuple(list(School2)+[\"Ketchum, Idaho\"])\r\n",
        "\r\n",
        "location3 = geolocator.geocode(\"Key West, Florida\")\r\n",
        "School3 = (location3.latitude, location3.longitude)\r\n",
        "school3=tuple(list(School3)+[\"Key West, Florida\"])\r\n",
        "\r\n",
        "location4 = geolocator.geocode(\"Cayo Blanco, Cuba\")\r\n",
        "School4 = (location4.latitude, location4.longitude)\r\n",
        "school4=tuple(list(School4)+[\"Cayo Blanco, Cuba\"])\r\n",
        "\r\n",
        "location5 = geolocator.geocode(\"Finca Vigía, Havana, Cuba\")\r\n",
        "School5 = (location5.latitude, location5.longitude)\r\n",
        "school5=tuple(list(School5)+[\"Havana, Cuba\"])\r\n",
        "\r\n",
        "location6 = geolocator.geocode(\"Paris, France\")\r\n",
        "School6 = (location6.latitude, location6.longitude)\r\n",
        "school6=tuple(list(School6)+[\"Paris, France\"])\r\n",
        "\r\n",
        "location7 = geolocator.geocode(\"Pamplona, Spain\")\r\n",
        "School7 = (location7.latitude, location6.longitude)\r\n",
        "school7=tuple(list(School7)+[\"Pamplona, Spain\"])\r\n",
        "\r\n",
        "location8 = geolocator.geocode(\"Madrid, Spain\")\r\n",
        "School8 = (location8.latitude, location6.longitude)\r\n",
        "school8=tuple(list(School8)+[\"Madrid, Spain\"])\r\n",
        "\r\n",
        "schools = [school1,school2,school3,school4,school5,school6,school7,school8]\r\n",
        "Schools = [School1,School2,School3,School4,School5,School6,School7,School8]\r\n",
        "\r\n",
        "schools"
      ],
      "execution_count": 132,
      "outputs": [
        {
          "output_type": "execute_result",
          "data": {
            "text/plain": [
              "[(41.8878145, -87.7887615, 'Oak Park, Illinois'),\n",
              " (43.680741, -114.363662, 'Ketchum, Idaho'),\n",
              " (24.5625566, -81.7724368, 'Key West, Florida'),\n",
              " (23.2153845, -81.02746171760728, 'Cayo Blanco, Cuba'),\n",
              " (23.0677009, -82.29613459200101, 'Havana, Cuba'),\n",
              " (48.8566969, 2.3514616, 'Paris, France'),\n",
              " (42.8184538, 2.3514616, 'Pamplona, Spain'),\n",
              " (40.4167047, 2.3514616, 'Madrid, Spain')]"
            ]
          },
          "metadata": {
            "tags": []
          },
          "execution_count": 132
        }
      ]
    },
    {
      "cell_type": "code",
      "metadata": {
        "colab": {
          "base_uri": "https://localhost:8080/"
        },
        "id": "GA-3vdVkdRiR",
        "outputId": "b4bb306f-63f2-4b52-de03-ea45781e58b7"
      },
      "source": [
        "Schools"
      ],
      "execution_count": 133,
      "outputs": [
        {
          "output_type": "execute_result",
          "data": {
            "text/plain": [
              "[(41.8878145, -87.7887615),\n",
              " (43.680741, -114.363662),\n",
              " (24.5625566, -81.7724368),\n",
              " (23.2153845, -81.02746171760728),\n",
              " (23.0677009, -82.29613459200101),\n",
              " (48.8566969, 2.3514616),\n",
              " (42.8184538, 2.3514616),\n",
              " (40.4167047, 2.3514616)]"
            ]
          },
          "metadata": {
            "tags": []
          },
          "execution_count": 133
        }
      ]
    },
    {
      "cell_type": "markdown",
      "metadata": {
        "id": "H07QnJnQHQFR"
      },
      "source": [
        "**Calculate the distance**"
      ]
    },
    {
      "cell_type": "code",
      "metadata": {
        "colab": {
          "base_uri": "https://localhost:8080/"
        },
        "id": "ulWUTEbXc6PS",
        "outputId": "87636b19-58dd-4939-c8e3-0c8d360746ef"
      },
      "source": [
        "values=[]\r\n",
        "for i in range(len(schools)):\r\n",
        "  for j in range (i+1,len(schools)):\r\n",
        "      distance=geodesic(Schools[i],Schools[j]).miles\r\n",
        "      values.append((str(schools[i][2]),str(schools[j][2]),distance))\r\n",
        "      values.append((str(schools[j][2]),str(schools[i][2]),distance))\r\n",
        "values"
      ],
      "execution_count": 134,
      "outputs": [
        {
          "output_type": "execute_result",
          "data": {
            "text/plain": [
              "[('Oak Park, Illinois', 'Ketchum, Idaho', 1351.0133914936282),\n",
              " ('Ketchum, Idaho', 'Oak Park, Illinois', 1351.0133914936282),\n",
              " ('Oak Park, Illinois', 'Key West, Florida', 1242.9553919304706),\n",
              " ('Key West, Florida', 'Oak Park, Illinois', 1242.9553919304706),\n",
              " ('Oak Park, Illinois', 'Cayo Blanco, Cuba', 1344.7071699322958),\n",
              " ('Cayo Blanco, Cuba', 'Oak Park, Illinois', 1344.7071699322958),\n",
              " ('Oak Park, Illinois', 'Havana, Cuba', 1335.2003760679727),\n",
              " ('Havana, Cuba', 'Oak Park, Illinois', 1335.2003760679727),\n",
              " ('Oak Park, Illinois', 'Paris, France', 4149.647614875494),\n",
              " ('Paris, France', 'Oak Park, Illinois', 4149.647614875494),\n",
              " ('Oak Park, Illinois', 'Pamplona, Spain', 4371.0655943162665),\n",
              " ('Pamplona, Spain', 'Oak Park, Illinois', 4371.0655943162665),\n",
              " ('Oak Park, Illinois', 'Madrid, Spain', 4463.545659186538),\n",
              " ('Madrid, Spain', 'Oak Park, Illinois', 4463.545659186538),\n",
              " ('Ketchum, Idaho', 'Key West, Florida', 2262.488657393849),\n",
              " ('Key West, Florida', 'Ketchum, Idaho', 2262.488657393849),\n",
              " ('Ketchum, Idaho', 'Cayo Blanco, Cuba', 2360.9802429532824),\n",
              " ('Cayo Blanco, Cuba', 'Ketchum, Idaho', 2360.9802429532824),\n",
              " ('Ketchum, Idaho', 'Havana, Cuba', 2311.3651366004206),\n",
              " ('Havana, Cuba', 'Ketchum, Idaho', 2311.3651366004206),\n",
              " ('Ketchum, Idaho', 'Paris, France', 5000.467764349478),\n",
              " ('Paris, France', 'Ketchum, Idaho', 5000.467764349478),\n",
              " ('Ketchum, Idaho', 'Pamplona, Spain', 5309.804568955423),\n",
              " ('Pamplona, Spain', 'Ketchum, Idaho', 5309.804568955423),\n",
              " ('Ketchum, Idaho', 'Madrid, Spain', 5434.126900058955),\n",
              " ('Madrid, Spain', 'Ketchum, Idaho', 5434.126900058955),\n",
              " ('Key West, Florida', 'Cayo Blanco, Cuba', 104.00970841368853),\n",
              " ('Cayo Blanco, Cuba', 'Key West, Florida', 104.00970841368853),\n",
              " ('Key West, Florida', 'Havana, Cuba', 108.08764415068218),\n",
              " ('Havana, Cuba', 'Key West, Florida', 108.08764415068218),\n",
              " ('Key West, Florida', 'Paris, France', 4707.776498060587),\n",
              " ('Paris, France', 'Key West, Florida', 4707.776498060587),\n",
              " ('Key West, Florida', 'Pamplona, Spain', 4807.999204833572),\n",
              " ('Pamplona, Spain', 'Key West, Florida', 4807.999204833572),\n",
              " ('Key West, Florida', 'Madrid, Spain', 4852.166917808528),\n",
              " ('Madrid, Spain', 'Key West, Florida', 4852.166917808528),\n",
              " ('Cayo Blanco, Cuba', 'Havana, Cuba', 81.37254742507876),\n",
              " ('Havana, Cuba', 'Cayo Blanco, Cuba', 81.37254742507876),\n",
              " ('Cayo Blanco, Cuba', 'Paris, France', 4740.315425809513),\n",
              " ('Paris, France', 'Cayo Blanco, Cuba', 4740.315425809513),\n",
              " ('Cayo Blanco, Cuba', 'Pamplona, Spain', 4829.515596288284),\n",
              " ('Pamplona, Spain', 'Cayo Blanco, Cuba', 4829.515596288284),\n",
              " ('Cayo Blanco, Cuba', 'Madrid, Spain', 4869.280784987395),\n",
              " ('Madrid, Spain', 'Cayo Blanco, Cuba', 4869.280784987395),\n",
              " ('Havana, Cuba', 'Paris, France', 4804.219225967191),\n",
              " ('Paris, France', 'Havana, Cuba', 4804.219225967191),\n",
              " ('Havana, Cuba', 'Pamplona, Spain', 4898.542481362981),\n",
              " ('Pamplona, Spain', 'Havana, Cuba', 4898.542481362981),\n",
              " ('Havana, Cuba', 'Madrid, Spain', 4940.096211787377),\n",
              " ('Madrid, Spain', 'Havana, Cuba', 4940.096211787377),\n",
              " ('Paris, France', 'Pamplona, Spain', 417.0266829657557),\n",
              " ('Pamplona, Spain', 'Paris, France', 417.0266829657557),\n",
              " ('Paris, France', 'Madrid, Spain', 582.7789319646885),\n",
              " ('Madrid, Spain', 'Paris, France', 582.7789319646885),\n",
              " ('Pamplona, Spain', 'Madrid, Spain', 165.75224899893269),\n",
              " ('Madrid, Spain', 'Pamplona, Spain', 165.75224899893269)]"
            ]
          },
          "metadata": {
            "tags": []
          },
          "execution_count": 134
        }
      ]
    },
    {
      "cell_type": "code",
      "metadata": {
        "colab": {
          "base_uri": "https://localhost:8080/"
        },
        "id": "MDzQ7R4do4lb",
        "outputId": "41ed4352-a478-493b-f6da-1c9bca517c68"
      },
      "source": [
        "from random import choice\r\n",
        "import numpy as np\r\n",
        "import sys\r\n",
        "\r\n",
        "dt = np.dtype([(\"city_start\", \"S30\"), (\"city_end\", \"S30\"), (\"distance\", int)])\r\n",
        "data_set = np.array(values, dtype=dt)\r\n",
        "data_set"
      ],
      "execution_count": 135,
      "outputs": [
        {
          "output_type": "execute_result",
          "data": {
            "text/plain": [
              "array([(b'Oak Park, Illinois', b'Ketchum, Idaho', 1351),\n",
              "       (b'Ketchum, Idaho', b'Oak Park, Illinois', 1351),\n",
              "       (b'Oak Park, Illinois', b'Key West, Florida', 1242),\n",
              "       (b'Key West, Florida', b'Oak Park, Illinois', 1242),\n",
              "       (b'Oak Park, Illinois', b'Cayo Blanco, Cuba', 1344),\n",
              "       (b'Cayo Blanco, Cuba', b'Oak Park, Illinois', 1344),\n",
              "       (b'Oak Park, Illinois', b'Havana, Cuba', 1335),\n",
              "       (b'Havana, Cuba', b'Oak Park, Illinois', 1335),\n",
              "       (b'Oak Park, Illinois', b'Paris, France', 4149),\n",
              "       (b'Paris, France', b'Oak Park, Illinois', 4149),\n",
              "       (b'Oak Park, Illinois', b'Pamplona, Spain', 4371),\n",
              "       (b'Pamplona, Spain', b'Oak Park, Illinois', 4371),\n",
              "       (b'Oak Park, Illinois', b'Madrid, Spain', 4463),\n",
              "       (b'Madrid, Spain', b'Oak Park, Illinois', 4463),\n",
              "       (b'Ketchum, Idaho', b'Key West, Florida', 2262),\n",
              "       (b'Key West, Florida', b'Ketchum, Idaho', 2262),\n",
              "       (b'Ketchum, Idaho', b'Cayo Blanco, Cuba', 2360),\n",
              "       (b'Cayo Blanco, Cuba', b'Ketchum, Idaho', 2360),\n",
              "       (b'Ketchum, Idaho', b'Havana, Cuba', 2311),\n",
              "       (b'Havana, Cuba', b'Ketchum, Idaho', 2311),\n",
              "       (b'Ketchum, Idaho', b'Paris, France', 5000),\n",
              "       (b'Paris, France', b'Ketchum, Idaho', 5000),\n",
              "       (b'Ketchum, Idaho', b'Pamplona, Spain', 5309),\n",
              "       (b'Pamplona, Spain', b'Ketchum, Idaho', 5309),\n",
              "       (b'Ketchum, Idaho', b'Madrid, Spain', 5434),\n",
              "       (b'Madrid, Spain', b'Ketchum, Idaho', 5434),\n",
              "       (b'Key West, Florida', b'Cayo Blanco, Cuba',  104),\n",
              "       (b'Cayo Blanco, Cuba', b'Key West, Florida',  104),\n",
              "       (b'Key West, Florida', b'Havana, Cuba',  108),\n",
              "       (b'Havana, Cuba', b'Key West, Florida',  108),\n",
              "       (b'Key West, Florida', b'Paris, France', 4707),\n",
              "       (b'Paris, France', b'Key West, Florida', 4707),\n",
              "       (b'Key West, Florida', b'Pamplona, Spain', 4807),\n",
              "       (b'Pamplona, Spain', b'Key West, Florida', 4807),\n",
              "       (b'Key West, Florida', b'Madrid, Spain', 4852),\n",
              "       (b'Madrid, Spain', b'Key West, Florida', 4852),\n",
              "       (b'Cayo Blanco, Cuba', b'Havana, Cuba',   81),\n",
              "       (b'Havana, Cuba', b'Cayo Blanco, Cuba',   81),\n",
              "       (b'Cayo Blanco, Cuba', b'Paris, France', 4740),\n",
              "       (b'Paris, France', b'Cayo Blanco, Cuba', 4740),\n",
              "       (b'Cayo Blanco, Cuba', b'Pamplona, Spain', 4829),\n",
              "       (b'Pamplona, Spain', b'Cayo Blanco, Cuba', 4829),\n",
              "       (b'Cayo Blanco, Cuba', b'Madrid, Spain', 4869),\n",
              "       (b'Madrid, Spain', b'Cayo Blanco, Cuba', 4869),\n",
              "       (b'Havana, Cuba', b'Paris, France', 4804),\n",
              "       (b'Paris, France', b'Havana, Cuba', 4804),\n",
              "       (b'Havana, Cuba', b'Pamplona, Spain', 4898),\n",
              "       (b'Pamplona, Spain', b'Havana, Cuba', 4898),\n",
              "       (b'Havana, Cuba', b'Madrid, Spain', 4940),\n",
              "       (b'Madrid, Spain', b'Havana, Cuba', 4940),\n",
              "       (b'Paris, France', b'Pamplona, Spain',  417),\n",
              "       (b'Pamplona, Spain', b'Paris, France',  417),\n",
              "       (b'Paris, France', b'Madrid, Spain',  582),\n",
              "       (b'Madrid, Spain', b'Paris, France',  582),\n",
              "       (b'Pamplona, Spain', b'Madrid, Spain',  165),\n",
              "       (b'Madrid, Spain', b'Pamplona, Spain',  165)],\n",
              "      dtype=[('city_start', 'S30'), ('city_end', 'S30'), ('distance', '<i8')])"
            ]
          },
          "metadata": {
            "tags": []
          },
          "execution_count": 135
        }
      ]
    },
    {
      "cell_type": "markdown",
      "metadata": {
        "id": "BTlU6AXfIjc4"
      },
      "source": [
        "# **Greedy-Random-TSP**"
      ]
    },
    {
      "cell_type": "markdown",
      "metadata": {
        "id": "B-5QxUECIqqf"
      },
      "source": [
        "**Find all universities in the dataset**"
      ]
    },
    {
      "cell_type": "code",
      "metadata": {
        "colab": {
          "base_uri": "https://localhost:8080/"
        },
        "id": "hgiRfjCnpDir",
        "outputId": "d33d3752-bdd5-4e1b-e4c3-7199d10c0981"
      },
      "source": [
        "def all_cities():\r\n",
        "    \"\"\"Finds unique cities\r\n",
        "    array([[\"A\", \"A\"],\r\n",
        "    [\"A\", \"B\"]])\r\n",
        "    \"\"\"\r\n",
        "    cities = {}\r\n",
        "    city_set = set(data_set[\"city_end\"])\r\n",
        "    for city in city_set:\r\n",
        "        cities[city] = \"\"\r\n",
        "    return cities\r\n",
        "all_cities()"
      ],
      "execution_count": 136,
      "outputs": [
        {
          "output_type": "execute_result",
          "data": {
            "text/plain": [
              "{b'Cayo Blanco, Cuba': '',\n",
              " b'Havana, Cuba': '',\n",
              " b'Ketchum, Idaho': '',\n",
              " b'Key West, Florida': '',\n",
              " b'Madrid, Spain': '',\n",
              " b'Oak Park, Illinois': '',\n",
              " b'Pamplona, Spain': '',\n",
              " b'Paris, France': ''}"
            ]
          },
          "metadata": {
            "tags": []
          },
          "execution_count": 136
        }
      ]
    },
    {
      "cell_type": "markdown",
      "metadata": {
        "id": "wyIpqG5eI-7o"
      },
      "source": [
        "**Return a randomized city to start trip**"
      ]
    },
    {
      "cell_type": "code",
      "metadata": {
        "id": "0M2osafBE83m"
      },
      "source": [
        "def randomize_city_start(cities):\r\n",
        "    \"\"\"Returns a randomized city to start trip\"\"\"\r\n",
        "    return choice(cities)"
      ],
      "execution_count": 137,
      "outputs": []
    },
    {
      "cell_type": "code",
      "metadata": {
        "id": "klyt_WsPFczo"
      },
      "source": [
        "def get_shortest_route(routes):\r\n",
        "    \"\"\"Sort the list by distance and return shortest distance route\"\"\"\r\n",
        "    route = sorted(routes, key=lambda dist: dist[2]).pop(0)\r\n",
        "    return route"
      ],
      "execution_count": 138,
      "outputs": []
    },
    {
      "cell_type": "code",
      "metadata": {
        "id": "D9fMt4CmFrkR"
      },
      "source": [
        "def greedy_path():\r\n",
        "    \"\"\"Select the next path to travel based on the shortest, nearest path\"\"\"\r\n",
        "    itinerary = []\r\n",
        "    cities = all_cities()\r\n",
        "    starting_city = randomize_city_start(list(cities.keys()))\r\n",
        "    #print (\"starting_city: %s\" % starting_city)\r\n",
        "    cities_visited = {}\r\n",
        "    # we want to iterate through all cities once\r\n",
        "    count = 1\r\n",
        "    while True:\r\n",
        "        possible_routes = []\r\n",
        "        # print (\"starting city: %s\" % starting_city)\r\n",
        "        for path in data_set:\r\n",
        "            if starting_city in path[\"city_start\"]:\r\n",
        "                # we can't go to cities we have already visited\r\n",
        "                if path[\"city_end\"] in cities_visited:\r\n",
        "                    continue\r\n",
        "                else:\r\n",
        "                    # print \"path: \", path\r\n",
        "                    possible_routes.append(path)\r\n",
        "\r\n",
        "        if not possible_routes:\r\n",
        "            break\r\n",
        "        # append this to itinerary\r\n",
        "        route = get_shortest_route(possible_routes)\r\n",
        "        # print(\"Route(%s): %s \" % (count, route))\r\n",
        "        count += 1\r\n",
        "        itinerary.append(route)\r\n",
        "        # add this city to the visited city list\r\n",
        "        cities_visited[route[0]] = count\r\n",
        "        # print (\"cities_visited: %s \" % cities_visited)\r\n",
        "        # reset the starting_city to the next city\r\n",
        "        starting_city = route[1]\r\n",
        "        # print (\"itinerary: %s\" % itinerary)\r\n",
        "\r\n",
        "    return itinerary"
      ],
      "execution_count": 139,
      "outputs": []
    },
    {
      "cell_type": "code",
      "metadata": {
        "id": "P1hKvKOoF9ux"
      },
      "source": [
        "def get_total_distance(complete_itinerary):\r\n",
        "    distance = sum(z for x, y, z in complete_itinerary)\r\n",
        "    return distance"
      ],
      "execution_count": 140,
      "outputs": []
    },
    {
      "cell_type": "code",
      "metadata": {
        "id": "PWQvSG65GEVP"
      },
      "source": [
        "def lowest_simulation(num):\r\n",
        "    routes = {}\r\n",
        "    for _ in range(num):\r\n",
        "        itinerary = greedy_path()\r\n",
        "        distance = get_total_distance(itinerary)\r\n",
        "        routes[distance] = itinerary\r\n",
        "    shortest_distance = min(routes.keys())\r\n",
        "    route = routes[shortest_distance]\r\n",
        "    return shortest_distance, route"
      ],
      "execution_count": 141,
      "outputs": []
    },
    {
      "cell_type": "code",
      "metadata": {
        "id": "IEYNZCTbgCmk"
      },
      "source": [
        "def main():\r\n",
        "    \"\"\"runs everything\"\"\"\r\n",
        "    if len(sys.argv) == 2:\r\n",
        "        iterations = int(sys.argv[1])\r\n",
        "        print(\"Running simulation %s times\" % iterations)\r\n",
        "        distance, route = lowest_simulation(iterations)\r\n",
        "        print(\"Shortest Distance: %s\" % distance)\r\n",
        "        print(\"Optimal Route: %s\" % route)\r\n",
        "    else:\r\n",
        "       # print (\"All Routes: %s\" % data_set)\r\n",
        "        itinerary = greedy_path()\r\n",
        "        print(\"itinerary: %s\" % itinerary)\r\n",
        "        print(\"Distance: %s\" % get_total_distance(itinerary))"
      ],
      "execution_count": 142,
      "outputs": []
    },
    {
      "cell_type": "code",
      "metadata": {
        "id": "Kh9rxKMGGIB3",
        "colab": {
          "base_uri": "https://localhost:8080/"
        },
        "outputId": "b8105b2b-5794-4c43-e134-0cd364ebb6e2"
      },
      "source": [
        "if __name__ == \"__main__\":\r\n",
        "    main()"
      ],
      "execution_count": 143,
      "outputs": [
        {
          "output_type": "stream",
          "text": [
            "itinerary: [(b'Paris, France', b'Pamplona, Spain', 417), (b'Pamplona, Spain', b'Madrid, Spain', 165), (b'Madrid, Spain', b'Oak Park, Illinois', 4463), (b'Oak Park, Illinois', b'Key West, Florida', 1242), (b'Key West, Florida', b'Cayo Blanco, Cuba', 104), (b'Cayo Blanco, Cuba', b'Havana, Cuba', 81), (b'Havana, Cuba', b'Ketchum, Idaho', 2311)]\n",
            "Distance: 8783\n"
          ],
          "name": "stdout"
        }
      ]
    },
    {
      "cell_type": "markdown",
      "metadata": {
        "id": "elEwnKlrfdcJ"
      },
      "source": [
        "itinerary: [(b'Cayo Blanco, Cuba', b'Havana, Cuba', 81), (b'Havana, Cuba', b'Key West, Florida', 108), (b'Key West, Florida', b'Oak Park, Illinois', 1242), (b'Oak Park, Illinois', b'Ketchum, Idaho', 1351), (b'Ketchum, Idaho', b'Paris, France', 5000), (b'Paris, France', b'Pamplona, Spain', 417), (b'Pamplona, Spain', b'Madrid, Spain', 165)]\r\n",
        "\r\n",
        "Distance: 8364\r\n"
      ]
    },
    {
      "cell_type": "markdown",
      "metadata": {
        "id": "7zSfL2KhfnIZ"
      },
      "source": [
        "itinerary: [(b'Paris, France', b'Pamplona, Spain', 417), (b'Pamplona, Spain', b'Madrid, Spain', 165), (b'Madrid, Spain', b'Oak Park, Illinois', 4463), (b'Oak Park, Illinois', b'Key West, Florida', 1242), (b'Key West, Florida', b'Cayo Blanco, Cuba', 104), (b'Cayo Blanco, Cuba', b'Havana, Cuba', 81), (b'Havana, Cuba', b'Ketchum, Idaho', 2311)]\r\n",
        "\r\n",
        "Distance: 8783"
      ]
    },
    {
      "cell_type": "markdown",
      "metadata": {
        "id": "QzYjXqNUfs3d"
      },
      "source": [
        "itinerary: [(b'Pamplona, Spain', b'Madrid, Spain', 165), (b'Madrid, Spain', b'Paris, France', 582), (b'Paris, France', b'Oak Park, Illinois', 4149), (b'Oak Park, Illinois', b'Key West, Florida', 1242), (b'Key West, Florida', b'Cayo Blanco, Cuba', 104), (b'Cayo Blanco, Cuba', b'Havana, Cuba', 81), (b'Havana, Cuba', b'Ketchum, Idaho', 2311)]\r\n",
        "\r\n",
        "Distance: 8634"
      ]
    },
    {
      "cell_type": "markdown",
      "metadata": {
        "id": "lrF3JtR9fveb"
      },
      "source": [
        "itinerary: [(b'Key West, Florida', b'Cayo Blanco, Cuba', 104), (b'Cayo Blanco, Cuba', b'Havana, Cuba', 81), (b'Havana, Cuba', b'Oak Park, Illinois', 1335), (b'Oak Park, Illinois', b'Ketchum, Idaho', 1351), (b'Ketchum, Idaho', b'Paris, France', 5000), (b'Paris, France', b'Pamplona, Spain', 417), (b'Pamplona, Spain', b'Madrid, Spain', 165)]\r\n",
        "\r\n",
        "Distance: 8453"
      ]
    },
    {
      "cell_type": "markdown",
      "metadata": {
        "id": "6aS2o1nS2lH0"
      },
      "source": [
        "itinerary: [(b'Ketchum, Idaho', b'Oak Park, Illinois', 1351), (b'Oak Park, Illinois', b'Key West, Florida', 1242), (b'Key West, Florida', b'Cayo Blanco, Cuba', 104), (b'Cayo Blanco, Cuba', b'Havana, Cuba', 81), (b'Havana, Cuba', b'Paris, France', 4804), (b'Paris, France', b'Pamplona, Spain', 417), (b'Pamplona, Spain', b'Madrid, Spain', 165)]\r\n",
        "\r\n",
        "Distance: 8164"
      ]
    },
    {
      "cell_type": "markdown",
      "metadata": {
        "id": "iG73sVipgDI0"
      },
      "source": [
        "itinerary: [(b'Oak Park, Illinois', b'Key West, Florida', 1242), (b'Key West, Florida', b'Cayo Blanco, Cuba', 104), (b'Cayo Blanco, Cuba', b'Havana, Cuba', 81), (b'Havana, Cuba', b'Ketchum, Idaho', 2311), (b'Ketchum, Idaho', b'Paris, France', 5000), (b'Paris, France', b'Pamplona, Spain', 417), (b'Pamplona, Spain', b'Madrid, Spain', 165)]\r\n",
        "\r\n",
        "Distance: 9320"
      ]
    },
    {
      "cell_type": "markdown",
      "metadata": {
        "id": "m_jg6lBigAVS"
      },
      "source": [
        "itinerary: [(b'Havana, Cuba', b'Cayo Blanco, Cuba', 81), (b'Cayo Blanco, Cuba', b'Key West, Florida', 104), (b'Key West, Florida', b'Oak Park, Illinois', 1242), (b'Oak Park, Illinois', b'Ketchum, Idaho', 1351), (b'Ketchum, Idaho', b'Paris, France', 5000), (b'Paris, France', b'Pamplona, Spain', 417), (b'Pamplona, Spain', b'Madrid, Spain', 165)]\r\n",
        "\r\n",
        "Distance: 8360"
      ]
    },
    {
      "cell_type": "markdown",
      "metadata": {
        "id": "r8yax8oC3Bgm"
      },
      "source": [
        "itinerary: [(b'Madrid, Spain', b'Pamplona, Spain', 165), (b'Pamplona, Spain', b'Paris, France', 417), (b'Paris, France', b'Oak Park, Illinois', 4149), (b'Oak Park, Illinois', b'Key West, Florida', 1242), (b'Key West, Florida', b'Cayo Blanco, Cuba', 104), (b'Cayo Blanco, Cuba', b'Havana, Cuba', 81), (b'Havana, Cuba', b'Ketchum, Idaho', 2311)]\r\n",
        "\r\n",
        "Distance: 8469"
      ]
    },
    {
      "cell_type": "code",
      "metadata": {
        "id": "eaISp0aet5KA",
        "colab": {
          "base_uri": "https://localhost:8080/"
        },
        "outputId": "845c369b-aa1e-4f03-fddb-faeae5d91c5d"
      },
      "source": [
        "schools"
      ],
      "execution_count": 144,
      "outputs": [
        {
          "output_type": "execute_result",
          "data": {
            "text/plain": [
              "[(41.8878145, -87.7887615, 'Oak Park, Illinois'),\n",
              " (43.680741, -114.363662, 'Ketchum, Idaho'),\n",
              " (24.5625566, -81.7724368, 'Key West, Florida'),\n",
              " (23.2153845, -81.02746171760728, 'Cayo Blanco, Cuba'),\n",
              " (23.0677009, -82.29613459200101, 'Havana, Cuba'),\n",
              " (48.8566969, 2.3514616, 'Paris, France'),\n",
              " (42.8184538, 2.3514616, 'Pamplona, Spain'),\n",
              " (40.4167047, 2.3514616, 'Madrid, Spain')]"
            ]
          },
          "metadata": {
            "tags": []
          },
          "execution_count": 144
        }
      ]
    },
    {
      "cell_type": "code",
      "metadata": {
        "id": "Ko7cr8QouBOr",
        "colab": {
          "base_uri": "https://localhost:8080/"
        },
        "outputId": "27e0efb3-c1a0-4dfb-b864-da6a0765fdaa"
      },
      "source": [
        "Schools"
      ],
      "execution_count": 145,
      "outputs": [
        {
          "output_type": "execute_result",
          "data": {
            "text/plain": [
              "[(41.8878145, -87.7887615),\n",
              " (43.680741, -114.363662),\n",
              " (24.5625566, -81.7724368),\n",
              " (23.2153845, -81.02746171760728),\n",
              " (23.0677009, -82.29613459200101),\n",
              " (48.8566969, 2.3514616),\n",
              " (42.8184538, 2.3514616),\n",
              " (40.4167047, 2.3514616)]"
            ]
          },
          "metadata": {
            "tags": []
          },
          "execution_count": 145
        }
      ]
    },
    {
      "cell_type": "code",
      "metadata": {
        "colab": {
          "base_uri": "https://localhost:8080/"
        },
        "id": "ZnU_FPEsHSO3",
        "outputId": "425b1833-b390-458f-ce63-e7ffac996fdd"
      },
      "source": [
        "spots=[]\r\n",
        "for i in Schools:\r\n",
        "    x=i[1]\r\n",
        "    y=i[0]\r\n",
        "    spots.append((x,y))\r\n",
        "spots"
      ],
      "execution_count": 155,
      "outputs": [
        {
          "output_type": "execute_result",
          "data": {
            "text/plain": [
              "[(-87.7887615, 41.8878145),\n",
              " (-114.363662, 43.680741),\n",
              " (-81.7724368, 24.5625566),\n",
              " (-81.02746171760728, 23.2153845),\n",
              " (-82.29613459200101, 23.0677009),\n",
              " (2.3514616, 48.8566969),\n",
              " (2.3514616, 42.8184538),\n",
              " (2.3514616, 40.4167047)]"
            ]
          },
          "metadata": {
            "tags": []
          },
          "execution_count": 155
        }
      ]
    },
    {
      "cell_type": "code",
      "metadata": {
        "id": "ErnhueKOu4Ii",
        "colab": {
          "base_uri": "https://localhost:8080/"
        },
        "outputId": "28b1e30d-4e63-4d48-dcc3-d37b62ebe31d"
      },
      "source": [
        "type = np.dtype([(\"latitude\", float), (\"longitude\", float)])\r\n",
        "cities = np.array(spots,dtype=type)\r\n",
        "cities"
      ],
      "execution_count": 156,
      "outputs": [
        {
          "output_type": "execute_result",
          "data": {
            "text/plain": [
              "array([( -87.7887615 , 41.8878145), (-114.363662  , 43.680741 ),\n",
              "       ( -81.7724368 , 24.5625566), ( -81.02746172, 23.2153845),\n",
              "       ( -82.29613459, 23.0677009), (   2.3514616 , 48.8566969),\n",
              "       (   2.3514616 , 42.8184538), (   2.3514616 , 40.4167047)],\n",
              "      dtype=[('latitude', '<f8'), ('longitude', '<f8')])"
            ]
          },
          "metadata": {
            "tags": []
          },
          "execution_count": 156
        }
      ]
    },
    {
      "cell_type": "code",
      "metadata": {
        "colab": {
          "base_uri": "https://localhost:8080/",
          "height": 513
        },
        "id": "zi5VxcQ55JoC",
        "outputId": "5fa2a25b-36d6-4f50-fd59-c0bbef877e26"
      },
      "source": [
        "label = ['Oak Park, Illinois','Ketchum, Idaho','Key West, Florida','Cayo Blanco','Havana','Paris, France','Pamplona, Spain','Madrid, Spain']\r\n",
        "import matplotlib. pyplot as plt\r\n",
        "from math import sqrt\r\n",
        "fig=plt.figure(figsize=(40,20))\r\n",
        "for c in cities:\r\n",
        "    plt.scatter(x = c[0], y = c[1])\r\n",
        "for i, text in enumerate(label):\r\n",
        "    plt.annotate(text, (cities[i][0]+0.1,cities[i][1]+0.2))\r\n",
        "\r\n",
        "plt.annotate(\"\", xy=cities[0], xytext=cities[1],\r\n",
        "    arrowprops=dict(arrowstyle=\"->\"))\r\n",
        "\r\n",
        "plt.annotate(\"\", xy=cities[2], xytext=cities[0],\r\n",
        "    arrowprops=dict(arrowstyle=\"->\"))\r\n",
        "\r\n",
        "plt.annotate(\"\", xy=cities[3], xytext=cities[2],\r\n",
        "    arrowprops=dict(arrowstyle=\"->\"))\r\n",
        "\r\n",
        "plt.annotate(\"\", xy=cities[4], xytext=cities[3],\r\n",
        "    arrowprops=dict(arrowstyle=\"->\"))\r\n",
        "\r\n",
        "plt.annotate(\"\", xy=cities[5], xytext=cities[4],\r\n",
        "    arrowprops=dict(arrowstyle=\"->\"))\r\n",
        "\r\n",
        "plt.annotate(\"\", xy=cities[6], xytext=cities[5],\r\n",
        "    arrowprops=dict(arrowstyle=\"->\"))\r\n",
        "\r\n",
        "plt.annotate(\"\", xy=cities[7], xytext=cities[6],\r\n",
        "    arrowprops=dict(arrowstyle=\"->\"))\r\n",
        "\r\n",
        "plt.xlabel(\"Longitude\")\r\n",
        "plt.ylabel(\"Latitude\")\r\n",
        "\r\n",
        "plt.show()\r\n",
        "fig.savefig(\"routes.png\",dpi=300)\r\n"
      ],
      "execution_count": 159,
      "outputs": [
        {
          "output_type": "display_data",
          "data": {
            "image/png": "[encoded data removed]",
            "text/plain": [
              "<Figure size 2880x1440 with 1 Axes>"
            ]
          },
          "metadata": {
            "tags": [],
            "needs_background": "light"
          }
        }
      ]
    },
    {
      "cell_type": "markdown",
      "metadata": {
        "id": "l2UqooWo5C0j"
      },
      "source": [
        "label = ['Oak Park, Illinois','Ketchum, Idaho','Key West, Florida','Cayo Blanco','Havana','Paris, France','Pamplona, Spain','Madrid, Spain']\r\n",
        "\r\n",
        "itinerary: [(b'Ketchum, Idaho', b'Oak Park, Illinois', 1351), (b'Oak Park, Illinois', b'Key West, Florida', 1242), (b'Key West, Florida', b'Cayo Blanco, Cuba', 104), (b'Cayo Blanco, Cuba', b'Havana, Cuba', 81), (b'Havana, Cuba', b'Paris, France', 4804), (b'Paris, France', b'Pamplona, Spain', 417), (b'Pamplona, Spain', b'Madrid, Spain', 165)]\r\n",
        "\r\n",
        "Distance: 8164"
      ]
    },
    {
      "cell_type": "code",
      "metadata": {
        "id": "LZSGxZv9hLvm"
      },
      "source": [
        "#plt.annotate(\"Harvard\",(cities[4][0]-0.1,cities[4][1]+5))"
      ],
      "execution_count": 148,
      "outputs": []
    }
  ]
}