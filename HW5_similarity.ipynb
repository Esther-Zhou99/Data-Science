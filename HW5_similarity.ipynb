{
  "nbformat": 4,
  "nbformat_minor": 0,
  "metadata": {
    "colab": {
      "name": "HW5-similarity.ipynb",
      "provenance": [],
      "authorship_tag": "ABX9TyNbFP/gvqONjpC9Koh8qKal",
      "include_colab_link": true
    },
    "kernelspec": {
      "name": "python3",
      "display_name": "Python 3"
    }
  },
  "cells": [
    {
      "cell_type": "markdown",
      "metadata": {
        "id": "view-in-github",
        "colab_type": "text"
      },
      "source": [
        "<a href=\"https://colab.research.google.com/github/Esther-Zhou99/Data-Science/blob/main/HW5_similarity.ipynb\" target=\"_parent\"><img src=\"https://colab.research.google.com/assets/colab-badge.svg\" alt=\"Open In Colab\"/></a>"
      ]
    },
    {
      "cell_type": "code",
      "metadata": {
        "colab": {
          "base_uri": "https://localhost:8080/"
        },
        "id": "GbkZjfxJc2Aw",
        "outputId": "c265991c-a562-4a8e-899a-d5fdee074e95"
      },
      "source": [
        "pip install spacy"
      ],
      "execution_count": 40,
      "outputs": [
        {
          "output_type": "stream",
          "text": [
            "Requirement already satisfied: spacy in /usr/local/lib/python3.7/dist-packages (2.2.4)\n",
            "Requirement already satisfied: murmurhash<1.1.0,>=0.28.0 in /usr/local/lib/python3.7/dist-packages (from spacy) (1.0.5)\n",
            "Requirement already satisfied: requests<3.0.0,>=2.13.0 in /usr/local/lib/python3.7/dist-packages (from spacy) (2.23.0)\n",
            "Requirement already satisfied: catalogue<1.1.0,>=0.0.7 in /usr/local/lib/python3.7/dist-packages (from spacy) (1.0.0)\n",
            "Requirement already satisfied: numpy>=1.15.0 in /usr/local/lib/python3.7/dist-packages (from spacy) (1.19.5)\n",
            "Requirement already satisfied: preshed<3.1.0,>=3.0.2 in /usr/local/lib/python3.7/dist-packages (from spacy) (3.0.5)\n",
            "Requirement already satisfied: setuptools in /usr/local/lib/python3.7/dist-packages (from spacy) (54.0.0)\n",
            "Requirement already satisfied: blis<0.5.0,>=0.4.0 in /usr/local/lib/python3.7/dist-packages (from spacy) (0.4.1)\n",
            "Requirement already satisfied: srsly<1.1.0,>=1.0.2 in /usr/local/lib/python3.7/dist-packages (from spacy) (1.0.5)\n",
            "Requirement already satisfied: tqdm<5.0.0,>=4.38.0 in /usr/local/lib/python3.7/dist-packages (from spacy) (4.41.1)\n",
            "Requirement already satisfied: plac<1.2.0,>=0.9.6 in /usr/local/lib/python3.7/dist-packages (from spacy) (1.1.3)\n",
            "Requirement already satisfied: thinc==7.4.0 in /usr/local/lib/python3.7/dist-packages (from spacy) (7.4.0)\n",
            "Requirement already satisfied: cymem<2.1.0,>=2.0.2 in /usr/local/lib/python3.7/dist-packages (from spacy) (2.0.5)\n",
            "Requirement already satisfied: wasabi<1.1.0,>=0.4.0 in /usr/local/lib/python3.7/dist-packages (from spacy) (0.8.2)\n",
            "Requirement already satisfied: idna<3,>=2.5 in /usr/local/lib/python3.7/dist-packages (from requests<3.0.0,>=2.13.0->spacy) (2.10)\n",
            "Requirement already satisfied: urllib3!=1.25.0,!=1.25.1,<1.26,>=1.21.1 in /usr/local/lib/python3.7/dist-packages (from requests<3.0.0,>=2.13.0->spacy) (1.24.3)\n",
            "Requirement already satisfied: certifi>=2017.4.17 in /usr/local/lib/python3.7/dist-packages (from requests<3.0.0,>=2.13.0->spacy) (2020.12.5)\n",
            "Requirement already satisfied: chardet<4,>=3.0.2 in /usr/local/lib/python3.7/dist-packages (from requests<3.0.0,>=2.13.0->spacy) (3.0.4)\n",
            "Requirement already satisfied: importlib-metadata>=0.20; python_version < \"3.8\" in /usr/local/lib/python3.7/dist-packages (from catalogue<1.1.0,>=0.0.7->spacy) (3.7.2)\n",
            "Requirement already satisfied: typing-extensions>=3.6.4; python_version < \"3.8\" in /usr/local/lib/python3.7/dist-packages (from importlib-metadata>=0.20; python_version < \"3.8\"->catalogue<1.1.0,>=0.0.7->spacy) (3.7.4.3)\n",
            "Requirement already satisfied: zipp>=0.5 in /usr/local/lib/python3.7/dist-packages (from importlib-metadata>=0.20; python_version < \"3.8\"->catalogue<1.1.0,>=0.0.7->spacy) (3.4.1)\n"
          ],
          "name": "stdout"
        }
      ]
    },
    {
      "cell_type": "code",
      "metadata": {
        "id": "i27wlb1YNWjk"
      },
      "source": [
        "from pathlib import Path\r\n",
        "import spacy"
      ],
      "execution_count": 41,
      "outputs": []
    },
    {
      "cell_type": "code",
      "metadata": {
        "colab": {
          "base_uri": "https://localhost:8080/"
        },
        "id": "3Xyvu3oLdIoI",
        "outputId": "da694d5f-b73d-4196-c972-b96ef2ce4323"
      },
      "source": [
        "import spacy.cli\r\n",
        "spacy.cli.download(\"en_core_web_lg\")"
      ],
      "execution_count": 42,
      "outputs": [
        {
          "output_type": "stream",
          "text": [
            "\u001b[38;5;2m✔ Download and installation successful\u001b[0m\n",
            "You can now load the model via spacy.load('en_core_web_lg')\n"
          ],
          "name": "stdout"
        }
      ]
    },
    {
      "cell_type": "code",
      "metadata": {
        "id": "r9J73soKcaus"
      },
      "source": [
        "nlp = spacy.load(\"en_core_web_lg\")"
      ],
      "execution_count": 43,
      "outputs": []
    },
    {
      "cell_type": "code",
      "metadata": {
        "colab": {
          "base_uri": "https://localhost:8080/"
        },
        "id": "9AMlbpEO06zG",
        "outputId": "d3fce8eb-892e-4708-8278-5ade464b9ed4"
      },
      "source": [
        "!rm *.txt\r\n",
        "!wget https://raw.githubusercontent.com/Esther-Zhou99/Data-Science/main/oldmansea-book.txt\r\n",
        "!wget https://raw.githubusercontent.com/Esther-Zhou99/Data-Science/main/SunAlsoRises-book.txt\r\n",
        "!wget https://raw.githubusercontent.com/Esther-Zhou99/Data-Science/main/WinnerTakeNothing.txt\r\n",
        "!wget https://raw.githubusercontent.com/Esther-Zhou99/Data-Science/main/MenWithoutWomen.txt\r\n",
        "!wget https://raw.githubusercontent.com/Esther-Zhou99/Data-Science/main/GreenHillsofAfrica.txt\r\n",
        "!wget https://raw.githubusercontent.com/Esther-Zhou99/Data-Science/main/AcrosstheRiver.txt"
      ],
      "execution_count": 48,
      "outputs": [
        {
          "output_type": "stream",
          "text": [
            "--2021-03-17 11:13:34--  https://raw.githubusercontent.com/Esther-Zhou99/Data-Science/main/oldmansea-book.txt\n",
            "Resolving raw.githubusercontent.com (raw.githubusercontent.com)... 185.199.108.133, 185.199.110.133, 185.199.109.133, ...\n",
            "Connecting to raw.githubusercontent.com (raw.githubusercontent.com)|185.199.108.133|:443... connected.\n",
            "HTTP request sent, awaiting response... 200 OK\n",
            "Length: 134520 (131K) [text/plain]\n",
            "Saving to: ‘oldmansea-book.txt’\n",
            "\n",
            "\roldmansea-book.txt    0%[                    ]       0  --.-KB/s               \roldmansea-book.txt  100%[===================>] 131.37K  --.-KB/s    in 0.008s  \n",
            "\n",
            "2021-03-17 11:13:34 (15.6 MB/s) - ‘oldmansea-book.txt’ saved [134520/134520]\n",
            "\n",
            "--2021-03-17 11:13:34--  https://raw.githubusercontent.com/Esther-Zhou99/Data-Science/main/SunAlsoRises-book.txt\n",
            "Resolving raw.githubusercontent.com (raw.githubusercontent.com)... 185.199.108.133, 185.199.109.133, 185.199.110.133, ...\n",
            "Connecting to raw.githubusercontent.com (raw.githubusercontent.com)|185.199.108.133|:443... connected.\n",
            "HTTP request sent, awaiting response... 200 OK\n",
            "Length: 364529 (356K) [text/plain]\n",
            "Saving to: ‘SunAlsoRises-book.txt’\n",
            "\n",
            "SunAlsoRises-book.t 100%[===================>] 355.99K  --.-KB/s    in 0.02s   \n",
            "\n",
            "2021-03-17 11:13:34 (20.0 MB/s) - ‘SunAlsoRises-book.txt’ saved [364529/364529]\n",
            "\n",
            "--2021-03-17 11:13:34--  https://raw.githubusercontent.com/Esther-Zhou99/Data-Science/main/WinnerTakeNothing.txt\n",
            "Resolving raw.githubusercontent.com (raw.githubusercontent.com)... 185.199.109.133, 185.199.108.133, 185.199.110.133, ...\n",
            "Connecting to raw.githubusercontent.com (raw.githubusercontent.com)|185.199.109.133|:443... connected.\n",
            "HTTP request sent, awaiting response... 200 OK\n",
            "Length: 210020 (205K) [text/plain]\n",
            "Saving to: ‘WinnerTakeNothing.txt’\n",
            "\n",
            "WinnerTakeNothing.t 100%[===================>] 205.10K  --.-KB/s    in 0.01s   \n",
            "\n",
            "2021-03-17 11:13:35 (16.0 MB/s) - ‘WinnerTakeNothing.txt’ saved [210020/210020]\n",
            "\n",
            "--2021-03-17 11:13:35--  https://raw.githubusercontent.com/Esther-Zhou99/Data-Science/main/MenWithoutWomen.txt\n",
            "Resolving raw.githubusercontent.com (raw.githubusercontent.com)... 185.199.109.133, 185.199.108.133, 185.199.110.133, ...\n",
            "Connecting to raw.githubusercontent.com (raw.githubusercontent.com)|185.199.109.133|:443... connected.\n",
            "HTTP request sent, awaiting response... 200 OK\n",
            "Length: 221329 (216K) [text/plain]\n",
            "Saving to: ‘MenWithoutWomen.txt’\n",
            "\n",
            "MenWithoutWomen.txt 100%[===================>] 216.14K  --.-KB/s    in 0.01s   \n",
            "\n",
            "2021-03-17 11:13:35 (15.6 MB/s) - ‘MenWithoutWomen.txt’ saved [221329/221329]\n",
            "\n",
            "--2021-03-17 11:13:35--  https://raw.githubusercontent.com/Esther-Zhou99/Data-Science/main/GreenHillsofAfrica.txt\n",
            "Resolving raw.githubusercontent.com (raw.githubusercontent.com)... 185.199.108.133, 185.199.110.133, 185.199.111.133, ...\n",
            "Connecting to raw.githubusercontent.com (raw.githubusercontent.com)|185.199.108.133|:443... connected.\n",
            "HTTP request sent, awaiting response... 200 OK\n",
            "Length: 357206 (349K) [text/plain]\n",
            "Saving to: ‘GreenHillsofAfrica.txt’\n",
            "\n",
            "GreenHillsofAfrica. 100%[===================>] 348.83K  --.-KB/s    in 0.02s   \n",
            "\n",
            "2021-03-17 11:13:35 (16.0 MB/s) - ‘GreenHillsofAfrica.txt’ saved [357206/357206]\n",
            "\n",
            "--2021-03-17 11:13:36--  https://raw.githubusercontent.com/Esther-Zhou99/Data-Science/main/AcrosstheRiver.txt\n",
            "Resolving raw.githubusercontent.com (raw.githubusercontent.com)... 185.199.110.133, 185.199.108.133, 185.199.111.133, ...\n",
            "Connecting to raw.githubusercontent.com (raw.githubusercontent.com)|185.199.110.133|:443... connected.\n",
            "HTTP request sent, awaiting response... 200 OK\n",
            "Length: 368287 (360K) [text/plain]\n",
            "Saving to: ‘AcrosstheRiver.txt’\n",
            "\n",
            "AcrosstheRiver.txt  100%[===================>] 359.66K  --.-KB/s    in 0.01s   \n",
            "\n",
            "2021-03-17 11:13:36 (23.4 MB/s) - ‘AcrosstheRiver.txt’ saved [368287/368287]\n",
            "\n"
          ],
          "name": "stdout"
        }
      ]
    },
    {
      "cell_type": "code",
      "metadata": {
        "id": "pZ3hTaTb1FV-"
      },
      "source": [
        "novel1= nlp(Path('oldmansea-book.txt').read_text())\r\n",
        "novel2= nlp(Path('SunAlsoRises-book.txt').read_text())\r\n",
        "novel3= nlp(Path('WinnerTakeNothing.txt').read_text())\r\n",
        "novel4= nlp(Path('MenWithoutWomen.txt').read_text())\r\n",
        "novel5= nlp(Path('GreenHillsofAfrica.txt').read_text())\r\n",
        "novel6= nlp(Path('AcrosstheRiver.txt').read_text())"
      ],
      "execution_count": 49,
      "outputs": []
    },
    {
      "cell_type": "code",
      "metadata": {
        "colab": {
          "base_uri": "https://localhost:8080/"
        },
        "id": "pO5o-Jil5Z7I",
        "outputId": "8583e91d-eb29-435b-f441-94d6b9bde704"
      },
      "source": [
        "novel1.similarity(novel2)"
      ],
      "execution_count": 50,
      "outputs": [
        {
          "output_type": "execute_result",
          "data": {
            "text/plain": [
              "0.9886777726540446"
            ]
          },
          "metadata": {
            "tags": []
          },
          "execution_count": 50
        }
      ]
    },
    {
      "cell_type": "code",
      "metadata": {
        "id": "G34dzCG3BN2U",
        "outputId": "9859bd40-416e-4b57-f81a-60325d8b73c7",
        "colab": {
          "base_uri": "https://localhost:8080/"
        }
      },
      "source": [
        "lst=[novel1,novel2,novel3,novel4,novel5,novel6]\r\n",
        "label=['The Old Man and the Sea','The Sun Also Rises','Winner Take Nothing','Men Without Women','Green Hills of Africa','Across the River and Into the Trees']\r\n",
        "data=[]\r\n",
        "for i, text1 in enumerate(label):\r\n",
        "    for j,text2 in enumerate(label):\r\n",
        "        data.append((text1,text2,lst[i].similarity(lst[j])))\r\n",
        "data"
      ],
      "execution_count": 55,
      "outputs": [
        {
          "output_type": "execute_result",
          "data": {
            "text/plain": [
              "[('The Old Man and the Sea', 'The Old Man and the Sea', 1.0),\n",
              " ('The Old Man and the Sea', 'The Sun Also Rises', 0.9886777726540446),\n",
              " ('The Old Man and the Sea', 'Winner Take Nothing', 0.9895178923350563),\n",
              " ('The Old Man and the Sea', 'Men Without Women', 0.9907030946383327),\n",
              " ('The Old Man and the Sea', 'Green Hills of Africa', 0.9933934877170096),\n",
              " ('The Old Man and the Sea',\n",
              "  'Across the River and Into the Trees',\n",
              "  0.986044118882676),\n",
              " ('The Sun Also Rises', 'The Old Man and the Sea', 0.9886777726540446),\n",
              " ('The Sun Also Rises', 'The Sun Also Rises', 1.0),\n",
              " ('The Sun Also Rises', 'Winner Take Nothing', 0.9984967879165995),\n",
              " ('The Sun Also Rises', 'Men Without Women', 0.9988191693029105),\n",
              " ('The Sun Also Rises', 'Green Hills of Africa', 0.991848448823398),\n",
              " ('The Sun Also Rises',\n",
              "  'Across the River and Into the Trees',\n",
              "  0.9911100484725602),\n",
              " ('Winner Take Nothing', 'The Old Man and the Sea', 0.9895178923350563),\n",
              " ('Winner Take Nothing', 'The Sun Also Rises', 0.9984967879165995),\n",
              " ('Winner Take Nothing', 'Winner Take Nothing', 1.0),\n",
              " ('Winner Take Nothing', 'Men Without Women', 0.9978504631198497),\n",
              " ('Winner Take Nothing', 'Green Hills of Africa', 0.9917965948880824),\n",
              " ('Winner Take Nothing',\n",
              "  'Across the River and Into the Trees',\n",
              "  0.9932599579130752),\n",
              " ('Men Without Women', 'The Old Man and the Sea', 0.9907030946383327),\n",
              " ('Men Without Women', 'The Sun Also Rises', 0.9988191693029105),\n",
              " ('Men Without Women', 'Winner Take Nothing', 0.9978504631198497),\n",
              " ('Men Without Women', 'Men Without Women', 1.0),\n",
              " ('Men Without Women', 'Green Hills of Africa', 0.9921023043339576),\n",
              " ('Men Without Women',\n",
              "  'Across the River and Into the Trees',\n",
              "  0.9903312160633578),\n",
              " ('Green Hills of Africa', 'The Old Man and the Sea', 0.9933934877170096),\n",
              " ('Green Hills of Africa', 'The Sun Also Rises', 0.991848448823398),\n",
              " ('Green Hills of Africa', 'Winner Take Nothing', 0.9917965948880824),\n",
              " ('Green Hills of Africa', 'Men Without Women', 0.9921023043339576),\n",
              " ('Green Hills of Africa', 'Green Hills of Africa', 1.0),\n",
              " ('Green Hills of Africa',\n",
              "  'Across the River and Into the Trees',\n",
              "  0.995115478928672),\n",
              " ('Across the River and Into the Trees',\n",
              "  'The Old Man and the Sea',\n",
              "  0.986044118882676),\n",
              " ('Across the River and Into the Trees',\n",
              "  'The Sun Also Rises',\n",
              "  0.9911100484725602),\n",
              " ('Across the River and Into the Trees',\n",
              "  'Winner Take Nothing',\n",
              "  0.9932599579130752),\n",
              " ('Across the River and Into the Trees',\n",
              "  'Men Without Women',\n",
              "  0.9903312160633578),\n",
              " ('Across the River and Into the Trees',\n",
              "  'Green Hills of Africa',\n",
              "  0.995115478928672),\n",
              " ('Across the River and Into the Trees',\n",
              "  'Across the River and Into the Trees',\n",
              "  1.0)]"
            ]
          },
          "metadata": {
            "tags": []
          },
          "execution_count": 55
        }
      ]
    }
  ]
}