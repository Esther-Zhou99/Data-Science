{
  "nbformat": 4,
  "nbformat_minor": 0,
  "metadata": {
    "colab": {
      "name": "HW5-similarity.ipynb",
      "provenance": [],
      "collapsed_sections": [],
      "authorship_tag": "ABX9TyMn/nj+ujlb0Sag3YWrJL7F",
      "include_colab_link": true
    },
    "kernelspec": {
      "name": "python3",
      "display_name": "Python 3"
    }
  },
  "cells": [
    {
      "cell_type": "markdown",
      "metadata": {
        "id": "view-in-github",
        "colab_type": "text"
      },
      "source": [
        "<a href=\"https://colab.research.google.com/github/Esther-Zhou99/Data-Science/blob/main/HW5_similarity.ipynb\" target=\"_parent\"><img src=\"https://colab.research.google.com/assets/colab-badge.svg\" alt=\"Open In Colab\"/></a>"
      ]
    },
    {
      "cell_type": "code",
      "metadata": {
        "colab": {
          "base_uri": "https://localhost:8080/"
        },
        "id": "GbkZjfxJc2Aw",
        "outputId": "c265991c-a562-4a8e-899a-d5fdee074e95"
      },
      "source": [
        "pip install spacy"
      ],
      "execution_count": 40,
      "outputs": [
        {
          "output_type": "stream",
          "text": [
            "Requirement already satisfied: spacy in /usr/local/lib/python3.7/dist-packages (2.2.4)\n",
            "Requirement already satisfied: murmurhash<1.1.0,>=0.28.0 in /usr/local/lib/python3.7/dist-packages (from spacy) (1.0.5)\n",
            "Requirement already satisfied: requests<3.0.0,>=2.13.0 in /usr/local/lib/python3.7/dist-packages (from spacy) (2.23.0)\n",
            "Requirement already satisfied: catalogue<1.1.0,>=0.0.7 in /usr/local/lib/python3.7/dist-packages (from spacy) (1.0.0)\n",
            "Requirement already satisfied: numpy>=1.15.0 in /usr/local/lib/python3.7/dist-packages (from spacy) (1.19.5)\n",
            "Requirement already satisfied: preshed<3.1.0,>=3.0.2 in /usr/local/lib/python3.7/dist-packages (from spacy) (3.0.5)\n",
            "Requirement already satisfied: setuptools in /usr/local/lib/python3.7/dist-packages (from spacy) (54.0.0)\n",
            "Requirement already satisfied: blis<0.5.0,>=0.4.0 in /usr/local/lib/python3.7/dist-packages (from spacy) (0.4.1)\n",
            "Requirement already satisfied: srsly<1.1.0,>=1.0.2 in /usr/local/lib/python3.7/dist-packages (from spacy) (1.0.5)\n",
            "Requirement already satisfied: tqdm<5.0.0,>=4.38.0 in /usr/local/lib/python3.7/dist-packages (from spacy) (4.41.1)\n",
            "Requirement already satisfied: plac<1.2.0,>=0.9.6 in /usr/local/lib/python3.7/dist-packages (from spacy) (1.1.3)\n",
            "Requirement already satisfied: thinc==7.4.0 in /usr/local/lib/python3.7/dist-packages (from spacy) (7.4.0)\n",
            "Requirement already satisfied: cymem<2.1.0,>=2.0.2 in /usr/local/lib/python3.7/dist-packages (from spacy) (2.0.5)\n",
            "Requirement already satisfied: wasabi<1.1.0,>=0.4.0 in /usr/local/lib/python3.7/dist-packages (from spacy) (0.8.2)\n",
            "Requirement already satisfied: idna<3,>=2.5 in /usr/local/lib/python3.7/dist-packages (from requests<3.0.0,>=2.13.0->spacy) (2.10)\n",
            "Requirement already satisfied: urllib3!=1.25.0,!=1.25.1,<1.26,>=1.21.1 in /usr/local/lib/python3.7/dist-packages (from requests<3.0.0,>=2.13.0->spacy) (1.24.3)\n",
            "Requirement already satisfied: certifi>=2017.4.17 in /usr/local/lib/python3.7/dist-packages (from requests<3.0.0,>=2.13.0->spacy) (2020.12.5)\n",
            "Requirement already satisfied: chardet<4,>=3.0.2 in /usr/local/lib/python3.7/dist-packages (from requests<3.0.0,>=2.13.0->spacy) (3.0.4)\n",
            "Requirement already satisfied: importlib-metadata>=0.20; python_version < \"3.8\" in /usr/local/lib/python3.7/dist-packages (from catalogue<1.1.0,>=0.0.7->spacy) (3.7.2)\n",
            "Requirement already satisfied: typing-extensions>=3.6.4; python_version < \"3.8\" in /usr/local/lib/python3.7/dist-packages (from importlib-metadata>=0.20; python_version < \"3.8\"->catalogue<1.1.0,>=0.0.7->spacy) (3.7.4.3)\n",
            "Requirement already satisfied: zipp>=0.5 in /usr/local/lib/python3.7/dist-packages (from importlib-metadata>=0.20; python_version < \"3.8\"->catalogue<1.1.0,>=0.0.7->spacy) (3.4.1)\n"
          ],
          "name": "stdout"
        }
      ]
    },
    {
      "cell_type": "code",
      "metadata": {
        "id": "i27wlb1YNWjk"
      },
      "source": [
        "from pathlib import Path\r\n",
        "import spacy"
      ],
      "execution_count": 41,
      "outputs": []
    },
    {
      "cell_type": "code",
      "metadata": {
        "colab": {
          "base_uri": "https://localhost:8080/"
        },
        "id": "3Xyvu3oLdIoI",
        "outputId": "da694d5f-b73d-4196-c972-b96ef2ce4323"
      },
      "source": [
        "import spacy.cli\r\n",
        "spacy.cli.download(\"en_core_web_lg\")"
      ],
      "execution_count": 42,
      "outputs": [
        {
          "output_type": "stream",
          "text": [
            "\u001b[38;5;2m✔ Download and installation successful\u001b[0m\n",
            "You can now load the model via spacy.load('en_core_web_lg')\n"
          ],
          "name": "stdout"
        }
      ]
    },
    {
      "cell_type": "code",
      "metadata": {
        "id": "r9J73soKcaus"
      },
      "source": [
        "nlp = spacy.load(\"en_core_web_lg\")"
      ],
      "execution_count": 43,
      "outputs": []
    },
    {
      "cell_type": "code",
      "metadata": {
        "colab": {
          "base_uri": "https://localhost:8080/"
        },
        "id": "9AMlbpEO06zG",
        "outputId": "d3fce8eb-892e-4708-8278-5ade464b9ed4"
      },
      "source": [
        "!rm *.txt\r\n",
        "!wget https://raw.githubusercontent.com/Esther-Zhou99/Data-Science/main/oldmansea-book.txt\r\n",
        "!wget https://raw.githubusercontent.com/Esther-Zhou99/Data-Science/main/SunAlsoRises-book.txt\r\n",
        "!wget https://raw.githubusercontent.com/Esther-Zhou99/Data-Science/main/WinnerTakeNothing.txt\r\n",
        "!wget https://raw.githubusercontent.com/Esther-Zhou99/Data-Science/main/MenWithoutWomen.txt\r\n",
        "!wget https://raw.githubusercontent.com/Esther-Zhou99/Data-Science/main/GreenHillsofAfrica.txt\r\n",
        "!wget https://raw.githubusercontent.com/Esther-Zhou99/Data-Science/main/AcrosstheRiver.txt"
      ],
      "execution_count": 48,
      "outputs": [
        {
          "output_type": "stream",
          "text": [
            "--2021-03-17 11:13:34--  https://raw.githubusercontent.com/Esther-Zhou99/Data-Science/main/oldmansea-book.txt\n",
            "Resolving raw.githubusercontent.com (raw.githubusercontent.com)... 185.199.108.133, 185.199.110.133, 185.199.109.133, ...\n",
            "Connecting to raw.githubusercontent.com (raw.githubusercontent.com)|185.199.108.133|:443... connected.\n",
            "HTTP request sent, awaiting response... 200 OK\n",
            "Length: 134520 (131K) [text/plain]\n",
            "Saving to: ‘oldmansea-book.txt’\n",
            "\n",
            "\roldmansea-book.txt    0%[                    ]       0  --.-KB/s               \roldmansea-book.txt  100%[===================>] 131.37K  --.-KB/s    in 0.008s  \n",
            "\n",
            "2021-03-17 11:13:34 (15.6 MB/s) - ‘oldmansea-book.txt’ saved [134520/134520]\n",
            "\n",
            "--2021-03-17 11:13:34--  https://raw.githubusercontent.com/Esther-Zhou99/Data-Science/main/SunAlsoRises-book.txt\n",
            "Resolving raw.githubusercontent.com (raw.githubusercontent.com)... 185.199.108.133, 185.199.109.133, 185.199.110.133, ...\n",
            "Connecting to raw.githubusercontent.com (raw.githubusercontent.com)|185.199.108.133|:443... connected.\n",
            "HTTP request sent, awaiting response... 200 OK\n",
            "Length: 364529 (356K) [text/plain]\n",
            "Saving to: ‘SunAlsoRises-book.txt’\n",
            "\n",
            "SunAlsoRises-book.t 100%[===================>] 355.99K  --.-KB/s    in 0.02s   \n",
            "\n",
            "2021-03-17 11:13:34 (20.0 MB/s) - ‘SunAlsoRises-book.txt’ saved [364529/364529]\n",
            "\n",
            "--2021-03-17 11:13:34--  https://raw.githubusercontent.com/Esther-Zhou99/Data-Science/main/WinnerTakeNothing.txt\n",
            "Resolving raw.githubusercontent.com (raw.githubusercontent.com)... 185.199.109.133, 185.199.108.133, 185.199.110.133, ...\n",
            "Connecting to raw.githubusercontent.com (raw.githubusercontent.com)|185.199.109.133|:443... connected.\n",
            "HTTP request sent, awaiting response... 200 OK\n",
            "Length: 210020 (205K) [text/plain]\n",
            "Saving to: ‘WinnerTakeNothing.txt’\n",
            "\n",
            "WinnerTakeNothing.t 100%[===================>] 205.10K  --.-KB/s    in 0.01s   \n",
            "\n",
            "2021-03-17 11:13:35 (16.0 MB/s) - ‘WinnerTakeNothing.txt’ saved [210020/210020]\n",
            "\n",
            "--2021-03-17 11:13:35--  https://raw.githubusercontent.com/Esther-Zhou99/Data-Science/main/MenWithoutWomen.txt\n",
            "Resolving raw.githubusercontent.com (raw.githubusercontent.com)... 185.199.109.133, 185.199.108.133, 185.199.110.133, ...\n",
            "Connecting to raw.githubusercontent.com (raw.githubusercontent.com)|185.199.109.133|:443... connected.\n",
            "HTTP request sent, awaiting response... 200 OK\n",
            "Length: 221329 (216K) [text/plain]\n",
            "Saving to: ‘MenWithoutWomen.txt’\n",
            "\n",
            "MenWithoutWomen.txt 100%[===================>] 216.14K  --.-KB/s    in 0.01s   \n",
            "\n",
            "2021-03-17 11:13:35 (15.6 MB/s) - ‘MenWithoutWomen.txt’ saved [221329/221329]\n",
            "\n",
            "--2021-03-17 11:13:35--  https://raw.githubusercontent.com/Esther-Zhou99/Data-Science/main/GreenHillsofAfrica.txt\n",
            "Resolving raw.githubusercontent.com (raw.githubusercontent.com)... 185.199.108.133, 185.199.110.133, 185.199.111.133, ...\n",
            "Connecting to raw.githubusercontent.com (raw.githubusercontent.com)|185.199.108.133|:443... connected.\n",
            "HTTP request sent, awaiting response... 200 OK\n",
            "Length: 357206 (349K) [text/plain]\n",
            "Saving to: ‘GreenHillsofAfrica.txt’\n",
            "\n",
            "GreenHillsofAfrica. 100%[===================>] 348.83K  --.-KB/s    in 0.02s   \n",
            "\n",
            "2021-03-17 11:13:35 (16.0 MB/s) - ‘GreenHillsofAfrica.txt’ saved [357206/357206]\n",
            "\n",
            "--2021-03-17 11:13:36--  https://raw.githubusercontent.com/Esther-Zhou99/Data-Science/main/AcrosstheRiver.txt\n",
            "Resolving raw.githubusercontent.com (raw.githubusercontent.com)... 185.199.110.133, 185.199.108.133, 185.199.111.133, ...\n",
            "Connecting to raw.githubusercontent.com (raw.githubusercontent.com)|185.199.110.133|:443... connected.\n",
            "HTTP request sent, awaiting response... 200 OK\n",
            "Length: 368287 (360K) [text/plain]\n",
            "Saving to: ‘AcrosstheRiver.txt’\n",
            "\n",
            "AcrosstheRiver.txt  100%[===================>] 359.66K  --.-KB/s    in 0.01s   \n",
            "\n",
            "2021-03-17 11:13:36 (23.4 MB/s) - ‘AcrosstheRiver.txt’ saved [368287/368287]\n",
            "\n"
          ],
          "name": "stdout"
        }
      ]
    },
    {
      "cell_type": "code",
      "metadata": {
        "id": "pZ3hTaTb1FV-"
      },
      "source": [
        "novel1= nlp(Path('oldmansea-book.txt').read_text())\r\n",
        "novel2= nlp(Path('SunAlsoRises-book.txt').read_text())\r\n",
        "novel3= nlp(Path('WinnerTakeNothing.txt').read_text())\r\n",
        "novel4= nlp(Path('MenWithoutWomen.txt').read_text())\r\n",
        "novel5= nlp(Path('GreenHillsofAfrica.txt').read_text())\r\n",
        "novel6= nlp(Path('AcrosstheRiver.txt').read_text())"
      ],
      "execution_count": 49,
      "outputs": []
    },
    {
      "cell_type": "code",
      "metadata": {
        "colab": {
          "base_uri": "https://localhost:8080/"
        },
        "id": "pO5o-Jil5Z7I",
        "outputId": "8583e91d-eb29-435b-f441-94d6b9bde704"
      },
      "source": [
        "novel1.similarity(novel2)"
      ],
      "execution_count": 50,
      "outputs": [
        {
          "output_type": "execute_result",
          "data": {
            "text/plain": [
              "0.9886777726540446"
            ]
          },
          "metadata": {
            "tags": []
          },
          "execution_count": 50
        }
      ]
    },
    {
      "cell_type": "code",
      "metadata": {
        "colab": {
          "base_uri": "https://localhost:8080/"
        },
        "id": "G34dzCG3BN2U",
        "outputId": "c2d62a5d-8fbc-4654-d195-0418edb3657d"
      },
      "source": [
        "lst=[novel1,novel2,novel3,novel4,novel5,novel6]\r\n",
        "label=['The Old Man and the Sea','The Sun Also Rises','Winner Take Nothing','Men Without Women','Green Hills of Africa','Across the River and Into the Trees']\r\n",
        "dataset=[]\r\n",
        "for i, text1 in enumerate(label):\r\n",
        "    for j,text2 in enumerate(label):\r\n",
        "        dataset.append([text1,text2,lst[i].similarity(lst[j])])\r\n",
        "dataset"
      ],
      "execution_count": 61,
      "outputs": [
        {
          "output_type": "execute_result",
          "data": {
            "text/plain": [
              "[['The Old Man and the Sea', 'The Old Man and the Sea', 1.0],\n",
              " ['The Old Man and the Sea', 'The Sun Also Rises', 0.9886777726540446],\n",
              " ['The Old Man and the Sea', 'Winner Take Nothing', 0.9895178923350563],\n",
              " ['The Old Man and the Sea', 'Men Without Women', 0.9907030946383327],\n",
              " ['The Old Man and the Sea', 'Green Hills of Africa', 0.9933934877170096],\n",
              " ['The Old Man and the Sea',\n",
              "  'Across the River and Into the Trees',\n",
              "  0.986044118882676],\n",
              " ['The Sun Also Rises', 'The Old Man and the Sea', 0.9886777726540446],\n",
              " ['The Sun Also Rises', 'The Sun Also Rises', 1.0],\n",
              " ['The Sun Also Rises', 'Winner Take Nothing', 0.9984967879165995],\n",
              " ['The Sun Also Rises', 'Men Without Women', 0.9988191693029105],\n",
              " ['The Sun Also Rises', 'Green Hills of Africa', 0.991848448823398],\n",
              " ['The Sun Also Rises',\n",
              "  'Across the River and Into the Trees',\n",
              "  0.9911100484725602],\n",
              " ['Winner Take Nothing', 'The Old Man and the Sea', 0.9895178923350563],\n",
              " ['Winner Take Nothing', 'The Sun Also Rises', 0.9984967879165995],\n",
              " ['Winner Take Nothing', 'Winner Take Nothing', 1.0],\n",
              " ['Winner Take Nothing', 'Men Without Women', 0.9978504631198497],\n",
              " ['Winner Take Nothing', 'Green Hills of Africa', 0.9917965948880824],\n",
              " ['Winner Take Nothing',\n",
              "  'Across the River and Into the Trees',\n",
              "  0.9932599579130752],\n",
              " ['Men Without Women', 'The Old Man and the Sea', 0.9907030946383327],\n",
              " ['Men Without Women', 'The Sun Also Rises', 0.9988191693029105],\n",
              " ['Men Without Women', 'Winner Take Nothing', 0.9978504631198497],\n",
              " ['Men Without Women', 'Men Without Women', 1.0],\n",
              " ['Men Without Women', 'Green Hills of Africa', 0.9921023043339576],\n",
              " ['Men Without Women',\n",
              "  'Across the River and Into the Trees',\n",
              "  0.9903312160633578],\n",
              " ['Green Hills of Africa', 'The Old Man and the Sea', 0.9933934877170096],\n",
              " ['Green Hills of Africa', 'The Sun Also Rises', 0.991848448823398],\n",
              " ['Green Hills of Africa', 'Winner Take Nothing', 0.9917965948880824],\n",
              " ['Green Hills of Africa', 'Men Without Women', 0.9921023043339576],\n",
              " ['Green Hills of Africa', 'Green Hills of Africa', 1.0],\n",
              " ['Green Hills of Africa',\n",
              "  'Across the River and Into the Trees',\n",
              "  0.995115478928672],\n",
              " ['Across the River and Into the Trees',\n",
              "  'The Old Man and the Sea',\n",
              "  0.986044118882676],\n",
              " ['Across the River and Into the Trees',\n",
              "  'The Sun Also Rises',\n",
              "  0.9911100484725602],\n",
              " ['Across the River and Into the Trees',\n",
              "  'Winner Take Nothing',\n",
              "  0.9932599579130752],\n",
              " ['Across the River and Into the Trees',\n",
              "  'Men Without Women',\n",
              "  0.9903312160633578],\n",
              " ['Across the River and Into the Trees',\n",
              "  'Green Hills of Africa',\n",
              "  0.995115478928672],\n",
              " ['Across the River and Into the Trees',\n",
              "  'Across the River and Into the Trees',\n",
              "  1.0]]"
            ]
          },
          "metadata": {
            "tags": []
          },
          "execution_count": 61
        }
      ]
    },
    {
      "cell_type": "code",
      "metadata": {
        "id": "qqax7XpTEhtR"
      },
      "source": [
        "import pandas as pd\r\n",
        "column=['book1','book2','value']\r\n",
        "test=pd.DataFrame(columns=column,data=dataset)\r\n",
        "test.to_csv('test.csv') #如果生成excel，可以用to_excel"
      ],
      "execution_count": 65,
      "outputs": []
    },
    {
      "cell_type": "code",
      "metadata": {
        "colab": {
          "base_uri": "https://localhost:8080/",
          "height": 1000
        },
        "id": "4HEtgVvxNPsb",
        "outputId": "0eb59662-49b3-48ee-9e37-0d4bfa57d0c1"
      },
      "source": [
        "data = pd.read_csv(\"test.csv\")\r\n",
        "data"
      ],
      "execution_count": 80,
      "outputs": [
        {
          "output_type": "execute_result",
          "data": {
            "text/html": [
              "<div>\n",
              "<style scoped>\n",
              "    .dataframe tbody tr th:only-of-type {\n",
              "        vertical-align: middle;\n",
              "    }\n",
              "\n",
              "    .dataframe tbody tr th {\n",
              "        vertical-align: top;\n",
              "    }\n",
              "\n",
              "    .dataframe thead th {\n",
              "        text-align: right;\n",
              "    }\n",
              "</style>\n",
              "<table border=\"1\" class=\"dataframe\">\n",
              "  <thead>\n",
              "    <tr style=\"text-align: right;\">\n",
              "      <th></th>\n",
              "      <th>Unnamed: 0</th>\n",
              "      <th>book1</th>\n",
              "      <th>book2</th>\n",
              "      <th>value</th>\n",
              "    </tr>\n",
              "  </thead>\n",
              "  <tbody>\n",
              "    <tr>\n",
              "      <th>0</th>\n",
              "      <td>0</td>\n",
              "      <td>The Old Man and the Sea</td>\n",
              "      <td>The Old Man and the Sea</td>\n",
              "      <td>1.000000</td>\n",
              "    </tr>\n",
              "    <tr>\n",
              "      <th>1</th>\n",
              "      <td>1</td>\n",
              "      <td>The Old Man and the Sea</td>\n",
              "      <td>The Sun Also Rises</td>\n",
              "      <td>0.988678</td>\n",
              "    </tr>\n",
              "    <tr>\n",
              "      <th>2</th>\n",
              "      <td>2</td>\n",
              "      <td>The Old Man and the Sea</td>\n",
              "      <td>Winner Take Nothing</td>\n",
              "      <td>0.989518</td>\n",
              "    </tr>\n",
              "    <tr>\n",
              "      <th>3</th>\n",
              "      <td>3</td>\n",
              "      <td>The Old Man and the Sea</td>\n",
              "      <td>Men Without Women</td>\n",
              "      <td>0.990703</td>\n",
              "    </tr>\n",
              "    <tr>\n",
              "      <th>4</th>\n",
              "      <td>4</td>\n",
              "      <td>The Old Man and the Sea</td>\n",
              "      <td>Green Hills of Africa</td>\n",
              "      <td>0.993393</td>\n",
              "    </tr>\n",
              "    <tr>\n",
              "      <th>5</th>\n",
              "      <td>5</td>\n",
              "      <td>The Old Man and the Sea</td>\n",
              "      <td>Across the River and Into the Trees</td>\n",
              "      <td>0.986044</td>\n",
              "    </tr>\n",
              "    <tr>\n",
              "      <th>6</th>\n",
              "      <td>6</td>\n",
              "      <td>The Sun Also Rises</td>\n",
              "      <td>The Old Man and the Sea</td>\n",
              "      <td>0.988678</td>\n",
              "    </tr>\n",
              "    <tr>\n",
              "      <th>7</th>\n",
              "      <td>7</td>\n",
              "      <td>The Sun Also Rises</td>\n",
              "      <td>The Sun Also Rises</td>\n",
              "      <td>1.000000</td>\n",
              "    </tr>\n",
              "    <tr>\n",
              "      <th>8</th>\n",
              "      <td>8</td>\n",
              "      <td>The Sun Also Rises</td>\n",
              "      <td>Winner Take Nothing</td>\n",
              "      <td>0.998497</td>\n",
              "    </tr>\n",
              "    <tr>\n",
              "      <th>9</th>\n",
              "      <td>9</td>\n",
              "      <td>The Sun Also Rises</td>\n",
              "      <td>Men Without Women</td>\n",
              "      <td>0.998819</td>\n",
              "    </tr>\n",
              "    <tr>\n",
              "      <th>10</th>\n",
              "      <td>10</td>\n",
              "      <td>The Sun Also Rises</td>\n",
              "      <td>Green Hills of Africa</td>\n",
              "      <td>0.991848</td>\n",
              "    </tr>\n",
              "    <tr>\n",
              "      <th>11</th>\n",
              "      <td>11</td>\n",
              "      <td>The Sun Also Rises</td>\n",
              "      <td>Across the River and Into the Trees</td>\n",
              "      <td>0.991110</td>\n",
              "    </tr>\n",
              "    <tr>\n",
              "      <th>12</th>\n",
              "      <td>12</td>\n",
              "      <td>Winner Take Nothing</td>\n",
              "      <td>The Old Man and the Sea</td>\n",
              "      <td>0.989518</td>\n",
              "    </tr>\n",
              "    <tr>\n",
              "      <th>13</th>\n",
              "      <td>13</td>\n",
              "      <td>Winner Take Nothing</td>\n",
              "      <td>The Sun Also Rises</td>\n",
              "      <td>0.998497</td>\n",
              "    </tr>\n",
              "    <tr>\n",
              "      <th>14</th>\n",
              "      <td>14</td>\n",
              "      <td>Winner Take Nothing</td>\n",
              "      <td>Winner Take Nothing</td>\n",
              "      <td>1.000000</td>\n",
              "    </tr>\n",
              "    <tr>\n",
              "      <th>15</th>\n",
              "      <td>15</td>\n",
              "      <td>Winner Take Nothing</td>\n",
              "      <td>Men Without Women</td>\n",
              "      <td>0.997850</td>\n",
              "    </tr>\n",
              "    <tr>\n",
              "      <th>16</th>\n",
              "      <td>16</td>\n",
              "      <td>Winner Take Nothing</td>\n",
              "      <td>Green Hills of Africa</td>\n",
              "      <td>0.991797</td>\n",
              "    </tr>\n",
              "    <tr>\n",
              "      <th>17</th>\n",
              "      <td>17</td>\n",
              "      <td>Winner Take Nothing</td>\n",
              "      <td>Across the River and Into the Trees</td>\n",
              "      <td>0.993260</td>\n",
              "    </tr>\n",
              "    <tr>\n",
              "      <th>18</th>\n",
              "      <td>18</td>\n",
              "      <td>Men Without Women</td>\n",
              "      <td>The Old Man and the Sea</td>\n",
              "      <td>0.990703</td>\n",
              "    </tr>\n",
              "    <tr>\n",
              "      <th>19</th>\n",
              "      <td>19</td>\n",
              "      <td>Men Without Women</td>\n",
              "      <td>The Sun Also Rises</td>\n",
              "      <td>0.998819</td>\n",
              "    </tr>\n",
              "    <tr>\n",
              "      <th>20</th>\n",
              "      <td>20</td>\n",
              "      <td>Men Without Women</td>\n",
              "      <td>Winner Take Nothing</td>\n",
              "      <td>0.997850</td>\n",
              "    </tr>\n",
              "    <tr>\n",
              "      <th>21</th>\n",
              "      <td>21</td>\n",
              "      <td>Men Without Women</td>\n",
              "      <td>Men Without Women</td>\n",
              "      <td>1.000000</td>\n",
              "    </tr>\n",
              "    <tr>\n",
              "      <th>22</th>\n",
              "      <td>22</td>\n",
              "      <td>Men Without Women</td>\n",
              "      <td>Green Hills of Africa</td>\n",
              "      <td>0.992102</td>\n",
              "    </tr>\n",
              "    <tr>\n",
              "      <th>23</th>\n",
              "      <td>23</td>\n",
              "      <td>Men Without Women</td>\n",
              "      <td>Across the River and Into the Trees</td>\n",
              "      <td>0.990331</td>\n",
              "    </tr>\n",
              "    <tr>\n",
              "      <th>24</th>\n",
              "      <td>24</td>\n",
              "      <td>Green Hills of Africa</td>\n",
              "      <td>The Old Man and the Sea</td>\n",
              "      <td>0.993393</td>\n",
              "    </tr>\n",
              "    <tr>\n",
              "      <th>25</th>\n",
              "      <td>25</td>\n",
              "      <td>Green Hills of Africa</td>\n",
              "      <td>The Sun Also Rises</td>\n",
              "      <td>0.991848</td>\n",
              "    </tr>\n",
              "    <tr>\n",
              "      <th>26</th>\n",
              "      <td>26</td>\n",
              "      <td>Green Hills of Africa</td>\n",
              "      <td>Winner Take Nothing</td>\n",
              "      <td>0.991797</td>\n",
              "    </tr>\n",
              "    <tr>\n",
              "      <th>27</th>\n",
              "      <td>27</td>\n",
              "      <td>Green Hills of Africa</td>\n",
              "      <td>Men Without Women</td>\n",
              "      <td>0.992102</td>\n",
              "    </tr>\n",
              "    <tr>\n",
              "      <th>28</th>\n",
              "      <td>28</td>\n",
              "      <td>Green Hills of Africa</td>\n",
              "      <td>Green Hills of Africa</td>\n",
              "      <td>1.000000</td>\n",
              "    </tr>\n",
              "    <tr>\n",
              "      <th>29</th>\n",
              "      <td>29</td>\n",
              "      <td>Green Hills of Africa</td>\n",
              "      <td>Across the River and Into the Trees</td>\n",
              "      <td>0.995115</td>\n",
              "    </tr>\n",
              "    <tr>\n",
              "      <th>30</th>\n",
              "      <td>30</td>\n",
              "      <td>Across the River and Into the Trees</td>\n",
              "      <td>The Old Man and the Sea</td>\n",
              "      <td>0.986044</td>\n",
              "    </tr>\n",
              "    <tr>\n",
              "      <th>31</th>\n",
              "      <td>31</td>\n",
              "      <td>Across the River and Into the Trees</td>\n",
              "      <td>The Sun Also Rises</td>\n",
              "      <td>0.991110</td>\n",
              "    </tr>\n",
              "    <tr>\n",
              "      <th>32</th>\n",
              "      <td>32</td>\n",
              "      <td>Across the River and Into the Trees</td>\n",
              "      <td>Winner Take Nothing</td>\n",
              "      <td>0.993260</td>\n",
              "    </tr>\n",
              "    <tr>\n",
              "      <th>33</th>\n",
              "      <td>33</td>\n",
              "      <td>Across the River and Into the Trees</td>\n",
              "      <td>Men Without Women</td>\n",
              "      <td>0.990331</td>\n",
              "    </tr>\n",
              "    <tr>\n",
              "      <th>34</th>\n",
              "      <td>34</td>\n",
              "      <td>Across the River and Into the Trees</td>\n",
              "      <td>Green Hills of Africa</td>\n",
              "      <td>0.995115</td>\n",
              "    </tr>\n",
              "    <tr>\n",
              "      <th>35</th>\n",
              "      <td>35</td>\n",
              "      <td>Across the River and Into the Trees</td>\n",
              "      <td>Across the River and Into the Trees</td>\n",
              "      <td>1.000000</td>\n",
              "    </tr>\n",
              "  </tbody>\n",
              "</table>\n",
              "</div>"
            ],
            "text/plain": [
              "    Unnamed: 0  ...     value\n",
              "0            0  ...  1.000000\n",
              "1            1  ...  0.988678\n",
              "2            2  ...  0.989518\n",
              "3            3  ...  0.990703\n",
              "4            4  ...  0.993393\n",
              "5            5  ...  0.986044\n",
              "6            6  ...  0.988678\n",
              "7            7  ...  1.000000\n",
              "8            8  ...  0.998497\n",
              "9            9  ...  0.998819\n",
              "10          10  ...  0.991848\n",
              "11          11  ...  0.991110\n",
              "12          12  ...  0.989518\n",
              "13          13  ...  0.998497\n",
              "14          14  ...  1.000000\n",
              "15          15  ...  0.997850\n",
              "16          16  ...  0.991797\n",
              "17          17  ...  0.993260\n",
              "18          18  ...  0.990703\n",
              "19          19  ...  0.998819\n",
              "20          20  ...  0.997850\n",
              "21          21  ...  1.000000\n",
              "22          22  ...  0.992102\n",
              "23          23  ...  0.990331\n",
              "24          24  ...  0.993393\n",
              "25          25  ...  0.991848\n",
              "26          26  ...  0.991797\n",
              "27          27  ...  0.992102\n",
              "28          28  ...  1.000000\n",
              "29          29  ...  0.995115\n",
              "30          30  ...  0.986044\n",
              "31          31  ...  0.991110\n",
              "32          32  ...  0.993260\n",
              "33          33  ...  0.990331\n",
              "34          34  ...  0.995115\n",
              "35          35  ...  1.000000\n",
              "\n",
              "[36 rows x 4 columns]"
            ]
          },
          "metadata": {
            "tags": []
          },
          "execution_count": 80
        }
      ]
    },
    {
      "cell_type": "code",
      "metadata": {
        "colab": {
          "base_uri": "https://localhost:8080/",
          "height": 581
        },
        "id": "0zDHJuKfNzOx",
        "outputId": "f790dc49-fcfb-4eee-8e79-0f2a8bb80e67"
      },
      "source": [
        "import matplotlib.pyplot as plt\r\n",
        "import seaborn as sns\r\n",
        "sns.set_theme()\r\n",
        "\r\n",
        "flights = data.pivot(\"book1\", \"book2\", \"value\")\r\n",
        "\r\n",
        "# Draw a heatmap with the numeric values in each cell\r\n",
        "f, ax = plt.subplots(figsize=(9, 6))\r\n",
        "fig=sns.heatmap(flights, annot=True, fmt='.4g', ax=ax, square=True)\r\n",
        "fig = plt.gcf()\r\n",
        "plt.show()\r\n",
        "fig.savefig('test.png', dpi=600, bbox_inches = 'tight')"
      ],
      "execution_count": 93,
      "outputs": [
        {
          "output_type": "display_data",
          "data": {
            "image/png": "[encoded data removed]",
            "text/plain": [
              "<Figure size 648x432 with 2 Axes>"
            ]
          },
          "metadata": {
            "tags": []
          }
        }
      ]
    }
  ]
}