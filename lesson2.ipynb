{
  "nbformat": 4,
  "nbformat_minor": 0,
  "metadata": {
    "colab": {
      "name": "lesson2.ipynb",
      "provenance": [],
      "authorship_tag": "ABX9TyMjSaQ9hkCSwN0MstxlQynn",
      "include_colab_link": true
    },
    "kernelspec": {
      "name": "python3",
      "display_name": "Python 3"
    }
  },
  "cells": [
    {
      "cell_type": "markdown",
      "metadata": {
        "id": "view-in-github",
        "colab_type": "text"
      },
      "source": [
        "<a href=\"https://colab.research.google.com/github/Esther-Zhou99/Data-Science/blob/main/lesson2.ipynb\" target=\"_parent\"><img src=\"https://colab.research.google.com/assets/colab-badge.svg\" alt=\"Open In Colab\"/></a>"
      ]
    },
    {
      "cell_type": "markdown",
      "metadata": {
        "id": "sypTsUr3byBj"
      },
      "source": [
        "# **Ingest Data**"
      ]
    },
    {
      "cell_type": "markdown",
      "metadata": {
        "id": "pLYhBJgNb-YO"
      },
      "source": [
        "**This will download the book**"
      ]
    },
    {
      "cell_type": "code",
      "metadata": {
        "colab": {
          "base_uri": "https://localhost:8080/"
        },
        "id": "VEgfhEAhbxYT",
        "outputId": "134719d4-6731-4c57-f7c6-724165b9c10c"
      },
      "source": [
        "!wget https://raw.githubusercontent.com/Esther-Zhou99/Data-Science/main/oldmansea-book.txt"
      ],
      "execution_count": 4,
      "outputs": [
        {
          "output_type": "stream",
          "text": [
            "--2021-02-24 14:31:49--  https://raw.githubusercontent.com/Esther-Zhou99/Data-Science/main/oldmansea-book.txt\n",
            "Resolving raw.githubusercontent.com (raw.githubusercontent.com)... 185.199.109.133, 185.199.108.133, 185.199.111.133, ...\n",
            "Connecting to raw.githubusercontent.com (raw.githubusercontent.com)|185.199.109.133|:443... connected.\n",
            "HTTP request sent, awaiting response... 200 OK\n",
            "Length: 134520 (131K) [text/plain]\n",
            "Saving to: ‘oldmansea-book.txt’\n",
            "\n",
            "oldmansea-book.txt  100%[===================>] 131.37K  --.-KB/s    in 0.009s  \n",
            "\n",
            "2021-02-24 14:31:49 (13.7 MB/s) - ‘oldmansea-book.txt’ saved [134520/134520]\n",
            "\n"
          ],
          "name": "stdout"
        }
      ]
    },
    {
      "cell_type": "code",
      "metadata": {
        "colab": {
          "base_uri": "https://localhost:8080/"
        },
        "id": "BDqggG2RdFL7",
        "outputId": "a6fe9816-71a7-4bcb-89de-cf0494791478"
      },
      "source": [
        "!head oldmansea-book.txt"
      ],
      "execution_count": 6,
      "outputs": [
        {
          "output_type": "stream",
          "text": [
            "THE OLD MAN AND THE SEA\n",
            "\n",
            "\n",
            "\n",
            "\n",
            "He was an old man who fished alone in a skiff in the Gulf Stream and he\n",
            "had gone eighty-four days now without taking a fish.  In the first\n",
            "forty days a boy had been with him.  But after forty days without a\n",
            "fish the boy's parents had told him that the old man was now definitely\n",
            "and finally _salao_, which is the worst form of unlucky, and the boy\n"
          ],
          "name": "stdout"
        }
      ]
    },
    {
      "cell_type": "code",
      "metadata": {
        "colab": {
          "base_uri": "https://localhost:8080/"
        },
        "id": "ZPDLiL3CdTgd",
        "outputId": "692a1177-0e4c-4b8c-de18-ba74e2c36302"
      },
      "source": [
        "!tail oldmansea-book.txt"
      ],
      "execution_count": 7,
      "outputs": [
        {
          "output_type": "stream",
          "text": [
            "\"Tiburon,\" the waiter said, \"Eshark.\"  He was meaning to explain what\n",
            "had happened.\n",
            "\n",
            "\"I didn't know sharks had such handsome, beautifully formed tails.\"\n",
            "\n",
            "\"I didn't either,\" her male companion said.\n",
            "\n",
            "Up the road, in his shack, the old man was sleeping again.  He was\n",
            "still sleeping on his face and the boy was sitting by him watching him.\n",
            "The old man was dreaming about the lions.\n"
          ],
          "name": "stdout"
        }
      ]
    }
  ]
}