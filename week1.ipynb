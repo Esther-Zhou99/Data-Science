{
  "nbformat": 4,
  "nbformat_minor": 0,
  "metadata": {
    "colab": {
      "name": "week1.ipynb",
      "provenance": [],
      "authorship_tag": "ABX9TyM4JlDuPPgVbzefDHdvJ8tK",
      "include_colab_link": true
    },
    "kernelspec": {
      "display_name": "Python 3",
      "name": "python3"
    }
  },
  "cells": [
    {
      "cell_type": "markdown",
      "metadata": {
        "id": "view-in-github",
        "colab_type": "text"
      },
      "source": [
        "<a href=\"https://colab.research.google.com/github/Esther-Zhou99/Data-Science/blob/main/week1.ipynb\" target=\"_parent\"><img src=\"https://colab.research.google.com/assets/colab-badge.svg\" alt=\"Open In Colab\"/></a>"
      ]
    },
    {
      "cell_type": "code",
      "metadata": {
        "colab": {
          "base_uri": "https://localhost:8080/"
        },
        "id": "rEVuBDCuwPZG",
        "outputId": "0ff4be0d-0bf8-47ef-f643-e70cbfc9b863"
      },
      "source": [
        "import re\r\n",
        "def names():\r\n",
        "    simple_string = \"\"\"Amy is 5 years old, and her sister Mary is 2 years old. \r\n",
        "    Ruth and Peter, their parents, have 3 kids.\"\"\"\r\n",
        " # YOUR CODE HERE\r\n",
        "    names = re.findall(r'[A-Z]\\w+',simple_string)\r\n",
        "    return names\r\n",
        "    raise NotImplementedError()\r\n",
        "names()"
      ],
      "execution_count": null,
      "outputs": [
        {
          "output_type": "execute_result",
          "data": {
            "text/plain": [
              "['Amy', 'Mary', 'Ruth', 'Peter']"
            ]
          },
          "metadata": {
            "tags": []
          },
          "execution_count": 35
        }
      ]
    },
    {
      "cell_type": "code",
      "metadata": {
        "colab": {
          "base_uri": "https://localhost:8080/"
        },
        "id": "EW5XZxQWxl14",
        "outputId": "4a38109d-c7f6-477b-9aee-ba827af8a632"
      },
      "source": [
        "import re\r\n",
        "def grades():\r\n",
        "    with open (\"grades.txt\", \"r\") as file:\r\n",
        "        grades = file.read()\r\n",
        "\r\n",
        "    # YOUR CODE HERE\r\n",
        "        names=re.findall(\"([A-Z].*)\\: B\",grades)\r\n",
        "    return names\r\n",
        "    raise NotImplementedError()\r\n",
        "grades()"
      ],
      "execution_count": null,
      "outputs": [
        {
          "output_type": "execute_result",
          "data": {
            "text/plain": [
              "['Bell Kassulke',\n",
              " 'Simon Loidl',\n",
              " 'Elias Jovanovic',\n",
              " 'Hakim Botros',\n",
              " 'Emilie Lorentsen',\n",
              " 'Jake Wood',\n",
              " 'Fatemeh Akhtar',\n",
              " 'Kim Weston',\n",
              " 'Yasmin Dar',\n",
              " 'Viswamitra Upandhye',\n",
              " 'Killian Kaufman',\n",
              " 'Elwood Page',\n",
              " 'Elodie Booker',\n",
              " 'Adnan Chen',\n",
              " 'Hank Spinka',\n",
              " 'Hannah Bayer']"
            ]
          },
          "metadata": {
            "tags": []
          },
          "execution_count": 57
        }
      ]
    },
    {
      "cell_type": "code",
      "metadata": {
        "colab": {
          "base_uri": "https://localhost:8080/"
        },
        "id": "VDI_kJPZgoRp",
        "outputId": "156f297b-c00e-4c65-ba0c-64c4da58a432"
      },
      "source": [
        "import re\r\n",
        "def logs():\r\n",
        "    with open(\"logdata.txt\", \"r\") as file:\r\n",
        "        logdata = file.read()\r\n",
        "    \r\n",
        "    # YOUR CODE HERE\r\n",
        "    dict=[]\r\n",
        "    pattern='''\r\n",
        "    (?P<host>\\d*\\.\\d*\\.\\d*\\.\\d*)(\\ \\-\\ )\r\n",
        "    (?P<user_name>\\w*|-)(\\ \\[)\r\n",
        "    (?P<time>\\d*\\/\\w*\\/\\d*:\\d*:\\d*:\\d*\\ \\-\\d*)(\\]\\ \\\")\r\n",
        "    (?P<request>.*)(\\\" \\d*)\r\n",
        "    '''\r\n",
        "    log=re.finditer(pattern, logdata, re.VERBOSE)\r\n",
        "    for line in log:\r\n",
        "        dict.append(line.groupdict())\r\n",
        "    return dict\r\n",
        "    raise NotImplementedError()\r\n",
        "logs()[0]"
      ],
      "execution_count": null,
      "outputs": [
        {
          "output_type": "execute_result",
          "data": {
            "text/plain": [
              "{'host': '146.204.224.152',\n",
              " 'request': 'POST /incentivize HTTP/1.1',\n",
              " 'time': '21/Jun/2019:15:45:24 -0700',\n",
              " 'user_name': 'feest6811'}"
            ]
          },
          "metadata": {
            "tags": []
          },
          "execution_count": 6
        }
      ]
    },
    {
      "cell_type": "code",
      "metadata": {
        "id": "NLjYrhJw56if",
        "outputId": "816123ed-e176-46c7-9b79-88b5ca3f6dbc",
        "colab": {
          "base_uri": "https://localhost:8080/"
        }
      },
      "source": [
        "import re\r\n",
        "def logs():\r\n",
        "    with open(\"logdata.txt\", \"r\") as file:\r\n",
        "        logdata = file.read()\r\n",
        "    \r\n",
        "    # YOUR CODE HERE\r\n",
        "    dict1=[]\r\n",
        "    dict=[]\r\n",
        "    pattern='''\r\n",
        "    (?P<host>\\d*\\.\\d*\\.\\d*\\.\\d*)(\\ \\-\\ )\r\n",
        "    (?P<user_name>\\w*|-)(\\ \\[)\r\n",
        "    (?P<time>\\d*\\/\\w*\\/\\d*:\\d*:\\d*:\\d*\\ \\-\\d*)(\\])\r\n",
        "    (?P<request>.*)(\\\"\\ \\d*)\r\n",
        "    '''\r\n",
        "    log=re.finditer(pattern, logdata,re.VERBOSE)\r\n",
        "    for line in log:\r\n",
        "        dict1.append(line.groupdict())\r\n",
        "\r\n",
        "    from collections import OrderedDict\r\n",
        "    monitorItems = OrderedDict()\r\n",
        "    alist = ['host','user_name','time','request']\r\n",
        "    for item in dict1:\r\n",
        "        for key in alist:\r\n",
        "            if item.get(key) is not None:\r\n",
        "                monitorItems[key] = item.get(key)\r\n",
        "                dict.append(monitorItems)\r\n",
        "    return dict\r\n",
        "    raise NotImplementedError()\r\n",
        "logs()[0]"
      ],
      "execution_count": 7,
      "outputs": [
        {
          "output_type": "execute_result",
          "data": {
            "text/plain": [
              "OrderedDict([('host', '30.95.91.251'),\n",
              "             ('user_name', 'larson8319'),\n",
              "             ('time', '21/Jun/2019:16:02:02 -0700'),\n",
              "             ('request', ' \"PUT /one-to-one/whiteboard HTTP/1.0')])"
            ]
          },
          "metadata": {
            "tags": []
          },
          "execution_count": 7
        }
      ]
    }
  ]
}